{
 "cells": [
  {
   "cell_type": "code",
   "execution_count": 1,
   "id": "bc3a0142-e998-4190-b895-9b94566f013a",
   "metadata": {},
   "outputs": [],
   "source": [
    "import numpy as np"
   ]
  },
  {
   "cell_type": "code",
   "execution_count": 2,
   "id": "69f5ccdd-bea2-4937-8ecf-ea32ec57f50d",
   "metadata": {},
   "outputs": [
    {
     "data": {
      "text/plain": [
       "array([[37, 44, 46],\n",
       "       [30, 94, 71],\n",
       "       [71, 60, 91],\n",
       "       [21, 99, 15],\n",
       "       [31, 60, 97],\n",
       "       [70, 96, 71],\n",
       "       [95, 36, 23],\n",
       "       [69,  5, 88],\n",
       "       [41, 27, 87],\n",
       "       [20, 60, 30]])"
      ]
     },
     "execution_count": 2,
     "metadata": {},
     "output_type": "execute_result"
    }
   ],
   "source": [
    "numpy_array = np.random.randint(1, 100, size=(10, 3))\n",
    "numpy_array"
   ]
  }
 ],
 "metadata": {
  "kernelspec": {
   "display_name": "Python 3 (ipykernel)",
   "language": "python",
   "name": "python3"
  },
  "language_info": {
   "codemirror_mode": {
    "name": "ipython",
    "version": 3
   },
   "file_extension": ".py",
   "mimetype": "text/x-python",
   "name": "python",
   "nbconvert_exporter": "python",
   "pygments_lexer": "ipython3",
   "version": "3.9.18"
  }
 },
 "nbformat": 4,
 "nbformat_minor": 5
}
