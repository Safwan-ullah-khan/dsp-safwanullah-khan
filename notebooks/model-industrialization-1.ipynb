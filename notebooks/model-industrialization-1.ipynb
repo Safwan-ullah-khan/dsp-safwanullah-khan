{
 "cells": [
  {
   "cell_type": "code",
   "execution_count": 3,
   "id": "c601ac8c",
   "metadata": {
    "scrolled": true,
    "ExecuteTime": {
     "end_time": "2023-10-27T10:08:04.332808100Z",
     "start_time": "2023-10-27T10:08:04.289808400Z"
    }
   },
   "outputs": [
    {
     "name": "stderr",
     "output_type": "stream",
     "text": [
      "'ls' is not recognized as an internal or external command,\n",
      "operable program or batch file.\n"
     ]
    }
   ],
   "source": [
    "!ls ../data/house-prices/"
   ]
  },
  {
   "cell_type": "code",
   "execution_count": 30,
   "id": "560796c2",
   "metadata": {
    "ExecuteTime": {
     "end_time": "2023-10-27T13:05:54.890177700Z",
     "start_time": "2023-10-27T13:05:54.875170100Z"
    }
   },
   "outputs": [],
   "source": [
    "import pandas as pd\n",
    "import joblib\n",
    "from sklearn.model_selection import train_test_split\n",
    "import numpy as np\n",
    "from sklearn.metrics import mean_squared_log_error\n"
   ]
  },
  {
   "cell_type": "markdown",
   "id": "e3e27fd8",
   "metadata": {},
   "source": [
    "# Model Building"
   ]
  },
  {
   "cell_type": "markdown",
   "id": "4dc3d6a7-793e-468a-b24a-97dbd2f21157",
   "metadata": {},
   "source": [
    "## Model Training"
   ]
  },
  {
   "cell_type": "markdown",
   "id": "c16d2f07-6cf3-4eac-b2d7-c60468326424",
   "metadata": {},
   "source": [
    "### Read Data"
   ]
  },
  {
   "cell_type": "code",
   "execution_count": 89,
   "id": "3fb42705",
   "metadata": {
    "ExecuteTime": {
     "end_time": "2023-10-27T15:27:06.345334100Z",
     "start_time": "2023-10-27T15:27:06.329336700Z"
    }
   },
   "outputs": [],
   "source": [
    "DATA_PATH = '../data/house-prices/'\n",
    "DATASET_PATH = DATA_PATH + 'train.csv'\n",
    "label_col = 'SalePrice'"
   ]
  },
  {
   "cell_type": "code",
   "execution_count": 90,
   "id": "d44fed04",
   "metadata": {
    "scrolled": true,
    "ExecuteTime": {
     "end_time": "2023-10-27T15:27:07.915740700Z",
     "start_time": "2023-10-27T15:27:07.888615900Z"
    }
   },
   "outputs": [],
   "source": [
    "df = pd.read_csv(DATASET_PATH)"
   ]
  },
  {
   "cell_type": "markdown",
   "id": "896f6d3d",
   "metadata": {},
   "source": [
    "### Filter useless columns"
   ]
  },
  {
   "cell_type": "code",
   "execution_count": 91,
   "id": "dcb2498f",
   "metadata": {
    "ExecuteTime": {
     "end_time": "2023-10-27T15:27:10.263471400Z",
     "start_time": "2023-10-27T15:27:10.251477400Z"
    }
   },
   "outputs": [],
   "source": [
    "useful_features = ['Foundation', 'KitchenQual', 'TotRmsAbvGrd', 'WoodDeckSF', 'YrSold', '1stFlrSF']"
   ]
  },
  {
   "cell_type": "markdown",
   "id": "c59e0eac-9983-4a7f-85c1-7367bbd7de41",
   "metadata": {},
   "source": [
    "### Missing Values Check"
   ]
  },
  {
   "cell_type": "code",
   "execution_count": 9,
   "id": "7f3c349a-1e1d-44eb-8e7f-9740c55aaede",
   "metadata": {
    "ExecuteTime": {
     "end_time": "2023-10-27T10:08:34.649569600Z",
     "start_time": "2023-10-27T10:08:34.622572300Z"
    }
   },
   "outputs": [
    {
     "name": "stdout",
     "output_type": "stream",
     "text": [
      "<class 'pandas.core.frame.DataFrame'>\n",
      "RangeIndex: 1460 entries, 0 to 1459\n",
      "Data columns (total 6 columns):\n",
      " #   Column        Non-Null Count  Dtype \n",
      "---  ------        --------------  ----- \n",
      " 0   Foundation    1460 non-null   object\n",
      " 1   KitchenQual   1460 non-null   object\n",
      " 2   TotRmsAbvGrd  1460 non-null   int64 \n",
      " 3   WoodDeckSF    1460 non-null   int64 \n",
      " 4   YrSold        1460 non-null   int64 \n",
      " 5   1stFlrSF      1460 non-null   int64 \n",
      "dtypes: int64(4), object(2)\n",
      "memory usage: 68.6+ KB\n"
     ]
    }
   ],
   "source": [
    "df[useful_features].info()"
   ]
  },
  {
   "cell_type": "code",
   "execution_count": 92,
   "outputs": [],
   "source": [
    "loaded_scaler = joblib.load('../models/scaler.joblib')\n",
    "loaded_encoder = joblib.load('../models/encoder.joblib')\n",
    "loaded_model = joblib.load('../models/model.joblib')"
   ],
   "metadata": {
    "collapsed": false,
    "ExecuteTime": {
     "end_time": "2023-10-27T15:27:22.471285400Z",
     "start_time": "2023-10-27T15:27:22.456286300Z"
    }
   },
   "id": "6f857e6796f492bb"
  },
  {
   "cell_type": "markdown",
   "source": [
    "### Drop Duplicates"
   ],
   "metadata": {
    "collapsed": false
   },
   "id": "3d1040fe34ed5c3"
  },
  {
   "cell_type": "code",
   "execution_count": 93,
   "outputs": [],
   "source": [
    "#### Duplicates Drop function\n",
    "\n",
    "def drop_duplicates(data: pd.DataFrame) -> pd.DataFrame:\n",
    "    data = data[~data[useful_features].duplicated(keep='first')]\n",
    "    data = data.reset_index(drop=True)\n",
    "    return data\n"
   ],
   "metadata": {
    "collapsed": false,
    "ExecuteTime": {
     "end_time": "2023-10-27T15:27:26.844794700Z",
     "start_time": "2023-10-27T15:27:26.837797Z"
    }
   },
   "id": "8cfedecf9217c1f2"
  },
  {
   "cell_type": "markdown",
   "id": "e1fe37c3-463d-458d-b267-20d14dd3d3c4",
   "metadata": {},
   "source": [
    "### Dataset Split"
   ]
  },
  {
   "cell_type": "code",
   "execution_count": 94,
   "outputs": [],
   "source": [
    "#### Dataset Split function\n",
    "\n",
    "def dataset_train_test_split(\n",
    "    data: pd.DataFrame,\n",
    "    test_size: float = 0.33,\n",
    "    random_state: int = 42) -> tuple[pd.DataFrame, pd.DataFrame, pd.Series, pd.Series]:\n",
    "    features, target = data.drop(columns=[label_col]), data[label_col]\n",
    "    x_train, x_test, y_train, y_test = train_test_split(data, target, test_size=test_size, random_state=random_state)\n",
    "    return x_train[useful_features], x_test[useful_features],y_train, y_test \n",
    "    "
   ],
   "metadata": {
    "collapsed": false,
    "ExecuteTime": {
     "end_time": "2023-10-27T15:27:29.331555300Z",
     "start_time": "2023-10-27T15:27:29.317554500Z"
    }
   },
   "id": "b8bb8b17e7592e23"
  },
  {
   "cell_type": "markdown",
   "source": [
    "### Preprocessing function steps"
   ],
   "metadata": {
    "collapsed": false
   },
   "id": "502f92c576d85af9"
  },
  {
   "cell_type": "code",
   "execution_count": 95,
   "outputs": [],
   "source": [
    "#### Standard scaling function\n",
    "\n",
    "def scaler_func(data: pd.DataFrame)-> pd.DataFrame:\n",
    "    continuous_columns = df[useful_features].select_dtypes(include='number').columns\n",
    "    scaled_columns = loaded_scaler.transform(data[continuous_columns])\n",
    "    continuous_features_df = pd.DataFrame(data=scaled_columns, columns=continuous_columns)\n",
    "    return continuous_features_df\n"
   ],
   "metadata": {
    "collapsed": false,
    "ExecuteTime": {
     "end_time": "2023-10-27T15:27:32.261151500Z",
     "start_time": "2023-10-27T15:27:32.251150100Z"
    }
   },
   "id": "a619945dbc9c2858"
  },
  {
   "cell_type": "code",
   "execution_count": 96,
   "outputs": [],
   "source": [
    "#### One hot encoding function\n",
    "\n",
    "def encoder_func(data: pd.DataFrame)-> pd.DataFrame:\n",
    "    categorical_columns = df[useful_features].select_dtypes(include='object').columns\n",
    "    categorical_columns_list = categorical_columns.tolist()\n",
    "    labels = loaded_encoder.get_feature_names_out(categorical_columns_list)\n",
    "    encoded_data = loaded_encoder.transform(data[categorical_columns_list]).toarray()\n",
    "    categorical_features_df = pd.DataFrame(data=encoded_data, columns=labels)\n",
    "    return categorical_features_df\n"
   ],
   "metadata": {
    "collapsed": false,
    "ExecuteTime": {
     "end_time": "2023-10-27T15:27:34.882965100Z",
     "start_time": "2023-10-27T15:27:34.872422300Z"
    }
   },
   "id": "d5c42735bae64e73"
  },
  {
   "cell_type": "code",
   "execution_count": 97,
   "outputs": [],
   "source": [
    "#### Function to join continuous scaled and categorical scaled datasets\n",
    "\n",
    "def join_df(df1: pd.DataFrame, df2: pd.DataFrame)->pd.DataFrame:\n",
    "    final_df = df1.join(df2)\n",
    "    return final_df"
   ],
   "metadata": {
    "collapsed": false,
    "ExecuteTime": {
     "end_time": "2023-10-27T15:27:38.120190100Z",
     "start_time": "2023-10-27T15:27:38.112593Z"
    }
   },
   "id": "116544184bf60437"
  },
  {
   "cell_type": "code",
   "execution_count": 98,
   "outputs": [],
   "source": [
    "#### Preprocessing function which scales, encodes and rejoins the dataset\n",
    "\n",
    "def preprocessor_func(data: pd.DataFrame)-> pd.DataFrame:\n",
    "    continuous_features_df = scaler_func(data)\n",
    "    categorical_features_df = encoder_func(data)\n",
    "    final_df = join_df(continuous_features_df, categorical_features_df)\n",
    "    return final_df    \n",
    "\n"
   ],
   "metadata": {
    "collapsed": false,
    "ExecuteTime": {
     "end_time": "2023-10-27T15:27:41.003946Z",
     "start_time": "2023-10-27T15:27:40.992467700Z"
    }
   },
   "id": "58f1fb451d88455e"
  },
  {
   "cell_type": "markdown",
   "id": "198ebdb7",
   "metadata": {},
   "source": [
    "## Model evaluation"
   ]
  },
  {
   "cell_type": "code",
   "execution_count": 99,
   "id": "8a1cd39b",
   "metadata": {
    "ExecuteTime": {
     "end_time": "2023-10-27T15:27:43.630346500Z",
     "start_time": "2023-10-27T15:27:43.619352100Z"
    }
   },
   "outputs": [],
   "source": [
    "#### model evaluation function\n",
    "\n",
    "def compute_rmse(\n",
    "        y_test: np.ndarray, \n",
    "        y_pred: np.ndarray, \n",
    "        precision: int = 2\n",
    "        ) -> float:\n",
    "    rmse = np.sqrt(mean_squared_log_error(y_test, y_pred))\n",
    "    return round(rmse, precision)\n"
   ]
  },
  {
   "cell_type": "code",
   "execution_count": 102,
   "outputs": [],
   "source": [
    "#### Function for the model training part\n",
    "\n",
    "def build_model(data: pd.DataFrame):\n",
    "    df = drop_duplicates(data)\n",
    "    X_train, X_test,y_train, y_test = dataset_train_test_split(df)\n",
    "    final_train_df = preprocessor_func(X_train)\n",
    "    final_test_df = preprocessor_func(X_test)\n",
    "    y_pred = loaded_model.predict(final_test_df)\n",
    "    y_pred[y_pred < 0] = 0\n",
    "    rmse = compute_rmse(y_test, y_pred)\n",
    "    return {'rmse': rmse}\n"
   ],
   "metadata": {
    "collapsed": false,
    "ExecuteTime": {
     "end_time": "2023-10-27T15:58:24.570188700Z",
     "start_time": "2023-10-27T15:58:24.551688700Z"
    }
   },
   "id": "8d1d46a5bc5bd3c7"
  },
  {
   "cell_type": "code",
   "execution_count": 103,
   "outputs": [
    {
     "data": {
      "text/plain": "{'rmse': 0.54}"
     },
     "execution_count": 103,
     "metadata": {},
     "output_type": "execute_result"
    }
   ],
   "source": [
    "rmse_score = build_model(df)\n",
    "rmse_score"
   ],
   "metadata": {
    "collapsed": false,
    "ExecuteTime": {
     "end_time": "2023-10-27T15:58:27.796155Z",
     "start_time": "2023-10-27T15:58:27.767157400Z"
    }
   },
   "id": "cf668ae8232941d"
  },
  {
   "cell_type": "markdown",
   "id": "3cb3d8b5-650a-4909-b5db-aff3bdb20617",
   "metadata": {},
   "source": [
    "# Model Inference"
   ]
  },
  {
   "cell_type": "code",
   "execution_count": 49,
   "id": "e5f97933-49d8-4f6f-a82e-0bab52b5aa31",
   "metadata": {
    "ExecuteTime": {
     "end_time": "2023-10-27T13:21:52.422103300Z",
     "start_time": "2023-10-27T13:21:52.402106300Z"
    }
   },
   "outputs": [],
   "source": [
    "TEST_DATASET_PATH = DATA_PATH + 'test.csv'"
   ]
  },
  {
   "cell_type": "code",
   "execution_count": 50,
   "id": "e9a3af0f-6ac8-4962-96e2-02c162174b8f",
   "metadata": {
    "ExecuteTime": {
     "end_time": "2023-10-27T13:21:54.944215200Z",
     "start_time": "2023-10-27T13:21:54.900216Z"
    }
   },
   "outputs": [
    {
     "data": {
      "text/plain": "        Id  MSSubClass MSZoning  LotFrontage  LotArea Street Alley LotShape  \\\n0     1461          20       RH         80.0    11622   Pave   NaN      Reg   \n1     1462          20       RL         81.0    14267   Pave   NaN      IR1   \n2     1463          60       RL         74.0    13830   Pave   NaN      IR1   \n3     1464          60       RL         78.0     9978   Pave   NaN      IR1   \n4     1465         120       RL         43.0     5005   Pave   NaN      IR1   \n...    ...         ...      ...          ...      ...    ...   ...      ...   \n1454  2915         160       RM         21.0     1936   Pave   NaN      Reg   \n1455  2916         160       RM         21.0     1894   Pave   NaN      Reg   \n1456  2917          20       RL        160.0    20000   Pave   NaN      Reg   \n1457  2918          85       RL         62.0    10441   Pave   NaN      Reg   \n1458  2919          60       RL         74.0     9627   Pave   NaN      Reg   \n\n     LandContour Utilities  ... ScreenPorch PoolArea PoolQC  Fence  \\\n0            Lvl    AllPub  ...         120        0    NaN  MnPrv   \n1            Lvl    AllPub  ...           0        0    NaN    NaN   \n2            Lvl    AllPub  ...           0        0    NaN  MnPrv   \n3            Lvl    AllPub  ...           0        0    NaN    NaN   \n4            HLS    AllPub  ...         144        0    NaN    NaN   \n...          ...       ...  ...         ...      ...    ...    ...   \n1454         Lvl    AllPub  ...           0        0    NaN    NaN   \n1455         Lvl    AllPub  ...           0        0    NaN    NaN   \n1456         Lvl    AllPub  ...           0        0    NaN    NaN   \n1457         Lvl    AllPub  ...           0        0    NaN  MnPrv   \n1458         Lvl    AllPub  ...           0        0    NaN    NaN   \n\n     MiscFeature MiscVal MoSold  YrSold  SaleType  SaleCondition  \n0            NaN       0      6    2010        WD         Normal  \n1           Gar2   12500      6    2010        WD         Normal  \n2            NaN       0      3    2010        WD         Normal  \n3            NaN       0      6    2010        WD         Normal  \n4            NaN       0      1    2010        WD         Normal  \n...          ...     ...    ...     ...       ...            ...  \n1454         NaN       0      6    2006        WD         Normal  \n1455         NaN       0      4    2006        WD        Abnorml  \n1456         NaN       0      9    2006        WD        Abnorml  \n1457        Shed     700      7    2006        WD         Normal  \n1458         NaN       0     11    2006        WD         Normal  \n\n[1459 rows x 80 columns]",
      "text/html": "<div>\n<style scoped>\n    .dataframe tbody tr th:only-of-type {\n        vertical-align: middle;\n    }\n\n    .dataframe tbody tr th {\n        vertical-align: top;\n    }\n\n    .dataframe thead th {\n        text-align: right;\n    }\n</style>\n<table border=\"1\" class=\"dataframe\">\n  <thead>\n    <tr style=\"text-align: right;\">\n      <th></th>\n      <th>Id</th>\n      <th>MSSubClass</th>\n      <th>MSZoning</th>\n      <th>LotFrontage</th>\n      <th>LotArea</th>\n      <th>Street</th>\n      <th>Alley</th>\n      <th>LotShape</th>\n      <th>LandContour</th>\n      <th>Utilities</th>\n      <th>...</th>\n      <th>ScreenPorch</th>\n      <th>PoolArea</th>\n      <th>PoolQC</th>\n      <th>Fence</th>\n      <th>MiscFeature</th>\n      <th>MiscVal</th>\n      <th>MoSold</th>\n      <th>YrSold</th>\n      <th>SaleType</th>\n      <th>SaleCondition</th>\n    </tr>\n  </thead>\n  <tbody>\n    <tr>\n      <th>0</th>\n      <td>1461</td>\n      <td>20</td>\n      <td>RH</td>\n      <td>80.0</td>\n      <td>11622</td>\n      <td>Pave</td>\n      <td>NaN</td>\n      <td>Reg</td>\n      <td>Lvl</td>\n      <td>AllPub</td>\n      <td>...</td>\n      <td>120</td>\n      <td>0</td>\n      <td>NaN</td>\n      <td>MnPrv</td>\n      <td>NaN</td>\n      <td>0</td>\n      <td>6</td>\n      <td>2010</td>\n      <td>WD</td>\n      <td>Normal</td>\n    </tr>\n    <tr>\n      <th>1</th>\n      <td>1462</td>\n      <td>20</td>\n      <td>RL</td>\n      <td>81.0</td>\n      <td>14267</td>\n      <td>Pave</td>\n      <td>NaN</td>\n      <td>IR1</td>\n      <td>Lvl</td>\n      <td>AllPub</td>\n      <td>...</td>\n      <td>0</td>\n      <td>0</td>\n      <td>NaN</td>\n      <td>NaN</td>\n      <td>Gar2</td>\n      <td>12500</td>\n      <td>6</td>\n      <td>2010</td>\n      <td>WD</td>\n      <td>Normal</td>\n    </tr>\n    <tr>\n      <th>2</th>\n      <td>1463</td>\n      <td>60</td>\n      <td>RL</td>\n      <td>74.0</td>\n      <td>13830</td>\n      <td>Pave</td>\n      <td>NaN</td>\n      <td>IR1</td>\n      <td>Lvl</td>\n      <td>AllPub</td>\n      <td>...</td>\n      <td>0</td>\n      <td>0</td>\n      <td>NaN</td>\n      <td>MnPrv</td>\n      <td>NaN</td>\n      <td>0</td>\n      <td>3</td>\n      <td>2010</td>\n      <td>WD</td>\n      <td>Normal</td>\n    </tr>\n    <tr>\n      <th>3</th>\n      <td>1464</td>\n      <td>60</td>\n      <td>RL</td>\n      <td>78.0</td>\n      <td>9978</td>\n      <td>Pave</td>\n      <td>NaN</td>\n      <td>IR1</td>\n      <td>Lvl</td>\n      <td>AllPub</td>\n      <td>...</td>\n      <td>0</td>\n      <td>0</td>\n      <td>NaN</td>\n      <td>NaN</td>\n      <td>NaN</td>\n      <td>0</td>\n      <td>6</td>\n      <td>2010</td>\n      <td>WD</td>\n      <td>Normal</td>\n    </tr>\n    <tr>\n      <th>4</th>\n      <td>1465</td>\n      <td>120</td>\n      <td>RL</td>\n      <td>43.0</td>\n      <td>5005</td>\n      <td>Pave</td>\n      <td>NaN</td>\n      <td>IR1</td>\n      <td>HLS</td>\n      <td>AllPub</td>\n      <td>...</td>\n      <td>144</td>\n      <td>0</td>\n      <td>NaN</td>\n      <td>NaN</td>\n      <td>NaN</td>\n      <td>0</td>\n      <td>1</td>\n      <td>2010</td>\n      <td>WD</td>\n      <td>Normal</td>\n    </tr>\n    <tr>\n      <th>...</th>\n      <td>...</td>\n      <td>...</td>\n      <td>...</td>\n      <td>...</td>\n      <td>...</td>\n      <td>...</td>\n      <td>...</td>\n      <td>...</td>\n      <td>...</td>\n      <td>...</td>\n      <td>...</td>\n      <td>...</td>\n      <td>...</td>\n      <td>...</td>\n      <td>...</td>\n      <td>...</td>\n      <td>...</td>\n      <td>...</td>\n      <td>...</td>\n      <td>...</td>\n      <td>...</td>\n    </tr>\n    <tr>\n      <th>1454</th>\n      <td>2915</td>\n      <td>160</td>\n      <td>RM</td>\n      <td>21.0</td>\n      <td>1936</td>\n      <td>Pave</td>\n      <td>NaN</td>\n      <td>Reg</td>\n      <td>Lvl</td>\n      <td>AllPub</td>\n      <td>...</td>\n      <td>0</td>\n      <td>0</td>\n      <td>NaN</td>\n      <td>NaN</td>\n      <td>NaN</td>\n      <td>0</td>\n      <td>6</td>\n      <td>2006</td>\n      <td>WD</td>\n      <td>Normal</td>\n    </tr>\n    <tr>\n      <th>1455</th>\n      <td>2916</td>\n      <td>160</td>\n      <td>RM</td>\n      <td>21.0</td>\n      <td>1894</td>\n      <td>Pave</td>\n      <td>NaN</td>\n      <td>Reg</td>\n      <td>Lvl</td>\n      <td>AllPub</td>\n      <td>...</td>\n      <td>0</td>\n      <td>0</td>\n      <td>NaN</td>\n      <td>NaN</td>\n      <td>NaN</td>\n      <td>0</td>\n      <td>4</td>\n      <td>2006</td>\n      <td>WD</td>\n      <td>Abnorml</td>\n    </tr>\n    <tr>\n      <th>1456</th>\n      <td>2917</td>\n      <td>20</td>\n      <td>RL</td>\n      <td>160.0</td>\n      <td>20000</td>\n      <td>Pave</td>\n      <td>NaN</td>\n      <td>Reg</td>\n      <td>Lvl</td>\n      <td>AllPub</td>\n      <td>...</td>\n      <td>0</td>\n      <td>0</td>\n      <td>NaN</td>\n      <td>NaN</td>\n      <td>NaN</td>\n      <td>0</td>\n      <td>9</td>\n      <td>2006</td>\n      <td>WD</td>\n      <td>Abnorml</td>\n    </tr>\n    <tr>\n      <th>1457</th>\n      <td>2918</td>\n      <td>85</td>\n      <td>RL</td>\n      <td>62.0</td>\n      <td>10441</td>\n      <td>Pave</td>\n      <td>NaN</td>\n      <td>Reg</td>\n      <td>Lvl</td>\n      <td>AllPub</td>\n      <td>...</td>\n      <td>0</td>\n      <td>0</td>\n      <td>NaN</td>\n      <td>MnPrv</td>\n      <td>Shed</td>\n      <td>700</td>\n      <td>7</td>\n      <td>2006</td>\n      <td>WD</td>\n      <td>Normal</td>\n    </tr>\n    <tr>\n      <th>1458</th>\n      <td>2919</td>\n      <td>60</td>\n      <td>RL</td>\n      <td>74.0</td>\n      <td>9627</td>\n      <td>Pave</td>\n      <td>NaN</td>\n      <td>Reg</td>\n      <td>Lvl</td>\n      <td>AllPub</td>\n      <td>...</td>\n      <td>0</td>\n      <td>0</td>\n      <td>NaN</td>\n      <td>NaN</td>\n      <td>NaN</td>\n      <td>0</td>\n      <td>11</td>\n      <td>2006</td>\n      <td>WD</td>\n      <td>Normal</td>\n    </tr>\n  </tbody>\n</table>\n<p>1459 rows × 80 columns</p>\n</div>"
     },
     "execution_count": 50,
     "metadata": {},
     "output_type": "execute_result"
    }
   ],
   "source": [
    "df_test_loaded = pd.read_csv(TEST_DATASET_PATH)\n",
    "df_test_loaded"
   ]
  },
  {
   "cell_type": "code",
   "execution_count": 83,
   "outputs": [],
   "source": [
    "def make_predictions(input_data: pd.DataFrame) -> np.ndarray:\n",
    "    df_test = input_data[useful_features]\n",
    "    df_test = drop_duplicates(df_test)\n",
    "    df_test = df_test.dropna()\n",
    "    final_df = preprocessor_func(df_test)\n",
    "    return loaded_model.predict(final_df)\n"
   ],
   "metadata": {
    "collapsed": false,
    "ExecuteTime": {
     "end_time": "2023-10-27T14:50:15.493589400Z",
     "start_time": "2023-10-27T14:50:15.476589600Z"
    }
   },
   "id": "5bbd8ab960be9f61"
  },
  {
   "cell_type": "code",
   "execution_count": 86,
   "outputs": [
    {
     "data": {
      "text/plain": "array([116745.48155931, 210038.65668825, 164615.56463793, ...,\n       192045.575932  , 159962.4757219 , 209724.41166686])"
     },
     "execution_count": 86,
     "metadata": {},
     "output_type": "execute_result"
    }
   ],
   "source": [
    "y_final = make_predictions(df_test_loaded)\n",
    "y_final"
   ],
   "metadata": {
    "collapsed": false,
    "ExecuteTime": {
     "end_time": "2023-10-27T14:50:51.309206700Z",
     "start_time": "2023-10-27T14:50:51.287214100Z"
    }
   },
   "id": "1dea7bfa5d5686d4"
  },
  {
   "cell_type": "markdown",
   "id": "fc0a2a24",
   "metadata": {},
   "source": [
    "## Testing dataframe equality"
   ]
  },
  {
   "cell_type": "code",
   "execution_count": 74,
   "id": "75170408",
   "metadata": {},
   "outputs": [
    {
     "name": "stdout",
     "output_type": "stream",
     "text": [
      "processed_test_df.parquet\n",
      "processed_train_df.parquet\n",
      "test.csv\n",
      "train.csv\n"
     ]
    }
   ],
   "source": [
    "!ls ../data/house-prices/"
   ]
  },
  {
   "cell_type": "code",
   "execution_count": 73,
   "id": "16df2616-d2eb-411d-809c-5607782d10ff",
   "metadata": {},
   "outputs": [],
   "source": [
    "#dataframe_test.to_parquet(DATA_PATH + 'processed_test_df.parquet', index=False)"
   ]
  },
  {
   "cell_type": "code",
   "execution_count": 59,
   "id": "96fbf5f0",
   "metadata": {
    "ExecuteTime": {
     "end_time": "2023-10-27T13:33:40.090472900Z",
     "start_time": "2023-10-27T13:33:40.054474500Z"
    }
   },
   "outputs": [
    {
     "data": {
      "text/plain": "   TotRmsAbvGrd  WoodDeckSF    YrSold  1stFlrSF  Foundation_BrkTil  \\\n0     -0.989600    0.348727  1.660258 -0.694582                0.0   \n1     -0.376869    2.358735  1.660258  0.400581                0.0   \n2     -0.376869    0.920745  1.660258 -0.613646                0.0   \n3      0.235863    2.096560  1.660258 -0.618705                0.0   \n4     -0.989600   -0.763530  1.660258  0.276648                0.0   \n\n   Foundation_CBlock  Foundation_PConc  Foundation_Slab  Foundation_Stone  \\\n0                1.0               0.0              0.0               0.0   \n1                1.0               0.0              0.0               0.0   \n2                0.0               1.0              0.0               0.0   \n3                0.0               1.0              0.0               0.0   \n4                0.0               1.0              0.0               0.0   \n\n   Foundation_Wood  KitchenQual_Ex  KitchenQual_Fa  KitchenQual_Gd  \\\n0              0.0             0.0             0.0             0.0   \n1              0.0             0.0             0.0             1.0   \n2              0.0             0.0             0.0             0.0   \n3              0.0             0.0             0.0             1.0   \n4              0.0             0.0             0.0             1.0   \n\n   KitchenQual_TA  \n0             1.0  \n1             0.0  \n2             1.0  \n3             0.0  \n4             0.0  ",
      "text/html": "<div>\n<style scoped>\n    .dataframe tbody tr th:only-of-type {\n        vertical-align: middle;\n    }\n\n    .dataframe tbody tr th {\n        vertical-align: top;\n    }\n\n    .dataframe thead th {\n        text-align: right;\n    }\n</style>\n<table border=\"1\" class=\"dataframe\">\n  <thead>\n    <tr style=\"text-align: right;\">\n      <th></th>\n      <th>TotRmsAbvGrd</th>\n      <th>WoodDeckSF</th>\n      <th>YrSold</th>\n      <th>1stFlrSF</th>\n      <th>Foundation_BrkTil</th>\n      <th>Foundation_CBlock</th>\n      <th>Foundation_PConc</th>\n      <th>Foundation_Slab</th>\n      <th>Foundation_Stone</th>\n      <th>Foundation_Wood</th>\n      <th>KitchenQual_Ex</th>\n      <th>KitchenQual_Fa</th>\n      <th>KitchenQual_Gd</th>\n      <th>KitchenQual_TA</th>\n    </tr>\n  </thead>\n  <tbody>\n    <tr>\n      <th>0</th>\n      <td>-0.989600</td>\n      <td>0.348727</td>\n      <td>1.660258</td>\n      <td>-0.694582</td>\n      <td>0.0</td>\n      <td>1.0</td>\n      <td>0.0</td>\n      <td>0.0</td>\n      <td>0.0</td>\n      <td>0.0</td>\n      <td>0.0</td>\n      <td>0.0</td>\n      <td>0.0</td>\n      <td>1.0</td>\n    </tr>\n    <tr>\n      <th>1</th>\n      <td>-0.376869</td>\n      <td>2.358735</td>\n      <td>1.660258</td>\n      <td>0.400581</td>\n      <td>0.0</td>\n      <td>1.0</td>\n      <td>0.0</td>\n      <td>0.0</td>\n      <td>0.0</td>\n      <td>0.0</td>\n      <td>0.0</td>\n      <td>0.0</td>\n      <td>1.0</td>\n      <td>0.0</td>\n    </tr>\n    <tr>\n      <th>2</th>\n      <td>-0.376869</td>\n      <td>0.920745</td>\n      <td>1.660258</td>\n      <td>-0.613646</td>\n      <td>0.0</td>\n      <td>0.0</td>\n      <td>1.0</td>\n      <td>0.0</td>\n      <td>0.0</td>\n      <td>0.0</td>\n      <td>0.0</td>\n      <td>0.0</td>\n      <td>0.0</td>\n      <td>1.0</td>\n    </tr>\n    <tr>\n      <th>3</th>\n      <td>0.235863</td>\n      <td>2.096560</td>\n      <td>1.660258</td>\n      <td>-0.618705</td>\n      <td>0.0</td>\n      <td>0.0</td>\n      <td>1.0</td>\n      <td>0.0</td>\n      <td>0.0</td>\n      <td>0.0</td>\n      <td>0.0</td>\n      <td>0.0</td>\n      <td>1.0</td>\n      <td>0.0</td>\n    </tr>\n    <tr>\n      <th>4</th>\n      <td>-0.989600</td>\n      <td>-0.763530</td>\n      <td>1.660258</td>\n      <td>0.276648</td>\n      <td>0.0</td>\n      <td>0.0</td>\n      <td>1.0</td>\n      <td>0.0</td>\n      <td>0.0</td>\n      <td>0.0</td>\n      <td>0.0</td>\n      <td>0.0</td>\n      <td>1.0</td>\n      <td>0.0</td>\n    </tr>\n  </tbody>\n</table>\n</div>"
     },
     "execution_count": 59,
     "metadata": {},
     "output_type": "execute_result"
    }
   ],
   "source": [
    "processed_test_df = pd.read_parquet(DATA_PATH + 'processed_test_df.parquet')\n",
    "processed_test_df.head()"
   ]
  },
  {
   "cell_type": "code",
   "execution_count": 78,
   "id": "6edcf27a",
   "metadata": {
    "ExecuteTime": {
     "end_time": "2023-10-27T14:00:56.786961200Z",
     "start_time": "2023-10-27T14:00:56.769923600Z"
    }
   },
   "outputs": [],
   "source": [
    "#pd.testing.assert_frame_equal(processed_test_df, df_final)"
   ]
  }
 ],
 "metadata": {
  "kernelspec": {
   "display_name": "Python 3 (ipykernel)",
   "language": "python",
   "name": "python3"
  },
  "language_info": {
   "codemirror_mode": {
    "name": "ipython",
    "version": 3
   },
   "file_extension": ".py",
   "mimetype": "text/x-python",
   "name": "python",
   "nbconvert_exporter": "python",
   "pygments_lexer": "ipython3",
   "version": "3.9.18"
  }
 },
 "nbformat": 4,
 "nbformat_minor": 5
}
