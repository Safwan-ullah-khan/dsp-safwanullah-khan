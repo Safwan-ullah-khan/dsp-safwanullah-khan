{
 "cells": [
  {
   "cell_type": "code",
   "execution_count": 3,
   "id": "c601ac8c",
   "metadata": {
    "scrolled": true,
    "ExecuteTime": {
     "end_time": "2023-10-27T10:08:04.332808100Z",
     "start_time": "2023-10-27T10:08:04.289808400Z"
    }
   },
   "outputs": [
    {
     "name": "stderr",
     "output_type": "stream",
     "text": [
      "'ls' is not recognized as an internal or external command,\n",
      "operable program or batch file.\n"
     ]
    }
   ],
   "source": [
    "!ls ../data/house-prices/"
   ]
  },
  {
   "cell_type": "code",
   "execution_count": 4,
   "id": "560796c2",
   "metadata": {
    "ExecuteTime": {
     "end_time": "2023-10-27T10:08:07.953806900Z",
     "start_time": "2023-10-27T10:08:07.328809300Z"
    }
   },
   "outputs": [],
   "source": [
    "import pandas as pd\n"
   ]
  },
  {
   "cell_type": "markdown",
   "id": "e3e27fd8",
   "metadata": {},
   "source": [
    "# Model Building"
   ]
  },
  {
   "cell_type": "markdown",
   "id": "4dc3d6a7-793e-468a-b24a-97dbd2f21157",
   "metadata": {},
   "source": [
    "## Model Training"
   ]
  },
  {
   "cell_type": "markdown",
   "id": "c16d2f07-6cf3-4eac-b2d7-c60468326424",
   "metadata": {},
   "source": [
    "### Read Data"
   ]
  },
  {
   "cell_type": "code",
   "execution_count": 5,
   "id": "3fb42705",
   "metadata": {
    "ExecuteTime": {
     "end_time": "2023-10-27T10:08:14.098994200Z",
     "start_time": "2023-10-27T10:08:14.077996300Z"
    }
   },
   "outputs": [],
   "source": [
    "DATA_PATH = '../data/house-prices/'\n",
    "DATASET_PATH = DATA_PATH + 'train.csv'\n",
    "label_col = 'SalePrice'"
   ]
  },
  {
   "cell_type": "code",
   "execution_count": 6,
   "id": "d44fed04",
   "metadata": {
    "scrolled": true,
    "ExecuteTime": {
     "end_time": "2023-10-27T10:08:18.237412300Z",
     "start_time": "2023-10-27T10:08:18.178412800Z"
    }
   },
   "outputs": [
    {
     "data": {
      "text/plain": "   Id  MSSubClass MSZoning  LotFrontage  LotArea Street Alley LotShape  \\\n0   1          60       RL         65.0     8450   Pave   NaN      Reg   \n1   2          20       RL         80.0     9600   Pave   NaN      Reg   \n2   3          60       RL         68.0    11250   Pave   NaN      IR1   \n3   4          70       RL         60.0     9550   Pave   NaN      IR1   \n4   5          60       RL         84.0    14260   Pave   NaN      IR1   \n\n  LandContour Utilities  ... PoolArea PoolQC Fence MiscFeature MiscVal MoSold  \\\n0         Lvl    AllPub  ...        0    NaN   NaN         NaN       0      2   \n1         Lvl    AllPub  ...        0    NaN   NaN         NaN       0      5   \n2         Lvl    AllPub  ...        0    NaN   NaN         NaN       0      9   \n3         Lvl    AllPub  ...        0    NaN   NaN         NaN       0      2   \n4         Lvl    AllPub  ...        0    NaN   NaN         NaN       0     12   \n\n  YrSold  SaleType  SaleCondition  SalePrice  \n0   2008        WD         Normal     208500  \n1   2007        WD         Normal     181500  \n2   2008        WD         Normal     223500  \n3   2006        WD        Abnorml     140000  \n4   2008        WD         Normal     250000  \n\n[5 rows x 81 columns]",
      "text/html": "<div>\n<style scoped>\n    .dataframe tbody tr th:only-of-type {\n        vertical-align: middle;\n    }\n\n    .dataframe tbody tr th {\n        vertical-align: top;\n    }\n\n    .dataframe thead th {\n        text-align: right;\n    }\n</style>\n<table border=\"1\" class=\"dataframe\">\n  <thead>\n    <tr style=\"text-align: right;\">\n      <th></th>\n      <th>Id</th>\n      <th>MSSubClass</th>\n      <th>MSZoning</th>\n      <th>LotFrontage</th>\n      <th>LotArea</th>\n      <th>Street</th>\n      <th>Alley</th>\n      <th>LotShape</th>\n      <th>LandContour</th>\n      <th>Utilities</th>\n      <th>...</th>\n      <th>PoolArea</th>\n      <th>PoolQC</th>\n      <th>Fence</th>\n      <th>MiscFeature</th>\n      <th>MiscVal</th>\n      <th>MoSold</th>\n      <th>YrSold</th>\n      <th>SaleType</th>\n      <th>SaleCondition</th>\n      <th>SalePrice</th>\n    </tr>\n  </thead>\n  <tbody>\n    <tr>\n      <th>0</th>\n      <td>1</td>\n      <td>60</td>\n      <td>RL</td>\n      <td>65.0</td>\n      <td>8450</td>\n      <td>Pave</td>\n      <td>NaN</td>\n      <td>Reg</td>\n      <td>Lvl</td>\n      <td>AllPub</td>\n      <td>...</td>\n      <td>0</td>\n      <td>NaN</td>\n      <td>NaN</td>\n      <td>NaN</td>\n      <td>0</td>\n      <td>2</td>\n      <td>2008</td>\n      <td>WD</td>\n      <td>Normal</td>\n      <td>208500</td>\n    </tr>\n    <tr>\n      <th>1</th>\n      <td>2</td>\n      <td>20</td>\n      <td>RL</td>\n      <td>80.0</td>\n      <td>9600</td>\n      <td>Pave</td>\n      <td>NaN</td>\n      <td>Reg</td>\n      <td>Lvl</td>\n      <td>AllPub</td>\n      <td>...</td>\n      <td>0</td>\n      <td>NaN</td>\n      <td>NaN</td>\n      <td>NaN</td>\n      <td>0</td>\n      <td>5</td>\n      <td>2007</td>\n      <td>WD</td>\n      <td>Normal</td>\n      <td>181500</td>\n    </tr>\n    <tr>\n      <th>2</th>\n      <td>3</td>\n      <td>60</td>\n      <td>RL</td>\n      <td>68.0</td>\n      <td>11250</td>\n      <td>Pave</td>\n      <td>NaN</td>\n      <td>IR1</td>\n      <td>Lvl</td>\n      <td>AllPub</td>\n      <td>...</td>\n      <td>0</td>\n      <td>NaN</td>\n      <td>NaN</td>\n      <td>NaN</td>\n      <td>0</td>\n      <td>9</td>\n      <td>2008</td>\n      <td>WD</td>\n      <td>Normal</td>\n      <td>223500</td>\n    </tr>\n    <tr>\n      <th>3</th>\n      <td>4</td>\n      <td>70</td>\n      <td>RL</td>\n      <td>60.0</td>\n      <td>9550</td>\n      <td>Pave</td>\n      <td>NaN</td>\n      <td>IR1</td>\n      <td>Lvl</td>\n      <td>AllPub</td>\n      <td>...</td>\n      <td>0</td>\n      <td>NaN</td>\n      <td>NaN</td>\n      <td>NaN</td>\n      <td>0</td>\n      <td>2</td>\n      <td>2006</td>\n      <td>WD</td>\n      <td>Abnorml</td>\n      <td>140000</td>\n    </tr>\n    <tr>\n      <th>4</th>\n      <td>5</td>\n      <td>60</td>\n      <td>RL</td>\n      <td>84.0</td>\n      <td>14260</td>\n      <td>Pave</td>\n      <td>NaN</td>\n      <td>IR1</td>\n      <td>Lvl</td>\n      <td>AllPub</td>\n      <td>...</td>\n      <td>0</td>\n      <td>NaN</td>\n      <td>NaN</td>\n      <td>NaN</td>\n      <td>0</td>\n      <td>12</td>\n      <td>2008</td>\n      <td>WD</td>\n      <td>Normal</td>\n      <td>250000</td>\n    </tr>\n  </tbody>\n</table>\n<p>5 rows × 81 columns</p>\n</div>"
     },
     "execution_count": 6,
     "metadata": {},
     "output_type": "execute_result"
    }
   ],
   "source": [
    "df_master = pd.read_csv(DATASET_PATH)\n",
    "df = df_master.copy()\n",
    "df.head()"
   ]
  },
  {
   "cell_type": "markdown",
   "id": "896f6d3d",
   "metadata": {},
   "source": [
    "### Filter useless columns"
   ]
  },
  {
   "cell_type": "code",
   "execution_count": 7,
   "id": "49ad72db",
   "metadata": {
    "ExecuteTime": {
     "end_time": "2023-10-27T10:08:25.527989600Z",
     "start_time": "2023-10-27T10:08:25.500990300Z"
    }
   },
   "outputs": [
    {
     "name": "stdout",
     "output_type": "stream",
     "text": [
      "<class 'pandas.core.frame.DataFrame'>\n",
      "RangeIndex: 1460 entries, 0 to 1459\n",
      "Data columns (total 81 columns):\n",
      " #   Column         Non-Null Count  Dtype  \n",
      "---  ------         --------------  -----  \n",
      " 0   Id             1460 non-null   int64  \n",
      " 1   MSSubClass     1460 non-null   int64  \n",
      " 2   MSZoning       1460 non-null   object \n",
      " 3   LotFrontage    1201 non-null   float64\n",
      " 4   LotArea        1460 non-null   int64  \n",
      " 5   Street         1460 non-null   object \n",
      " 6   Alley          91 non-null     object \n",
      " 7   LotShape       1460 non-null   object \n",
      " 8   LandContour    1460 non-null   object \n",
      " 9   Utilities      1460 non-null   object \n",
      " 10  LotConfig      1460 non-null   object \n",
      " 11  LandSlope      1460 non-null   object \n",
      " 12  Neighborhood   1460 non-null   object \n",
      " 13  Condition1     1460 non-null   object \n",
      " 14  Condition2     1460 non-null   object \n",
      " 15  BldgType       1460 non-null   object \n",
      " 16  HouseStyle     1460 non-null   object \n",
      " 17  OverallQual    1460 non-null   int64  \n",
      " 18  OverallCond    1460 non-null   int64  \n",
      " 19  YearBuilt      1460 non-null   int64  \n",
      " 20  YearRemodAdd   1460 non-null   int64  \n",
      " 21  RoofStyle      1460 non-null   object \n",
      " 22  RoofMatl       1460 non-null   object \n",
      " 23  Exterior1st    1460 non-null   object \n",
      " 24  Exterior2nd    1460 non-null   object \n",
      " 25  MasVnrType     588 non-null    object \n",
      " 26  MasVnrArea     1452 non-null   float64\n",
      " 27  ExterQual      1460 non-null   object \n",
      " 28  ExterCond      1460 non-null   object \n",
      " 29  Foundation     1460 non-null   object \n",
      " 30  BsmtQual       1423 non-null   object \n",
      " 31  BsmtCond       1423 non-null   object \n",
      " 32  BsmtExposure   1422 non-null   object \n",
      " 33  BsmtFinType1   1423 non-null   object \n",
      " 34  BsmtFinSF1     1460 non-null   int64  \n",
      " 35  BsmtFinType2   1422 non-null   object \n",
      " 36  BsmtFinSF2     1460 non-null   int64  \n",
      " 37  BsmtUnfSF      1460 non-null   int64  \n",
      " 38  TotalBsmtSF    1460 non-null   int64  \n",
      " 39  Heating        1460 non-null   object \n",
      " 40  HeatingQC      1460 non-null   object \n",
      " 41  CentralAir     1460 non-null   object \n",
      " 42  Electrical     1459 non-null   object \n",
      " 43  1stFlrSF       1460 non-null   int64  \n",
      " 44  2ndFlrSF       1460 non-null   int64  \n",
      " 45  LowQualFinSF   1460 non-null   int64  \n",
      " 46  GrLivArea      1460 non-null   int64  \n",
      " 47  BsmtFullBath   1460 non-null   int64  \n",
      " 48  BsmtHalfBath   1460 non-null   int64  \n",
      " 49  FullBath       1460 non-null   int64  \n",
      " 50  HalfBath       1460 non-null   int64  \n",
      " 51  BedroomAbvGr   1460 non-null   int64  \n",
      " 52  KitchenAbvGr   1460 non-null   int64  \n",
      " 53  KitchenQual    1460 non-null   object \n",
      " 54  TotRmsAbvGrd   1460 non-null   int64  \n",
      " 55  Functional     1460 non-null   object \n",
      " 56  Fireplaces     1460 non-null   int64  \n",
      " 57  FireplaceQu    770 non-null    object \n",
      " 58  GarageType     1379 non-null   object \n",
      " 59  GarageYrBlt    1379 non-null   float64\n",
      " 60  GarageFinish   1379 non-null   object \n",
      " 61  GarageCars     1460 non-null   int64  \n",
      " 62  GarageArea     1460 non-null   int64  \n",
      " 63  GarageQual     1379 non-null   object \n",
      " 64  GarageCond     1379 non-null   object \n",
      " 65  PavedDrive     1460 non-null   object \n",
      " 66  WoodDeckSF     1460 non-null   int64  \n",
      " 67  OpenPorchSF    1460 non-null   int64  \n",
      " 68  EnclosedPorch  1460 non-null   int64  \n",
      " 69  3SsnPorch      1460 non-null   int64  \n",
      " 70  ScreenPorch    1460 non-null   int64  \n",
      " 71  PoolArea       1460 non-null   int64  \n",
      " 72  PoolQC         7 non-null      object \n",
      " 73  Fence          281 non-null    object \n",
      " 74  MiscFeature    54 non-null     object \n",
      " 75  MiscVal        1460 non-null   int64  \n",
      " 76  MoSold         1460 non-null   int64  \n",
      " 77  YrSold         1460 non-null   int64  \n",
      " 78  SaleType       1460 non-null   object \n",
      " 79  SaleCondition  1460 non-null   object \n",
      " 80  SalePrice      1460 non-null   int64  \n",
      "dtypes: float64(3), int64(35), object(43)\n",
      "memory usage: 924.0+ KB\n"
     ]
    }
   ],
   "source": [
    "df_master.info()"
   ]
  },
  {
   "cell_type": "code",
   "execution_count": 8,
   "id": "dcb2498f",
   "metadata": {
    "ExecuteTime": {
     "end_time": "2023-10-27T10:08:30.696990800Z",
     "start_time": "2023-10-27T10:08:30.680991900Z"
    }
   },
   "outputs": [],
   "source": [
    "useful_features = ['Foundation', 'KitchenQual', 'TotRmsAbvGrd', 'WoodDeckSF', 'YrSold', '1stFlrSF']"
   ]
  },
  {
   "cell_type": "markdown",
   "id": "c59e0eac-9983-4a7f-85c1-7367bbd7de41",
   "metadata": {},
   "source": [
    "### Missing Values Check"
   ]
  },
  {
   "cell_type": "code",
   "execution_count": 57,
   "outputs": [],
   "source": [
    "def drop_duplicates(df: pd.DataFrame) -> pd.DataFrame:\n",
    "    df = df[~df[useful_features].duplicated(keep='first')]\n",
    "    df = df.reset_index(drop=True)\n",
    "    return df"
   ],
   "metadata": {
    "collapsed": false,
    "ExecuteTime": {
     "end_time": "2023-10-27T10:18:00.793715900Z",
     "start_time": "2023-10-27T10:18:00.775232400Z"
    }
   },
   "id": "8cfedecf9217c1f2"
  },
  {
   "cell_type": "code",
   "execution_count": 9,
   "id": "7f3c349a-1e1d-44eb-8e7f-9740c55aaede",
   "metadata": {
    "ExecuteTime": {
     "end_time": "2023-10-27T10:08:34.649569600Z",
     "start_time": "2023-10-27T10:08:34.622572300Z"
    }
   },
   "outputs": [
    {
     "name": "stdout",
     "output_type": "stream",
     "text": [
      "<class 'pandas.core.frame.DataFrame'>\n",
      "RangeIndex: 1460 entries, 0 to 1459\n",
      "Data columns (total 6 columns):\n",
      " #   Column        Non-Null Count  Dtype \n",
      "---  ------        --------------  ----- \n",
      " 0   Foundation    1460 non-null   object\n",
      " 1   KitchenQual   1460 non-null   object\n",
      " 2   TotRmsAbvGrd  1460 non-null   int64 \n",
      " 3   WoodDeckSF    1460 non-null   int64 \n",
      " 4   YrSold        1460 non-null   int64 \n",
      " 5   1stFlrSF      1460 non-null   int64 \n",
      "dtypes: int64(4), object(2)\n",
      "memory usage: 68.6+ KB\n"
     ]
    }
   ],
   "source": [
    "df[useful_features].info()"
   ]
  },
  {
   "cell_type": "markdown",
   "id": "296f92ee-b27f-45d4-b1a4-37a5a97bab23",
   "metadata": {},
   "source": [
    "### Check Duplicates"
   ]
  },
  {
   "cell_type": "code",
   "execution_count": 10,
   "id": "e999243b",
   "metadata": {
    "ExecuteTime": {
     "end_time": "2023-10-27T10:08:54.322488700Z",
     "start_time": "2023-10-27T10:08:54.289491900Z"
    }
   },
   "outputs": [
    {
     "data": {
      "text/plain": "32"
     },
     "execution_count": 10,
     "metadata": {},
     "output_type": "execute_result"
    }
   ],
   "source": [
    "df[useful_features].duplicated(keep='first').sum()"
   ]
  },
  {
   "cell_type": "code",
   "execution_count": 11,
   "id": "62d9e904",
   "metadata": {
    "ExecuteTime": {
     "end_time": "2023-10-27T10:08:55.285492800Z",
     "start_time": "2023-10-27T10:08:55.240492100Z"
    }
   },
   "outputs": [
    {
     "data": {
      "text/plain": "        Id  MSSubClass MSZoning  LotFrontage  LotArea Street Alley LotShape  \\\n1455  1456          60       RL         62.0     7917   Pave   NaN      Reg   \n1456  1457          20       RL         85.0    13175   Pave   NaN      Reg   \n1457  1458          70       RL         66.0     9042   Pave   NaN      Reg   \n1458  1459          20       RL         68.0     9717   Pave   NaN      Reg   \n1459  1460          20       RL         75.0     9937   Pave   NaN      Reg   \n\n     LandContour Utilities  ... PoolArea PoolQC  Fence MiscFeature MiscVal  \\\n1455         Lvl    AllPub  ...        0    NaN    NaN         NaN       0   \n1456         Lvl    AllPub  ...        0    NaN  MnPrv         NaN       0   \n1457         Lvl    AllPub  ...        0    NaN  GdPrv        Shed    2500   \n1458         Lvl    AllPub  ...        0    NaN    NaN         NaN       0   \n1459         Lvl    AllPub  ...        0    NaN    NaN         NaN       0   \n\n     MoSold YrSold  SaleType  SaleCondition  SalePrice  \n1455      8   2007        WD         Normal     175000  \n1456      2   2010        WD         Normal     210000  \n1457      5   2010        WD         Normal     266500  \n1458      4   2010        WD         Normal     142125  \n1459      6   2008        WD         Normal     147500  \n\n[5 rows x 81 columns]",
      "text/html": "<div>\n<style scoped>\n    .dataframe tbody tr th:only-of-type {\n        vertical-align: middle;\n    }\n\n    .dataframe tbody tr th {\n        vertical-align: top;\n    }\n\n    .dataframe thead th {\n        text-align: right;\n    }\n</style>\n<table border=\"1\" class=\"dataframe\">\n  <thead>\n    <tr style=\"text-align: right;\">\n      <th></th>\n      <th>Id</th>\n      <th>MSSubClass</th>\n      <th>MSZoning</th>\n      <th>LotFrontage</th>\n      <th>LotArea</th>\n      <th>Street</th>\n      <th>Alley</th>\n      <th>LotShape</th>\n      <th>LandContour</th>\n      <th>Utilities</th>\n      <th>...</th>\n      <th>PoolArea</th>\n      <th>PoolQC</th>\n      <th>Fence</th>\n      <th>MiscFeature</th>\n      <th>MiscVal</th>\n      <th>MoSold</th>\n      <th>YrSold</th>\n      <th>SaleType</th>\n      <th>SaleCondition</th>\n      <th>SalePrice</th>\n    </tr>\n  </thead>\n  <tbody>\n    <tr>\n      <th>1455</th>\n      <td>1456</td>\n      <td>60</td>\n      <td>RL</td>\n      <td>62.0</td>\n      <td>7917</td>\n      <td>Pave</td>\n      <td>NaN</td>\n      <td>Reg</td>\n      <td>Lvl</td>\n      <td>AllPub</td>\n      <td>...</td>\n      <td>0</td>\n      <td>NaN</td>\n      <td>NaN</td>\n      <td>NaN</td>\n      <td>0</td>\n      <td>8</td>\n      <td>2007</td>\n      <td>WD</td>\n      <td>Normal</td>\n      <td>175000</td>\n    </tr>\n    <tr>\n      <th>1456</th>\n      <td>1457</td>\n      <td>20</td>\n      <td>RL</td>\n      <td>85.0</td>\n      <td>13175</td>\n      <td>Pave</td>\n      <td>NaN</td>\n      <td>Reg</td>\n      <td>Lvl</td>\n      <td>AllPub</td>\n      <td>...</td>\n      <td>0</td>\n      <td>NaN</td>\n      <td>MnPrv</td>\n      <td>NaN</td>\n      <td>0</td>\n      <td>2</td>\n      <td>2010</td>\n      <td>WD</td>\n      <td>Normal</td>\n      <td>210000</td>\n    </tr>\n    <tr>\n      <th>1457</th>\n      <td>1458</td>\n      <td>70</td>\n      <td>RL</td>\n      <td>66.0</td>\n      <td>9042</td>\n      <td>Pave</td>\n      <td>NaN</td>\n      <td>Reg</td>\n      <td>Lvl</td>\n      <td>AllPub</td>\n      <td>...</td>\n      <td>0</td>\n      <td>NaN</td>\n      <td>GdPrv</td>\n      <td>Shed</td>\n      <td>2500</td>\n      <td>5</td>\n      <td>2010</td>\n      <td>WD</td>\n      <td>Normal</td>\n      <td>266500</td>\n    </tr>\n    <tr>\n      <th>1458</th>\n      <td>1459</td>\n      <td>20</td>\n      <td>RL</td>\n      <td>68.0</td>\n      <td>9717</td>\n      <td>Pave</td>\n      <td>NaN</td>\n      <td>Reg</td>\n      <td>Lvl</td>\n      <td>AllPub</td>\n      <td>...</td>\n      <td>0</td>\n      <td>NaN</td>\n      <td>NaN</td>\n      <td>NaN</td>\n      <td>0</td>\n      <td>4</td>\n      <td>2010</td>\n      <td>WD</td>\n      <td>Normal</td>\n      <td>142125</td>\n    </tr>\n    <tr>\n      <th>1459</th>\n      <td>1460</td>\n      <td>20</td>\n      <td>RL</td>\n      <td>75.0</td>\n      <td>9937</td>\n      <td>Pave</td>\n      <td>NaN</td>\n      <td>Reg</td>\n      <td>Lvl</td>\n      <td>AllPub</td>\n      <td>...</td>\n      <td>0</td>\n      <td>NaN</td>\n      <td>NaN</td>\n      <td>NaN</td>\n      <td>0</td>\n      <td>6</td>\n      <td>2008</td>\n      <td>WD</td>\n      <td>Normal</td>\n      <td>147500</td>\n    </tr>\n  </tbody>\n</table>\n<p>5 rows × 81 columns</p>\n</div>"
     },
     "execution_count": 11,
     "metadata": {},
     "output_type": "execute_result"
    }
   ],
   "source": [
    "#### Removing Duplicates\n",
    "df = df[~df[useful_features].duplicated(keep='first')]\n",
    "df.tail()"
   ]
  },
  {
   "cell_type": "code",
   "execution_count": 12,
   "id": "43a6e8b1",
   "metadata": {
    "ExecuteTime": {
     "end_time": "2023-10-27T10:08:56.922796200Z",
     "start_time": "2023-10-27T10:08:56.893798900Z"
    }
   },
   "outputs": [
    {
     "data": {
      "text/plain": "        Id  MSSubClass MSZoning  LotFrontage  LotArea Street Alley LotShape  \\\n1423  1456          60       RL         62.0     7917   Pave   NaN      Reg   \n1424  1457          20       RL         85.0    13175   Pave   NaN      Reg   \n1425  1458          70       RL         66.0     9042   Pave   NaN      Reg   \n1426  1459          20       RL         68.0     9717   Pave   NaN      Reg   \n1427  1460          20       RL         75.0     9937   Pave   NaN      Reg   \n\n     LandContour Utilities  ... PoolArea PoolQC  Fence MiscFeature MiscVal  \\\n1423         Lvl    AllPub  ...        0    NaN    NaN         NaN       0   \n1424         Lvl    AllPub  ...        0    NaN  MnPrv         NaN       0   \n1425         Lvl    AllPub  ...        0    NaN  GdPrv        Shed    2500   \n1426         Lvl    AllPub  ...        0    NaN    NaN         NaN       0   \n1427         Lvl    AllPub  ...        0    NaN    NaN         NaN       0   \n\n     MoSold YrSold  SaleType  SaleCondition  SalePrice  \n1423      8   2007        WD         Normal     175000  \n1424      2   2010        WD         Normal     210000  \n1425      5   2010        WD         Normal     266500  \n1426      4   2010        WD         Normal     142125  \n1427      6   2008        WD         Normal     147500  \n\n[5 rows x 81 columns]",
      "text/html": "<div>\n<style scoped>\n    .dataframe tbody tr th:only-of-type {\n        vertical-align: middle;\n    }\n\n    .dataframe tbody tr th {\n        vertical-align: top;\n    }\n\n    .dataframe thead th {\n        text-align: right;\n    }\n</style>\n<table border=\"1\" class=\"dataframe\">\n  <thead>\n    <tr style=\"text-align: right;\">\n      <th></th>\n      <th>Id</th>\n      <th>MSSubClass</th>\n      <th>MSZoning</th>\n      <th>LotFrontage</th>\n      <th>LotArea</th>\n      <th>Street</th>\n      <th>Alley</th>\n      <th>LotShape</th>\n      <th>LandContour</th>\n      <th>Utilities</th>\n      <th>...</th>\n      <th>PoolArea</th>\n      <th>PoolQC</th>\n      <th>Fence</th>\n      <th>MiscFeature</th>\n      <th>MiscVal</th>\n      <th>MoSold</th>\n      <th>YrSold</th>\n      <th>SaleType</th>\n      <th>SaleCondition</th>\n      <th>SalePrice</th>\n    </tr>\n  </thead>\n  <tbody>\n    <tr>\n      <th>1423</th>\n      <td>1456</td>\n      <td>60</td>\n      <td>RL</td>\n      <td>62.0</td>\n      <td>7917</td>\n      <td>Pave</td>\n      <td>NaN</td>\n      <td>Reg</td>\n      <td>Lvl</td>\n      <td>AllPub</td>\n      <td>...</td>\n      <td>0</td>\n      <td>NaN</td>\n      <td>NaN</td>\n      <td>NaN</td>\n      <td>0</td>\n      <td>8</td>\n      <td>2007</td>\n      <td>WD</td>\n      <td>Normal</td>\n      <td>175000</td>\n    </tr>\n    <tr>\n      <th>1424</th>\n      <td>1457</td>\n      <td>20</td>\n      <td>RL</td>\n      <td>85.0</td>\n      <td>13175</td>\n      <td>Pave</td>\n      <td>NaN</td>\n      <td>Reg</td>\n      <td>Lvl</td>\n      <td>AllPub</td>\n      <td>...</td>\n      <td>0</td>\n      <td>NaN</td>\n      <td>MnPrv</td>\n      <td>NaN</td>\n      <td>0</td>\n      <td>2</td>\n      <td>2010</td>\n      <td>WD</td>\n      <td>Normal</td>\n      <td>210000</td>\n    </tr>\n    <tr>\n      <th>1425</th>\n      <td>1458</td>\n      <td>70</td>\n      <td>RL</td>\n      <td>66.0</td>\n      <td>9042</td>\n      <td>Pave</td>\n      <td>NaN</td>\n      <td>Reg</td>\n      <td>Lvl</td>\n      <td>AllPub</td>\n      <td>...</td>\n      <td>0</td>\n      <td>NaN</td>\n      <td>GdPrv</td>\n      <td>Shed</td>\n      <td>2500</td>\n      <td>5</td>\n      <td>2010</td>\n      <td>WD</td>\n      <td>Normal</td>\n      <td>266500</td>\n    </tr>\n    <tr>\n      <th>1426</th>\n      <td>1459</td>\n      <td>20</td>\n      <td>RL</td>\n      <td>68.0</td>\n      <td>9717</td>\n      <td>Pave</td>\n      <td>NaN</td>\n      <td>Reg</td>\n      <td>Lvl</td>\n      <td>AllPub</td>\n      <td>...</td>\n      <td>0</td>\n      <td>NaN</td>\n      <td>NaN</td>\n      <td>NaN</td>\n      <td>0</td>\n      <td>4</td>\n      <td>2010</td>\n      <td>WD</td>\n      <td>Normal</td>\n      <td>142125</td>\n    </tr>\n    <tr>\n      <th>1427</th>\n      <td>1460</td>\n      <td>20</td>\n      <td>RL</td>\n      <td>75.0</td>\n      <td>9937</td>\n      <td>Pave</td>\n      <td>NaN</td>\n      <td>Reg</td>\n      <td>Lvl</td>\n      <td>AllPub</td>\n      <td>...</td>\n      <td>0</td>\n      <td>NaN</td>\n      <td>NaN</td>\n      <td>NaN</td>\n      <td>0</td>\n      <td>6</td>\n      <td>2008</td>\n      <td>WD</td>\n      <td>Normal</td>\n      <td>147500</td>\n    </tr>\n  </tbody>\n</table>\n<p>5 rows × 81 columns</p>\n</div>"
     },
     "execution_count": 12,
     "metadata": {},
     "output_type": "execute_result"
    }
   ],
   "source": [
    "df = df.reset_index(drop=True)\n",
    "df.tail()"
   ]
  },
  {
   "cell_type": "markdown",
   "id": "e1fe37c3-463d-458d-b267-20d14dd3d3c4",
   "metadata": {},
   "source": [
    "### Dataset Split"
   ]
  },
  {
   "cell_type": "code",
   "execution_count": null,
   "outputs": [],
   "source": [
    "def dataset_train_test_split(\n",
    "    data: pd.DataFrame,\n",
    "    test_size: float = 0.33,\n",
    "    random_state: int = 42) -> tuple[pd.DataFrame, pd.DataFrame, pd.Series, pd.Series]:\n",
    "    features, target = data.drop(columns=[label_col]), data[label_col]\n",
    "    X_train, X_test, y_train, y_test = train_test_split(data, target, test_size=test_size, random_state=random_state)\n",
    "    return X_train[useful_features], X_test[useful_features],y_train, y_test \n",
    "    \n",
    "    "
   ],
   "metadata": {
    "collapsed": false
   },
   "id": "b8bb8b17e7592e23"
  },
  {
   "cell_type": "code",
   "execution_count": 13,
   "id": "27b27fc3",
   "metadata": {
    "ExecuteTime": {
     "end_time": "2023-10-27T10:09:12.064142700Z",
     "start_time": "2023-10-27T10:09:12.039143800Z"
    }
   },
   "outputs": [],
   "source": [
    "X, y = df.drop(columns=[label_col]), df[label_col]"
   ]
  },
  {
   "cell_type": "code",
   "execution_count": 14,
   "id": "80c72b40",
   "metadata": {
    "ExecuteTime": {
     "end_time": "2023-10-27T10:09:13.649309800Z",
     "start_time": "2023-10-27T10:09:12.951310300Z"
    }
   },
   "outputs": [],
   "source": [
    "from sklearn.model_selection import train_test_split\n",
    "\n",
    "#X_train, X_test, y_train, y_test = train_test_split(X, y, test_size=0.33, random_state=42)"
   ]
  },
  {
   "cell_type": "code",
   "execution_count": 15,
   "id": "1b1633dc",
   "metadata": {
    "ExecuteTime": {
     "end_time": "2023-10-27T10:09:14.588334100Z",
     "start_time": "2023-10-27T10:09:14.562331100Z"
    }
   },
   "outputs": [
    {
     "data": {
      "text/plain": "    Foundation KitchenQual  TotRmsAbvGrd  WoodDeckSF  YrSold  1stFlrSF\n266     CBlock          TA             6         370    2007      1113\n327     CBlock          TA            10         155    2007      1728\n348     CBlock          TA             5          48    2008       616\n478      PConc          Ex             7           0    2009       916\n59      CBlock          TA             4         196    2008       780",
      "text/html": "<div>\n<style scoped>\n    .dataframe tbody tr th:only-of-type {\n        vertical-align: middle;\n    }\n\n    .dataframe tbody tr th {\n        vertical-align: top;\n    }\n\n    .dataframe thead th {\n        text-align: right;\n    }\n</style>\n<table border=\"1\" class=\"dataframe\">\n  <thead>\n    <tr style=\"text-align: right;\">\n      <th></th>\n      <th>Foundation</th>\n      <th>KitchenQual</th>\n      <th>TotRmsAbvGrd</th>\n      <th>WoodDeckSF</th>\n      <th>YrSold</th>\n      <th>1stFlrSF</th>\n    </tr>\n  </thead>\n  <tbody>\n    <tr>\n      <th>266</th>\n      <td>CBlock</td>\n      <td>TA</td>\n      <td>6</td>\n      <td>370</td>\n      <td>2007</td>\n      <td>1113</td>\n    </tr>\n    <tr>\n      <th>327</th>\n      <td>CBlock</td>\n      <td>TA</td>\n      <td>10</td>\n      <td>155</td>\n      <td>2007</td>\n      <td>1728</td>\n    </tr>\n    <tr>\n      <th>348</th>\n      <td>CBlock</td>\n      <td>TA</td>\n      <td>5</td>\n      <td>48</td>\n      <td>2008</td>\n      <td>616</td>\n    </tr>\n    <tr>\n      <th>478</th>\n      <td>PConc</td>\n      <td>Ex</td>\n      <td>7</td>\n      <td>0</td>\n      <td>2009</td>\n      <td>916</td>\n    </tr>\n    <tr>\n      <th>59</th>\n      <td>CBlock</td>\n      <td>TA</td>\n      <td>4</td>\n      <td>196</td>\n      <td>2008</td>\n      <td>780</td>\n    </tr>\n  </tbody>\n</table>\n</div>"
     },
     "execution_count": 15,
     "metadata": {},
     "output_type": "execute_result"
    }
   ],
   "source": [
    "#X_train = X_train[useful_features]\n",
    "#X_train.head()"
   ]
  },
  {
   "cell_type": "code",
   "execution_count": 16,
   "id": "ecde3c09",
   "metadata": {
    "ExecuteTime": {
     "end_time": "2023-10-27T10:09:16.567441300Z",
     "start_time": "2023-10-27T10:09:16.504443Z"
    }
   },
   "outputs": [
    {
     "data": {
      "text/plain": "     Foundation KitchenQual  TotRmsAbvGrd  WoodDeckSF  YrSold  1stFlrSF\n123       PConc          Gd             5           0    2008      1199\n1189      PConc          Gd             8         635    2010      1055\n462      CBlock          TA             5           0    2007      1277\n351       PConc          Gd             6           0    2007      1200\n1009     CBlock          TA             6           0    2007       912",
      "text/html": "<div>\n<style scoped>\n    .dataframe tbody tr th:only-of-type {\n        vertical-align: middle;\n    }\n\n    .dataframe tbody tr th {\n        vertical-align: top;\n    }\n\n    .dataframe thead th {\n        text-align: right;\n    }\n</style>\n<table border=\"1\" class=\"dataframe\">\n  <thead>\n    <tr style=\"text-align: right;\">\n      <th></th>\n      <th>Foundation</th>\n      <th>KitchenQual</th>\n      <th>TotRmsAbvGrd</th>\n      <th>WoodDeckSF</th>\n      <th>YrSold</th>\n      <th>1stFlrSF</th>\n    </tr>\n  </thead>\n  <tbody>\n    <tr>\n      <th>123</th>\n      <td>PConc</td>\n      <td>Gd</td>\n      <td>5</td>\n      <td>0</td>\n      <td>2008</td>\n      <td>1199</td>\n    </tr>\n    <tr>\n      <th>1189</th>\n      <td>PConc</td>\n      <td>Gd</td>\n      <td>8</td>\n      <td>635</td>\n      <td>2010</td>\n      <td>1055</td>\n    </tr>\n    <tr>\n      <th>462</th>\n      <td>CBlock</td>\n      <td>TA</td>\n      <td>5</td>\n      <td>0</td>\n      <td>2007</td>\n      <td>1277</td>\n    </tr>\n    <tr>\n      <th>351</th>\n      <td>PConc</td>\n      <td>Gd</td>\n      <td>6</td>\n      <td>0</td>\n      <td>2007</td>\n      <td>1200</td>\n    </tr>\n    <tr>\n      <th>1009</th>\n      <td>CBlock</td>\n      <td>TA</td>\n      <td>6</td>\n      <td>0</td>\n      <td>2007</td>\n      <td>912</td>\n    </tr>\n  </tbody>\n</table>\n</div>"
     },
     "execution_count": 16,
     "metadata": {},
     "output_type": "execute_result"
    }
   ],
   "source": [
    "#X_test = X_test[useful_features]\n",
    "#X_test.head()"
   ]
  },
  {
   "cell_type": "markdown",
   "id": "de596fde",
   "metadata": {},
   "source": [
    "#### Analysis Part (Kept as it is since it was difficult to understand)"
   ]
  },
  {
   "cell_type": "code",
   "execution_count": 15,
   "id": "7ea92aa7",
   "metadata": {},
   "outputs": [
    {
     "data": {
      "text/html": [
       "<div>\n",
       "<style scoped>\n",
       "    .dataframe tbody tr th:only-of-type {\n",
       "        vertical-align: middle;\n",
       "    }\n",
       "\n",
       "    .dataframe tbody tr th {\n",
       "        vertical-align: top;\n",
       "    }\n",
       "\n",
       "    .dataframe thead th {\n",
       "        text-align: right;\n",
       "    }\n",
       "</style>\n",
       "<table border=\"1\" class=\"dataframe\">\n",
       "  <thead>\n",
       "    <tr style=\"text-align: right;\">\n",
       "      <th></th>\n",
       "      <th>Foundation</th>\n",
       "      <th>KitchenQual</th>\n",
       "      <th>TotRmsAbvGrd</th>\n",
       "      <th>WoodDeckSF</th>\n",
       "      <th>YrSold</th>\n",
       "      <th>1stFlrSF</th>\n",
       "      <th>SalePrice</th>\n",
       "    </tr>\n",
       "  </thead>\n",
       "  <tbody>\n",
       "    <tr>\n",
       "      <th>145</th>\n",
       "      <td>PConc</td>\n",
       "      <td>Gd</td>\n",
       "      <td>7</td>\n",
       "      <td>0</td>\n",
       "      <td>2006</td>\n",
       "      <td>970</td>\n",
       "      <td>130000</td>\n",
       "    </tr>\n",
       "    <tr>\n",
       "      <th>193</th>\n",
       "      <td>PConc</td>\n",
       "      <td>Gd</td>\n",
       "      <td>7</td>\n",
       "      <td>0</td>\n",
       "      <td>2006</td>\n",
       "      <td>970</td>\n",
       "      <td>130000</td>\n",
       "    </tr>\n",
       "  </tbody>\n",
       "</table>\n",
       "</div>"
      ],
      "text/plain": [
       "    Foundation KitchenQual  TotRmsAbvGrd  WoodDeckSF  YrSold  1stFlrSF  \\\n",
       "145      PConc          Gd             7           0    2006       970   \n",
       "193      PConc          Gd             7           0    2006       970   \n",
       "\n",
       "     SalePrice  \n",
       "145     130000  \n",
       "193     130000  "
      ]
     },
     "execution_count": 15,
     "metadata": {},
     "output_type": "execute_result"
    }
   ],
   "source": [
    "df_tmp = df_master[useful_features+[label_col]]\n",
    "df_tmp[df_tmp.duplicated(keep=False)]"
   ]
  },
  {
   "cell_type": "code",
   "execution_count": 16,
   "id": "44fae16a",
   "metadata": {
    "scrolled": true
   },
   "outputs": [
    {
     "data": {
      "text/html": [
       "<div>\n",
       "<style scoped>\n",
       "    .dataframe tbody tr th:only-of-type {\n",
       "        vertical-align: middle;\n",
       "    }\n",
       "\n",
       "    .dataframe tbody tr th {\n",
       "        vertical-align: top;\n",
       "    }\n",
       "\n",
       "    .dataframe thead th {\n",
       "        text-align: right;\n",
       "    }\n",
       "</style>\n",
       "<table border=\"1\" class=\"dataframe\">\n",
       "  <thead>\n",
       "    <tr style=\"text-align: right;\">\n",
       "      <th></th>\n",
       "      <th>Foundation</th>\n",
       "      <th>KitchenQual</th>\n",
       "      <th>TotRmsAbvGrd</th>\n",
       "      <th>WoodDeckSF</th>\n",
       "      <th>YrSold</th>\n",
       "      <th>1stFlrSF</th>\n",
       "      <th>SalePrice</th>\n",
       "    </tr>\n",
       "  </thead>\n",
       "  <tbody>\n",
       "    <tr>\n",
       "      <th>18</th>\n",
       "      <td>PConc</td>\n",
       "      <td>Gd</td>\n",
       "      <td>6</td>\n",
       "      <td>0</td>\n",
       "      <td>2008</td>\n",
       "      <td>1114</td>\n",
       "      <td>159000</td>\n",
       "    </tr>\n",
       "    <tr>\n",
       "      <th>76</th>\n",
       "      <td>CBlock</td>\n",
       "      <td>TA</td>\n",
       "      <td>4</td>\n",
       "      <td>0</td>\n",
       "      <td>2008</td>\n",
       "      <td>952</td>\n",
       "      <td>135750</td>\n",
       "    </tr>\n",
       "    <tr>\n",
       "      <th>87</th>\n",
       "      <td>PConc</td>\n",
       "      <td>Gd</td>\n",
       "      <td>4</td>\n",
       "      <td>0</td>\n",
       "      <td>2009</td>\n",
       "      <td>612</td>\n",
       "      <td>164500</td>\n",
       "    </tr>\n",
       "    <tr>\n",
       "      <th>89</th>\n",
       "      <td>PConc</td>\n",
       "      <td>TA</td>\n",
       "      <td>5</td>\n",
       "      <td>0</td>\n",
       "      <td>2007</td>\n",
       "      <td>990</td>\n",
       "      <td>123600</td>\n",
       "    </tr>\n",
       "    <tr>\n",
       "      <th>102</th>\n",
       "      <td>Slab</td>\n",
       "      <td>TA</td>\n",
       "      <td>8</td>\n",
       "      <td>0</td>\n",
       "      <td>2009</td>\n",
       "      <td>1535</td>\n",
       "      <td>118964</td>\n",
       "    </tr>\n",
       "    <tr>\n",
       "      <th>126</th>\n",
       "      <td>CBlock</td>\n",
       "      <td>TA</td>\n",
       "      <td>5</td>\n",
       "      <td>0</td>\n",
       "      <td>2007</td>\n",
       "      <td>958</td>\n",
       "      <td>128000</td>\n",
       "    </tr>\n",
       "    <tr>\n",
       "      <th>145</th>\n",
       "      <td>PConc</td>\n",
       "      <td>Gd</td>\n",
       "      <td>7</td>\n",
       "      <td>0</td>\n",
       "      <td>2006</td>\n",
       "      <td>970</td>\n",
       "      <td>130000</td>\n",
       "    </tr>\n",
       "    <tr>\n",
       "      <th>193</th>\n",
       "      <td>PConc</td>\n",
       "      <td>Gd</td>\n",
       "      <td>7</td>\n",
       "      <td>0</td>\n",
       "      <td>2006</td>\n",
       "      <td>970</td>\n",
       "      <td>130000</td>\n",
       "    </tr>\n",
       "    <tr>\n",
       "      <th>194</th>\n",
       "      <td>CBlock</td>\n",
       "      <td>TA</td>\n",
       "      <td>5</td>\n",
       "      <td>0</td>\n",
       "      <td>2008</td>\n",
       "      <td>864</td>\n",
       "      <td>127000</td>\n",
       "    </tr>\n",
       "    <tr>\n",
       "      <th>203</th>\n",
       "      <td>PConc</td>\n",
       "      <td>Gd</td>\n",
       "      <td>3</td>\n",
       "      <td>149</td>\n",
       "      <td>2008</td>\n",
       "      <td>848</td>\n",
       "      <td>149000</td>\n",
       "    </tr>\n",
       "    <tr>\n",
       "      <th>210</th>\n",
       "      <td>CBlock</td>\n",
       "      <td>TA</td>\n",
       "      <td>5</td>\n",
       "      <td>0</td>\n",
       "      <td>2008</td>\n",
       "      <td>864</td>\n",
       "      <td>98000</td>\n",
       "    </tr>\n",
       "    <tr>\n",
       "      <th>227</th>\n",
       "      <td>CBlock</td>\n",
       "      <td>TA</td>\n",
       "      <td>5</td>\n",
       "      <td>0</td>\n",
       "      <td>2008</td>\n",
       "      <td>483</td>\n",
       "      <td>106000</td>\n",
       "    </tr>\n",
       "    <tr>\n",
       "      <th>229</th>\n",
       "      <td>PConc</td>\n",
       "      <td>Gd</td>\n",
       "      <td>7</td>\n",
       "      <td>143</td>\n",
       "      <td>2009</td>\n",
       "      <td>1555</td>\n",
       "      <td>192500</td>\n",
       "    </tr>\n",
       "    <tr>\n",
       "      <th>235</th>\n",
       "      <td>CBlock</td>\n",
       "      <td>TA</td>\n",
       "      <td>5</td>\n",
       "      <td>0</td>\n",
       "      <td>2008</td>\n",
       "      <td>483</td>\n",
       "      <td>89500</td>\n",
       "    </tr>\n",
       "    <tr>\n",
       "      <th>282</th>\n",
       "      <td>PConc</td>\n",
       "      <td>Gd</td>\n",
       "      <td>6</td>\n",
       "      <td>172</td>\n",
       "      <td>2009</td>\n",
       "      <td>1314</td>\n",
       "      <td>207500</td>\n",
       "    </tr>\n",
       "    <tr>\n",
       "      <th>346</th>\n",
       "      <td>CBlock</td>\n",
       "      <td>TA</td>\n",
       "      <td>5</td>\n",
       "      <td>0</td>\n",
       "      <td>2007</td>\n",
       "      <td>958</td>\n",
       "      <td>151500</td>\n",
       "    </tr>\n",
       "    <tr>\n",
       "      <th>360</th>\n",
       "      <td>CBlock</td>\n",
       "      <td>TA</td>\n",
       "      <td>5</td>\n",
       "      <td>0</td>\n",
       "      <td>2007</td>\n",
       "      <td>912</td>\n",
       "      <td>156000</td>\n",
       "    </tr>\n",
       "    <tr>\n",
       "      <th>374</th>\n",
       "      <td>PConc</td>\n",
       "      <td>Gd</td>\n",
       "      <td>8</td>\n",
       "      <td>100</td>\n",
       "      <td>2007</td>\n",
       "      <td>847</td>\n",
       "      <td>219500</td>\n",
       "    </tr>\n",
       "    <tr>\n",
       "      <th>462</th>\n",
       "      <td>CBlock</td>\n",
       "      <td>TA</td>\n",
       "      <td>5</td>\n",
       "      <td>0</td>\n",
       "      <td>2009</td>\n",
       "      <td>864</td>\n",
       "      <td>62383</td>\n",
       "    </tr>\n",
       "    <tr>\n",
       "      <th>511</th>\n",
       "      <td>PConc</td>\n",
       "      <td>Gd</td>\n",
       "      <td>6</td>\n",
       "      <td>132</td>\n",
       "      <td>2006</td>\n",
       "      <td>1368</td>\n",
       "      <td>202665</td>\n",
       "    </tr>\n",
       "    <tr>\n",
       "      <th>512</th>\n",
       "      <td>CBlock</td>\n",
       "      <td>TA</td>\n",
       "      <td>5</td>\n",
       "      <td>0</td>\n",
       "      <td>2006</td>\n",
       "      <td>864</td>\n",
       "      <td>129900</td>\n",
       "    </tr>\n",
       "    <tr>\n",
       "      <th>593</th>\n",
       "      <td>PConc</td>\n",
       "      <td>Gd</td>\n",
       "      <td>4</td>\n",
       "      <td>140</td>\n",
       "      <td>2009</td>\n",
       "      <td>848</td>\n",
       "      <td>140000</td>\n",
       "    </tr>\n",
       "    <tr>\n",
       "      <th>690</th>\n",
       "      <td>PConc</td>\n",
       "      <td>Gd</td>\n",
       "      <td>3</td>\n",
       "      <td>149</td>\n",
       "      <td>2008</td>\n",
       "      <td>848</td>\n",
       "      <td>141000</td>\n",
       "    </tr>\n",
       "    <tr>\n",
       "      <th>722</th>\n",
       "      <td>CBlock</td>\n",
       "      <td>TA</td>\n",
       "      <td>5</td>\n",
       "      <td>0</td>\n",
       "      <td>2009</td>\n",
       "      <td>864</td>\n",
       "      <td>124500</td>\n",
       "    </tr>\n",
       "    <tr>\n",
       "      <th>760</th>\n",
       "      <td>CBlock</td>\n",
       "      <td>TA</td>\n",
       "      <td>5</td>\n",
       "      <td>0</td>\n",
       "      <td>2009</td>\n",
       "      <td>864</td>\n",
       "      <td>127500</td>\n",
       "    </tr>\n",
       "    <tr>\n",
       "      <th>773</th>\n",
       "      <td>CBlock</td>\n",
       "      <td>TA</td>\n",
       "      <td>5</td>\n",
       "      <td>0</td>\n",
       "      <td>2007</td>\n",
       "      <td>912</td>\n",
       "      <td>114500</td>\n",
       "    </tr>\n",
       "    <tr>\n",
       "      <th>829</th>\n",
       "      <td>PConc</td>\n",
       "      <td>Gd</td>\n",
       "      <td>4</td>\n",
       "      <td>0</td>\n",
       "      <td>2006</td>\n",
       "      <td>520</td>\n",
       "      <td>147400</td>\n",
       "    </tr>\n",
       "    <tr>\n",
       "      <th>831</th>\n",
       "      <td>PConc</td>\n",
       "      <td>Gd</td>\n",
       "      <td>4</td>\n",
       "      <td>0</td>\n",
       "      <td>2006</td>\n",
       "      <td>520</td>\n",
       "      <td>151000</td>\n",
       "    </tr>\n",
       "    <tr>\n",
       "      <th>834</th>\n",
       "      <td>CBlock</td>\n",
       "      <td>TA</td>\n",
       "      <td>6</td>\n",
       "      <td>0</td>\n",
       "      <td>2008</td>\n",
       "      <td>1144</td>\n",
       "      <td>139950</td>\n",
       "    </tr>\n",
       "    <tr>\n",
       "      <th>837</th>\n",
       "      <td>CBlock</td>\n",
       "      <td>TA</td>\n",
       "      <td>5</td>\n",
       "      <td>0</td>\n",
       "      <td>2008</td>\n",
       "      <td>483</td>\n",
       "      <td>100000</td>\n",
       "    </tr>\n",
       "    <tr>\n",
       "      <th>847</th>\n",
       "      <td>CBlock</td>\n",
       "      <td>TA</td>\n",
       "      <td>5</td>\n",
       "      <td>0</td>\n",
       "      <td>2009</td>\n",
       "      <td>864</td>\n",
       "      <td>133500</td>\n",
       "    </tr>\n",
       "    <tr>\n",
       "      <th>894</th>\n",
       "      <td>Slab</td>\n",
       "      <td>TA</td>\n",
       "      <td>8</td>\n",
       "      <td>0</td>\n",
       "      <td>2009</td>\n",
       "      <td>1535</td>\n",
       "      <td>118858</td>\n",
       "    </tr>\n",
       "    <tr>\n",
       "      <th>914</th>\n",
       "      <td>PConc</td>\n",
       "      <td>Gd</td>\n",
       "      <td>4</td>\n",
       "      <td>0</td>\n",
       "      <td>2009</td>\n",
       "      <td>612</td>\n",
       "      <td>173733</td>\n",
       "    </tr>\n",
       "    <tr>\n",
       "      <th>978</th>\n",
       "      <td>CBlock</td>\n",
       "      <td>TA</td>\n",
       "      <td>5</td>\n",
       "      <td>0</td>\n",
       "      <td>2007</td>\n",
       "      <td>894</td>\n",
       "      <td>110000</td>\n",
       "    </tr>\n",
       "    <tr>\n",
       "      <th>1079</th>\n",
       "      <td>PConc</td>\n",
       "      <td>TA</td>\n",
       "      <td>5</td>\n",
       "      <td>0</td>\n",
       "      <td>2007</td>\n",
       "      <td>990</td>\n",
       "      <td>126000</td>\n",
       "    </tr>\n",
       "    <tr>\n",
       "      <th>1088</th>\n",
       "      <td>PConc</td>\n",
       "      <td>Gd</td>\n",
       "      <td>7</td>\n",
       "      <td>0</td>\n",
       "      <td>2006</td>\n",
       "      <td>970</td>\n",
       "      <td>137500</td>\n",
       "    </tr>\n",
       "    <tr>\n",
       "      <th>1090</th>\n",
       "      <td>Slab</td>\n",
       "      <td>TA</td>\n",
       "      <td>6</td>\n",
       "      <td>0</td>\n",
       "      <td>2009</td>\n",
       "      <td>1040</td>\n",
       "      <td>92900</td>\n",
       "    </tr>\n",
       "    <tr>\n",
       "      <th>1126</th>\n",
       "      <td>PConc</td>\n",
       "      <td>Gd</td>\n",
       "      <td>7</td>\n",
       "      <td>143</td>\n",
       "      <td>2009</td>\n",
       "      <td>1555</td>\n",
       "      <td>174000</td>\n",
       "    </tr>\n",
       "    <tr>\n",
       "      <th>1128</th>\n",
       "      <td>PConc</td>\n",
       "      <td>Gd</td>\n",
       "      <td>8</td>\n",
       "      <td>100</td>\n",
       "      <td>2007</td>\n",
       "      <td>847</td>\n",
       "      <td>215000</td>\n",
       "    </tr>\n",
       "    <tr>\n",
       "      <th>1140</th>\n",
       "      <td>CBlock</td>\n",
       "      <td>TA</td>\n",
       "      <td>4</td>\n",
       "      <td>0</td>\n",
       "      <td>2008</td>\n",
       "      <td>952</td>\n",
       "      <td>139000</td>\n",
       "    </tr>\n",
       "    <tr>\n",
       "      <th>1157</th>\n",
       "      <td>PConc</td>\n",
       "      <td>Gd</td>\n",
       "      <td>6</td>\n",
       "      <td>172</td>\n",
       "      <td>2009</td>\n",
       "      <td>1314</td>\n",
       "      <td>230000</td>\n",
       "    </tr>\n",
       "    <tr>\n",
       "      <th>1162</th>\n",
       "      <td>CBlock</td>\n",
       "      <td>TA</td>\n",
       "      <td>5</td>\n",
       "      <td>0</td>\n",
       "      <td>2007</td>\n",
       "      <td>894</td>\n",
       "      <td>129000</td>\n",
       "    </tr>\n",
       "    <tr>\n",
       "      <th>1200</th>\n",
       "      <td>CBlock</td>\n",
       "      <td>TA</td>\n",
       "      <td>5</td>\n",
       "      <td>0</td>\n",
       "      <td>2006</td>\n",
       "      <td>864</td>\n",
       "      <td>116050</td>\n",
       "    </tr>\n",
       "    <tr>\n",
       "      <th>1215</th>\n",
       "      <td>CBlock</td>\n",
       "      <td>TA</td>\n",
       "      <td>5</td>\n",
       "      <td>0</td>\n",
       "      <td>2007</td>\n",
       "      <td>894</td>\n",
       "      <td>125000</td>\n",
       "    </tr>\n",
       "    <tr>\n",
       "      <th>1294</th>\n",
       "      <td>CBlock</td>\n",
       "      <td>TA</td>\n",
       "      <td>5</td>\n",
       "      <td>0</td>\n",
       "      <td>2006</td>\n",
       "      <td>864</td>\n",
       "      <td>115000</td>\n",
       "    </tr>\n",
       "    <tr>\n",
       "      <th>1297</th>\n",
       "      <td>PConc</td>\n",
       "      <td>TA</td>\n",
       "      <td>5</td>\n",
       "      <td>0</td>\n",
       "      <td>2006</td>\n",
       "      <td>1072</td>\n",
       "      <td>140000</td>\n",
       "    </tr>\n",
       "    <tr>\n",
       "      <th>1306</th>\n",
       "      <td>PConc</td>\n",
       "      <td>Gd</td>\n",
       "      <td>6</td>\n",
       "      <td>132</td>\n",
       "      <td>2006</td>\n",
       "      <td>1368</td>\n",
       "      <td>202500</td>\n",
       "    </tr>\n",
       "    <tr>\n",
       "      <th>1339</th>\n",
       "      <td>CBlock</td>\n",
       "      <td>TA</td>\n",
       "      <td>5</td>\n",
       "      <td>0</td>\n",
       "      <td>2006</td>\n",
       "      <td>864</td>\n",
       "      <td>128500</td>\n",
       "    </tr>\n",
       "    <tr>\n",
       "      <th>1341</th>\n",
       "      <td>PConc</td>\n",
       "      <td>Gd</td>\n",
       "      <td>6</td>\n",
       "      <td>0</td>\n",
       "      <td>2008</td>\n",
       "      <td>1114</td>\n",
       "      <td>155000</td>\n",
       "    </tr>\n",
       "    <tr>\n",
       "      <th>1364</th>\n",
       "      <td>PConc</td>\n",
       "      <td>Gd</td>\n",
       "      <td>4</td>\n",
       "      <td>0</td>\n",
       "      <td>2006</td>\n",
       "      <td>520</td>\n",
       "      <td>144152</td>\n",
       "    </tr>\n",
       "    <tr>\n",
       "      <th>1368</th>\n",
       "      <td>PConc</td>\n",
       "      <td>Gd</td>\n",
       "      <td>4</td>\n",
       "      <td>140</td>\n",
       "      <td>2009</td>\n",
       "      <td>848</td>\n",
       "      <td>144000</td>\n",
       "    </tr>\n",
       "    <tr>\n",
       "      <th>1412</th>\n",
       "      <td>Slab</td>\n",
       "      <td>TA</td>\n",
       "      <td>6</td>\n",
       "      <td>0</td>\n",
       "      <td>2009</td>\n",
       "      <td>1040</td>\n",
       "      <td>90000</td>\n",
       "    </tr>\n",
       "    <tr>\n",
       "      <th>1418</th>\n",
       "      <td>CBlock</td>\n",
       "      <td>TA</td>\n",
       "      <td>6</td>\n",
       "      <td>0</td>\n",
       "      <td>2008</td>\n",
       "      <td>1144</td>\n",
       "      <td>124000</td>\n",
       "    </tr>\n",
       "    <tr>\n",
       "      <th>1441</th>\n",
       "      <td>PConc</td>\n",
       "      <td>Gd</td>\n",
       "      <td>3</td>\n",
       "      <td>149</td>\n",
       "      <td>2008</td>\n",
       "      <td>848</td>\n",
       "      <td>149300</td>\n",
       "    </tr>\n",
       "    <tr>\n",
       "      <th>1452</th>\n",
       "      <td>PConc</td>\n",
       "      <td>TA</td>\n",
       "      <td>5</td>\n",
       "      <td>0</td>\n",
       "      <td>2006</td>\n",
       "      <td>1072</td>\n",
       "      <td>145000</td>\n",
       "    </tr>\n",
       "  </tbody>\n",
       "</table>\n",
       "</div>"
      ],
      "text/plain": [
       "     Foundation KitchenQual  TotRmsAbvGrd  WoodDeckSF  YrSold  1stFlrSF  \\\n",
       "18        PConc          Gd             6           0    2008      1114   \n",
       "76       CBlock          TA             4           0    2008       952   \n",
       "87        PConc          Gd             4           0    2009       612   \n",
       "89        PConc          TA             5           0    2007       990   \n",
       "102        Slab          TA             8           0    2009      1535   \n",
       "126      CBlock          TA             5           0    2007       958   \n",
       "145       PConc          Gd             7           0    2006       970   \n",
       "193       PConc          Gd             7           0    2006       970   \n",
       "194      CBlock          TA             5           0    2008       864   \n",
       "203       PConc          Gd             3         149    2008       848   \n",
       "210      CBlock          TA             5           0    2008       864   \n",
       "227      CBlock          TA             5           0    2008       483   \n",
       "229       PConc          Gd             7         143    2009      1555   \n",
       "235      CBlock          TA             5           0    2008       483   \n",
       "282       PConc          Gd             6         172    2009      1314   \n",
       "346      CBlock          TA             5           0    2007       958   \n",
       "360      CBlock          TA             5           0    2007       912   \n",
       "374       PConc          Gd             8         100    2007       847   \n",
       "462      CBlock          TA             5           0    2009       864   \n",
       "511       PConc          Gd             6         132    2006      1368   \n",
       "512      CBlock          TA             5           0    2006       864   \n",
       "593       PConc          Gd             4         140    2009       848   \n",
       "690       PConc          Gd             3         149    2008       848   \n",
       "722      CBlock          TA             5           0    2009       864   \n",
       "760      CBlock          TA             5           0    2009       864   \n",
       "773      CBlock          TA             5           0    2007       912   \n",
       "829       PConc          Gd             4           0    2006       520   \n",
       "831       PConc          Gd             4           0    2006       520   \n",
       "834      CBlock          TA             6           0    2008      1144   \n",
       "837      CBlock          TA             5           0    2008       483   \n",
       "847      CBlock          TA             5           0    2009       864   \n",
       "894        Slab          TA             8           0    2009      1535   \n",
       "914       PConc          Gd             4           0    2009       612   \n",
       "978      CBlock          TA             5           0    2007       894   \n",
       "1079      PConc          TA             5           0    2007       990   \n",
       "1088      PConc          Gd             7           0    2006       970   \n",
       "1090       Slab          TA             6           0    2009      1040   \n",
       "1126      PConc          Gd             7         143    2009      1555   \n",
       "1128      PConc          Gd             8         100    2007       847   \n",
       "1140     CBlock          TA             4           0    2008       952   \n",
       "1157      PConc          Gd             6         172    2009      1314   \n",
       "1162     CBlock          TA             5           0    2007       894   \n",
       "1200     CBlock          TA             5           0    2006       864   \n",
       "1215     CBlock          TA             5           0    2007       894   \n",
       "1294     CBlock          TA             5           0    2006       864   \n",
       "1297      PConc          TA             5           0    2006      1072   \n",
       "1306      PConc          Gd             6         132    2006      1368   \n",
       "1339     CBlock          TA             5           0    2006       864   \n",
       "1341      PConc          Gd             6           0    2008      1114   \n",
       "1364      PConc          Gd             4           0    2006       520   \n",
       "1368      PConc          Gd             4         140    2009       848   \n",
       "1412       Slab          TA             6           0    2009      1040   \n",
       "1418     CBlock          TA             6           0    2008      1144   \n",
       "1441      PConc          Gd             3         149    2008       848   \n",
       "1452      PConc          TA             5           0    2006      1072   \n",
       "\n",
       "      SalePrice  \n",
       "18       159000  \n",
       "76       135750  \n",
       "87       164500  \n",
       "89       123600  \n",
       "102      118964  \n",
       "126      128000  \n",
       "145      130000  \n",
       "193      130000  \n",
       "194      127000  \n",
       "203      149000  \n",
       "210       98000  \n",
       "227      106000  \n",
       "229      192500  \n",
       "235       89500  \n",
       "282      207500  \n",
       "346      151500  \n",
       "360      156000  \n",
       "374      219500  \n",
       "462       62383  \n",
       "511      202665  \n",
       "512      129900  \n",
       "593      140000  \n",
       "690      141000  \n",
       "722      124500  \n",
       "760      127500  \n",
       "773      114500  \n",
       "829      147400  \n",
       "831      151000  \n",
       "834      139950  \n",
       "837      100000  \n",
       "847      133500  \n",
       "894      118858  \n",
       "914      173733  \n",
       "978      110000  \n",
       "1079     126000  \n",
       "1088     137500  \n",
       "1090      92900  \n",
       "1126     174000  \n",
       "1128     215000  \n",
       "1140     139000  \n",
       "1157     230000  \n",
       "1162     129000  \n",
       "1200     116050  \n",
       "1215     125000  \n",
       "1294     115000  \n",
       "1297     140000  \n",
       "1306     202500  \n",
       "1339     128500  \n",
       "1341     155000  \n",
       "1364     144152  \n",
       "1368     144000  \n",
       "1412      90000  \n",
       "1418     124000  \n",
       "1441     149300  \n",
       "1452     145000  "
      ]
     },
     "execution_count": 16,
     "metadata": {},
     "output_type": "execute_result"
    }
   ],
   "source": [
    "df_tmp = df_master[useful_features+[label_col]]\n",
    "df_tmp[df_tmp[useful_features].duplicated(keep=False)]"
   ]
  },
  {
   "cell_type": "code",
   "execution_count": 17,
   "id": "1dbbabb6",
   "metadata": {},
   "outputs": [
    {
     "data": {
      "text/html": [
       "<div>\n",
       "<style scoped>\n",
       "    .dataframe tbody tr th:only-of-type {\n",
       "        vertical-align: middle;\n",
       "    }\n",
       "\n",
       "    .dataframe tbody tr th {\n",
       "        vertical-align: top;\n",
       "    }\n",
       "\n",
       "    .dataframe thead th {\n",
       "        text-align: right;\n",
       "    }\n",
       "</style>\n",
       "<table border=\"1\" class=\"dataframe\">\n",
       "  <thead>\n",
       "    <tr style=\"text-align: right;\">\n",
       "      <th></th>\n",
       "      <th>Foundation</th>\n",
       "      <th>KitchenQual</th>\n",
       "      <th>TotRmsAbvGrd</th>\n",
       "      <th>WoodDeckSF</th>\n",
       "      <th>YrSold</th>\n",
       "      <th>1stFlrSF</th>\n",
       "      <th>SalePrice</th>\n",
       "    </tr>\n",
       "  </thead>\n",
       "  <tbody>\n",
       "    <tr>\n",
       "      <th>18</th>\n",
       "      <td>PConc</td>\n",
       "      <td>Gd</td>\n",
       "      <td>6</td>\n",
       "      <td>0</td>\n",
       "      <td>2008</td>\n",
       "      <td>1114</td>\n",
       "      <td>159000</td>\n",
       "    </tr>\n",
       "    <tr>\n",
       "      <th>282</th>\n",
       "      <td>PConc</td>\n",
       "      <td>Gd</td>\n",
       "      <td>6</td>\n",
       "      <td>172</td>\n",
       "      <td>2009</td>\n",
       "      <td>1314</td>\n",
       "      <td>207500</td>\n",
       "    </tr>\n",
       "    <tr>\n",
       "      <th>511</th>\n",
       "      <td>PConc</td>\n",
       "      <td>Gd</td>\n",
       "      <td>6</td>\n",
       "      <td>132</td>\n",
       "      <td>2006</td>\n",
       "      <td>1368</td>\n",
       "      <td>202665</td>\n",
       "    </tr>\n",
       "    <tr>\n",
       "      <th>1157</th>\n",
       "      <td>PConc</td>\n",
       "      <td>Gd</td>\n",
       "      <td>6</td>\n",
       "      <td>172</td>\n",
       "      <td>2009</td>\n",
       "      <td>1314</td>\n",
       "      <td>230000</td>\n",
       "    </tr>\n",
       "    <tr>\n",
       "      <th>1306</th>\n",
       "      <td>PConc</td>\n",
       "      <td>Gd</td>\n",
       "      <td>6</td>\n",
       "      <td>132</td>\n",
       "      <td>2006</td>\n",
       "      <td>1368</td>\n",
       "      <td>202500</td>\n",
       "    </tr>\n",
       "    <tr>\n",
       "      <th>1341</th>\n",
       "      <td>PConc</td>\n",
       "      <td>Gd</td>\n",
       "      <td>6</td>\n",
       "      <td>0</td>\n",
       "      <td>2008</td>\n",
       "      <td>1114</td>\n",
       "      <td>155000</td>\n",
       "    </tr>\n",
       "  </tbody>\n",
       "</table>\n",
       "</div>"
      ],
      "text/plain": [
       "     Foundation KitchenQual  TotRmsAbvGrd  WoodDeckSF  YrSold  1stFlrSF  \\\n",
       "18        PConc          Gd             6           0    2008      1114   \n",
       "282       PConc          Gd             6         172    2009      1314   \n",
       "511       PConc          Gd             6         132    2006      1368   \n",
       "1157      PConc          Gd             6         172    2009      1314   \n",
       "1306      PConc          Gd             6         132    2006      1368   \n",
       "1341      PConc          Gd             6           0    2008      1114   \n",
       "\n",
       "      SalePrice  \n",
       "18       159000  \n",
       "282      207500  \n",
       "511      202665  \n",
       "1157     230000  \n",
       "1306     202500  \n",
       "1341     155000  "
      ]
     },
     "execution_count": 17,
     "metadata": {},
     "output_type": "execute_result"
    }
   ],
   "source": [
    "df_tmp2 = df_tmp[df_tmp[useful_features].duplicated(keep=False)]\n",
    "df_tmp2[(df_tmp2['Foundation'] == 'PConc') & (df_tmp2['KitchenQual'] == 'Gd') & (df_tmp2['TotRmsAbvGrd'] == 6)]"
   ]
  },
  {
   "cell_type": "markdown",
   "id": "71c22fd9",
   "metadata": {},
   "source": [
    "### Scale continuous features of the Train Set"
   ]
  },
  {
   "cell_type": "code",
   "execution_count": null,
   "outputs": [],
   "source": [
    "def scaler_func(df1: pd.DataFrame, df2: pd.DataFrame)-> tuple[pd.DataFrame, pd.DataFrame]:\n",
    "    continuous_columns = df1[useful_features].select_dtypes(include='number').columns\n",
    "    scaled_columns_Xtrain = loaded_scaler.transform(df1[continuous_columns])\n",
    "    scaled_columns_Xtest = loaded_scaler.transform(df2[continuous_columns])\n",
    "    continuous_features_train_df = pd.DataFrame(data=scaled_columns_Xtrain, columns=continuous_columns)\n",
    "    continuous_features_test_df = pd.DataFrame(data=scaled_columns_Xtest, columns=continuous_columns)\n",
    "    return continuous_features_train_df, continuous_features_test_df\n"
   ],
   "metadata": {
    "collapsed": false
   },
   "id": "a619945dbc9c2858"
  },
  {
   "cell_type": "code",
   "execution_count": 17,
   "id": "ed07a693",
   "metadata": {
    "ExecuteTime": {
     "end_time": "2023-10-27T10:09:25.528091600Z",
     "start_time": "2023-10-27T10:09:25.489913800Z"
    }
   },
   "outputs": [
    {
     "data": {
      "text/plain": "Index(['TotRmsAbvGrd', 'WoodDeckSF', 'YrSold', '1stFlrSF'], dtype='object')"
     },
     "execution_count": 17,
     "metadata": {},
     "output_type": "execute_result"
    }
   ],
   "source": [
    "continuous_columns = X_train[useful_features].select_dtypes(include='number').columns\n",
    "continuous_columns"
   ]
  },
  {
   "cell_type": "code",
   "execution_count": 18,
   "id": "61ebb188",
   "metadata": {
    "ExecuteTime": {
     "end_time": "2023-10-27T10:09:28.094561500Z",
     "start_time": "2023-10-27T10:09:28.074557Z"
    }
   },
   "outputs": [
    {
     "data": {
      "text/plain": "StandardScaler()",
      "text/html": "<style>#sk-container-id-1 {color: black;}#sk-container-id-1 pre{padding: 0;}#sk-container-id-1 div.sk-toggleable {background-color: white;}#sk-container-id-1 label.sk-toggleable__label {cursor: pointer;display: block;width: 100%;margin-bottom: 0;padding: 0.3em;box-sizing: border-box;text-align: center;}#sk-container-id-1 label.sk-toggleable__label-arrow:before {content: \"▸\";float: left;margin-right: 0.25em;color: #696969;}#sk-container-id-1 label.sk-toggleable__label-arrow:hover:before {color: black;}#sk-container-id-1 div.sk-estimator:hover label.sk-toggleable__label-arrow:before {color: black;}#sk-container-id-1 div.sk-toggleable__content {max-height: 0;max-width: 0;overflow: hidden;text-align: left;background-color: #f0f8ff;}#sk-container-id-1 div.sk-toggleable__content pre {margin: 0.2em;color: black;border-radius: 0.25em;background-color: #f0f8ff;}#sk-container-id-1 input.sk-toggleable__control:checked~div.sk-toggleable__content {max-height: 200px;max-width: 100%;overflow: auto;}#sk-container-id-1 input.sk-toggleable__control:checked~label.sk-toggleable__label-arrow:before {content: \"▾\";}#sk-container-id-1 div.sk-estimator input.sk-toggleable__control:checked~label.sk-toggleable__label {background-color: #d4ebff;}#sk-container-id-1 div.sk-label input.sk-toggleable__control:checked~label.sk-toggleable__label {background-color: #d4ebff;}#sk-container-id-1 input.sk-hidden--visually {border: 0;clip: rect(1px 1px 1px 1px);clip: rect(1px, 1px, 1px, 1px);height: 1px;margin: -1px;overflow: hidden;padding: 0;position: absolute;width: 1px;}#sk-container-id-1 div.sk-estimator {font-family: monospace;background-color: #f0f8ff;border: 1px dotted black;border-radius: 0.25em;box-sizing: border-box;margin-bottom: 0.5em;}#sk-container-id-1 div.sk-estimator:hover {background-color: #d4ebff;}#sk-container-id-1 div.sk-parallel-item::after {content: \"\";width: 100%;border-bottom: 1px solid gray;flex-grow: 1;}#sk-container-id-1 div.sk-label:hover label.sk-toggleable__label {background-color: #d4ebff;}#sk-container-id-1 div.sk-serial::before {content: \"\";position: absolute;border-left: 1px solid gray;box-sizing: border-box;top: 0;bottom: 0;left: 50%;z-index: 0;}#sk-container-id-1 div.sk-serial {display: flex;flex-direction: column;align-items: center;background-color: white;padding-right: 0.2em;padding-left: 0.2em;position: relative;}#sk-container-id-1 div.sk-item {position: relative;z-index: 1;}#sk-container-id-1 div.sk-parallel {display: flex;align-items: stretch;justify-content: center;background-color: white;position: relative;}#sk-container-id-1 div.sk-item::before, #sk-container-id-1 div.sk-parallel-item::before {content: \"\";position: absolute;border-left: 1px solid gray;box-sizing: border-box;top: 0;bottom: 0;left: 50%;z-index: -1;}#sk-container-id-1 div.sk-parallel-item {display: flex;flex-direction: column;z-index: 1;position: relative;background-color: white;}#sk-container-id-1 div.sk-parallel-item:first-child::after {align-self: flex-end;width: 50%;}#sk-container-id-1 div.sk-parallel-item:last-child::after {align-self: flex-start;width: 50%;}#sk-container-id-1 div.sk-parallel-item:only-child::after {width: 0;}#sk-container-id-1 div.sk-dashed-wrapped {border: 1px dashed gray;margin: 0 0.4em 0.5em 0.4em;box-sizing: border-box;padding-bottom: 0.4em;background-color: white;}#sk-container-id-1 div.sk-label label {font-family: monospace;font-weight: bold;display: inline-block;line-height: 1.2em;}#sk-container-id-1 div.sk-label-container {text-align: center;}#sk-container-id-1 div.sk-container {/* jupyter's `normalize.less` sets `[hidden] { display: none; }` but bootstrap.min.css set `[hidden] { display: none !important; }` so we also need the `!important` here to be able to override the default hidden behavior on the sphinx rendered scikit-learn.org. See: https://github.com/scikit-learn/scikit-learn/issues/21755 */display: inline-block !important;position: relative;}#sk-container-id-1 div.sk-text-repr-fallback {display: none;}</style><div id=\"sk-container-id-1\" class=\"sk-top-container\"><div class=\"sk-text-repr-fallback\"><pre>StandardScaler()</pre><b>In a Jupyter environment, please rerun this cell to show the HTML representation or trust the notebook. <br />On GitHub, the HTML representation is unable to render, please try loading this page with nbviewer.org.</b></div><div class=\"sk-container\" hidden><div class=\"sk-item\"><div class=\"sk-estimator sk-toggleable\"><input class=\"sk-toggleable__control sk-hidden--visually\" id=\"sk-estimator-id-1\" type=\"checkbox\" checked><label for=\"sk-estimator-id-1\" class=\"sk-toggleable__label sk-toggleable__label-arrow\">StandardScaler</label><div class=\"sk-toggleable__content\"><pre>StandardScaler()</pre></div></div></div></div></div>"
     },
     "execution_count": 18,
     "metadata": {},
     "output_type": "execute_result"
    }
   ],
   "source": [
    "from sklearn.preprocessing import StandardScaler\n",
    "\n",
    "scaler = StandardScaler()\n",
    "scaler.fit(X_train[continuous_columns])"
   ]
  },
  {
   "cell_type": "code",
   "execution_count": 69,
   "id": "b11110a8-2248-4247-9035-e4c9bf746701",
   "metadata": {},
   "outputs": [
    {
     "data": {
      "text/plain": [
       "['../models/scaler.joblib']"
      ]
     },
     "execution_count": 69,
     "metadata": {},
     "output_type": "execute_result"
    }
   ],
   "source": [
    "#joblib.dump(scaler, '../models/scaler.joblib')"
   ]
  },
  {
   "cell_type": "code",
   "execution_count": 19,
   "id": "aa0a2b99",
   "metadata": {
    "ExecuteTime": {
     "end_time": "2023-10-27T10:09:52.144661100Z",
     "start_time": "2023-10-27T10:09:52.115657100Z"
    }
   },
   "outputs": [
    {
     "data": {
      "text/plain": "array([[-0.37686857,  2.17600714, -0.62349243, -0.1457359 ],\n       [ 2.074059  ,  0.46789767, -0.62349243,  1.40975046],\n       [-0.98960046, -0.38218472,  0.13775759, -1.40277122],\n       ...,\n       [ 0.23586332,  0.80951957, -1.38474244,  1.55897598],\n       [ 0.23586332, -0.76353009,  1.66025761, -0.92727295],\n       [-0.98960046, -0.76353009,  1.66025761, -1.26113344]])"
     },
     "execution_count": 19,
     "metadata": {},
     "output_type": "execute_result"
    }
   ],
   "source": [
    "scaled_columns_Xtrain = scaler.transform(X_train[continuous_columns])\n",
    "scaled_columns_Xtrain"
   ]
  },
  {
   "cell_type": "code",
   "execution_count": 20,
   "id": "56fd10b2",
   "metadata": {
    "ExecuteTime": {
     "end_time": "2023-10-27T10:09:55.920862800Z",
     "start_time": "2023-10-27T10:09:55.871863400Z"
    }
   },
   "outputs": [
    {
     "data": {
      "text/plain": "   TotRmsAbvGrd  WoodDeckSF    YrSold  1stFlrSF\n0     -0.376869    2.176007 -0.623492 -0.145736\n1      2.074059    0.467898 -0.623492  1.409750\n2     -0.989600   -0.382185  0.137758 -1.402771\n3      0.235863   -0.763530  0.899008 -0.643997\n4     -1.602332    0.793630  0.137758 -0.987975",
      "text/html": "<div>\n<style scoped>\n    .dataframe tbody tr th:only-of-type {\n        vertical-align: middle;\n    }\n\n    .dataframe tbody tr th {\n        vertical-align: top;\n    }\n\n    .dataframe thead th {\n        text-align: right;\n    }\n</style>\n<table border=\"1\" class=\"dataframe\">\n  <thead>\n    <tr style=\"text-align: right;\">\n      <th></th>\n      <th>TotRmsAbvGrd</th>\n      <th>WoodDeckSF</th>\n      <th>YrSold</th>\n      <th>1stFlrSF</th>\n    </tr>\n  </thead>\n  <tbody>\n    <tr>\n      <th>0</th>\n      <td>-0.376869</td>\n      <td>2.176007</td>\n      <td>-0.623492</td>\n      <td>-0.145736</td>\n    </tr>\n    <tr>\n      <th>1</th>\n      <td>2.074059</td>\n      <td>0.467898</td>\n      <td>-0.623492</td>\n      <td>1.409750</td>\n    </tr>\n    <tr>\n      <th>2</th>\n      <td>-0.989600</td>\n      <td>-0.382185</td>\n      <td>0.137758</td>\n      <td>-1.402771</td>\n    </tr>\n    <tr>\n      <th>3</th>\n      <td>0.235863</td>\n      <td>-0.763530</td>\n      <td>0.899008</td>\n      <td>-0.643997</td>\n    </tr>\n    <tr>\n      <th>4</th>\n      <td>-1.602332</td>\n      <td>0.793630</td>\n      <td>0.137758</td>\n      <td>-0.987975</td>\n    </tr>\n  </tbody>\n</table>\n</div>"
     },
     "execution_count": 20,
     "metadata": {},
     "output_type": "execute_result"
    }
   ],
   "source": [
    "continuous_features_train_df = pd.DataFrame(data=scaled_columns_Xtrain, columns=continuous_columns)\n",
    "continuous_features_train_df.head()"
   ]
  },
  {
   "cell_type": "markdown",
   "id": "21d32e72",
   "metadata": {},
   "source": [
    "### Categorical features Encoding For Train Set"
   ]
  },
  {
   "cell_type": "code",
   "execution_count": null,
   "outputs": [],
   "source": [
    "def encoder_func(df1: pd.DataFrame, df2: pd.DataFrame)-> tuple[pd.DataFrame, pd.DataFrame]:\n",
    "    categorical_columns = df1[useful_features].select_dtypes(include='object').columns\n",
    "    categorical_columns_list = categorical_columns.tolist()\n",
    "    labels = loaded_encoder.get_feature_names_out(categorical_columns_list)\n",
    "    encoded_train_data = loaded_encoder.transform(df1[categorical_columns_list]).toarray()\n",
    "    encoded_test_data = loaded_encoder.transform(df2[categorical_columns_list]).toarray()\n",
    "    categorical_features_train_df = pd.DataFrame(data = encoded_train_data, columns= labels)\n",
    "    categorical_features_test_df = pd.DataFrame(data = encoded_test_data, columns= labels)\n",
    "    return categorical_features_train_df, categorical_features_test_df\n"
   ],
   "metadata": {
    "collapsed": false
   },
   "id": "d5c42735bae64e73"
  },
  {
   "cell_type": "code",
   "execution_count": 21,
   "id": "0f8c327b",
   "metadata": {
    "ExecuteTime": {
     "end_time": "2023-10-27T10:09:58.755844300Z",
     "start_time": "2023-10-27T10:09:58.735832300Z"
    }
   },
   "outputs": [
    {
     "data": {
      "text/plain": "['Foundation', 'KitchenQual']"
     },
     "execution_count": 21,
     "metadata": {},
     "output_type": "execute_result"
    }
   ],
   "source": [
    "categorical_columns = df[useful_features].select_dtypes(include='object').columns\n",
    "categorical_columns_list = categorical_columns.tolist()\n",
    "categorical_columns_list"
   ]
  },
  {
   "cell_type": "code",
   "execution_count": 22,
   "id": "76782d74",
   "metadata": {
    "ExecuteTime": {
     "end_time": "2023-10-27T10:10:01.335838100Z",
     "start_time": "2023-10-27T10:10:01.317835900Z"
    }
   },
   "outputs": [],
   "source": [
    "from sklearn.preprocessing import OneHotEncoder\n",
    "\n",
    "encoder = OneHotEncoder()\n",
    "\n",
    "    \n",
    "encoder.fit(X_train[categorical_columns])\n",
    "encoded_train_data = encoder.transform(X_train[categorical_columns_list]).toarray()\n",
    "\n"
   ]
  },
  {
   "cell_type": "code",
   "execution_count": 70,
   "id": "99fa86f9-d50c-49b5-b540-563e9aeb7538",
   "metadata": {},
   "outputs": [
    {
     "data": {
      "text/plain": [
       "['../models/encoder.joblib']"
      ]
     },
     "execution_count": 70,
     "metadata": {},
     "output_type": "execute_result"
    }
   ],
   "source": [
    "#joblib.dump(encoder, '../models/encoder.joblib')"
   ]
  },
  {
   "cell_type": "code",
   "execution_count": 60,
   "id": "10b1a95d",
   "metadata": {
    "ExecuteTime": {
     "end_time": "2023-10-27T10:32:56.403540500Z",
     "start_time": "2023-10-27T10:32:56.387547200Z"
    }
   },
   "outputs": [
    {
     "data": {
      "text/plain": "array(['Foundation_BrkTil', 'Foundation_CBlock', 'Foundation_PConc',\n       'Foundation_Slab', 'Foundation_Stone', 'Foundation_Wood',\n       'KitchenQual_Ex', 'KitchenQual_Fa', 'KitchenQual_Gd',\n       'KitchenQual_TA'], dtype=object)"
     },
     "execution_count": 60,
     "metadata": {},
     "output_type": "execute_result"
    }
   ],
   "source": [
    "labels = loaded_encoder.get_feature_names_out(categorical_columns_list)\n",
    "labels"
   ]
  },
  {
   "cell_type": "code",
   "execution_count": 24,
   "id": "54647cdf",
   "metadata": {
    "ExecuteTime": {
     "end_time": "2023-10-27T10:10:15.410639300Z",
     "start_time": "2023-10-27T10:10:15.355638900Z"
    }
   },
   "outputs": [
    {
     "data": {
      "text/plain": "     Foundation_BrkTil  Foundation_CBlock  Foundation_PConc  Foundation_Slab  \\\n0                  0.0                1.0               0.0              0.0   \n1                  0.0                1.0               0.0              0.0   \n2                  0.0                1.0               0.0              0.0   \n3                  0.0                0.0               1.0              0.0   \n4                  0.0                1.0               0.0              0.0   \n..                 ...                ...               ...              ...   \n951                0.0                0.0               1.0              0.0   \n952                0.0                0.0               1.0              0.0   \n953                0.0                0.0               1.0              0.0   \n954                0.0                0.0               1.0              0.0   \n955                1.0                0.0               0.0              0.0   \n\n     Foundation_Stone  Foundation_Wood  KitchenQual_Ex  KitchenQual_Fa  \\\n0                 0.0              0.0             0.0             0.0   \n1                 0.0              0.0             0.0             0.0   \n2                 0.0              0.0             0.0             0.0   \n3                 0.0              0.0             1.0             0.0   \n4                 0.0              0.0             0.0             0.0   \n..                ...              ...             ...             ...   \n951               0.0              0.0             0.0             0.0   \n952               0.0              0.0             0.0             0.0   \n953               0.0              0.0             0.0             0.0   \n954               0.0              0.0             0.0             0.0   \n955               0.0              0.0             0.0             1.0   \n\n     KitchenQual_Gd  KitchenQual_TA  \n0               0.0             1.0  \n1               0.0             1.0  \n2               0.0             1.0  \n3               0.0             0.0  \n4               0.0             1.0  \n..              ...             ...  \n951             0.0             1.0  \n952             0.0             1.0  \n953             1.0             0.0  \n954             1.0             0.0  \n955             0.0             0.0  \n\n[956 rows x 10 columns]",
      "text/html": "<div>\n<style scoped>\n    .dataframe tbody tr th:only-of-type {\n        vertical-align: middle;\n    }\n\n    .dataframe tbody tr th {\n        vertical-align: top;\n    }\n\n    .dataframe thead th {\n        text-align: right;\n    }\n</style>\n<table border=\"1\" class=\"dataframe\">\n  <thead>\n    <tr style=\"text-align: right;\">\n      <th></th>\n      <th>Foundation_BrkTil</th>\n      <th>Foundation_CBlock</th>\n      <th>Foundation_PConc</th>\n      <th>Foundation_Slab</th>\n      <th>Foundation_Stone</th>\n      <th>Foundation_Wood</th>\n      <th>KitchenQual_Ex</th>\n      <th>KitchenQual_Fa</th>\n      <th>KitchenQual_Gd</th>\n      <th>KitchenQual_TA</th>\n    </tr>\n  </thead>\n  <tbody>\n    <tr>\n      <th>0</th>\n      <td>0.0</td>\n      <td>1.0</td>\n      <td>0.0</td>\n      <td>0.0</td>\n      <td>0.0</td>\n      <td>0.0</td>\n      <td>0.0</td>\n      <td>0.0</td>\n      <td>0.0</td>\n      <td>1.0</td>\n    </tr>\n    <tr>\n      <th>1</th>\n      <td>0.0</td>\n      <td>1.0</td>\n      <td>0.0</td>\n      <td>0.0</td>\n      <td>0.0</td>\n      <td>0.0</td>\n      <td>0.0</td>\n      <td>0.0</td>\n      <td>0.0</td>\n      <td>1.0</td>\n    </tr>\n    <tr>\n      <th>2</th>\n      <td>0.0</td>\n      <td>1.0</td>\n      <td>0.0</td>\n      <td>0.0</td>\n      <td>0.0</td>\n      <td>0.0</td>\n      <td>0.0</td>\n      <td>0.0</td>\n      <td>0.0</td>\n      <td>1.0</td>\n    </tr>\n    <tr>\n      <th>3</th>\n      <td>0.0</td>\n      <td>0.0</td>\n      <td>1.0</td>\n      <td>0.0</td>\n      <td>0.0</td>\n      <td>0.0</td>\n      <td>1.0</td>\n      <td>0.0</td>\n      <td>0.0</td>\n      <td>0.0</td>\n    </tr>\n    <tr>\n      <th>4</th>\n      <td>0.0</td>\n      <td>1.0</td>\n      <td>0.0</td>\n      <td>0.0</td>\n      <td>0.0</td>\n      <td>0.0</td>\n      <td>0.0</td>\n      <td>0.0</td>\n      <td>0.0</td>\n      <td>1.0</td>\n    </tr>\n    <tr>\n      <th>...</th>\n      <td>...</td>\n      <td>...</td>\n      <td>...</td>\n      <td>...</td>\n      <td>...</td>\n      <td>...</td>\n      <td>...</td>\n      <td>...</td>\n      <td>...</td>\n      <td>...</td>\n    </tr>\n    <tr>\n      <th>951</th>\n      <td>0.0</td>\n      <td>0.0</td>\n      <td>1.0</td>\n      <td>0.0</td>\n      <td>0.0</td>\n      <td>0.0</td>\n      <td>0.0</td>\n      <td>0.0</td>\n      <td>0.0</td>\n      <td>1.0</td>\n    </tr>\n    <tr>\n      <th>952</th>\n      <td>0.0</td>\n      <td>0.0</td>\n      <td>1.0</td>\n      <td>0.0</td>\n      <td>0.0</td>\n      <td>0.0</td>\n      <td>0.0</td>\n      <td>0.0</td>\n      <td>0.0</td>\n      <td>1.0</td>\n    </tr>\n    <tr>\n      <th>953</th>\n      <td>0.0</td>\n      <td>0.0</td>\n      <td>1.0</td>\n      <td>0.0</td>\n      <td>0.0</td>\n      <td>0.0</td>\n      <td>0.0</td>\n      <td>0.0</td>\n      <td>1.0</td>\n      <td>0.0</td>\n    </tr>\n    <tr>\n      <th>954</th>\n      <td>0.0</td>\n      <td>0.0</td>\n      <td>1.0</td>\n      <td>0.0</td>\n      <td>0.0</td>\n      <td>0.0</td>\n      <td>0.0</td>\n      <td>0.0</td>\n      <td>1.0</td>\n      <td>0.0</td>\n    </tr>\n    <tr>\n      <th>955</th>\n      <td>1.0</td>\n      <td>0.0</td>\n      <td>0.0</td>\n      <td>0.0</td>\n      <td>0.0</td>\n      <td>0.0</td>\n      <td>0.0</td>\n      <td>1.0</td>\n      <td>0.0</td>\n      <td>0.0</td>\n    </tr>\n  </tbody>\n</table>\n<p>956 rows × 10 columns</p>\n</div>"
     },
     "execution_count": 24,
     "metadata": {},
     "output_type": "execute_result"
    }
   ],
   "source": [
    "categorical_features_train_df = pd.DataFrame(data = encoded_train_data, columns= labels)\n",
    "categorical_features_train_df"
   ]
  },
  {
   "cell_type": "markdown",
   "id": "360dd979",
   "metadata": {},
   "source": [
    "- Join dataframes"
   ]
  },
  {
   "cell_type": "code",
   "execution_count": null,
   "outputs": [],
   "source": [
    "def join_df(df: pd.DataFrame)->tuple[pd.DataFrame, pd.DataFrame]:\n",
    "    df1, df2= dataset_train_test_split(df)\n",
    "    continuous_features_train_df,continuous_features_test_df = scaler_func(df1, df2)\n",
    "    categorical_features_train_df, categorical_features_test_df = encoder_func(df1, df2)\n",
    "    final_train_df = continuous_features_train_df.join(categorical_features_train_df)\n",
    "    final_test_df = continuous_features_test_df.join(categorical_features_test_df)\n",
    "    return final_train_df, final_test_df"
   ],
   "metadata": {
    "collapsed": false
   },
   "id": "116544184bf60437"
  },
  {
   "cell_type": "code",
   "execution_count": 25,
   "id": "214c54c2",
   "metadata": {
    "scrolled": true,
    "ExecuteTime": {
     "end_time": "2023-10-27T10:10:18.694650500Z",
     "start_time": "2023-10-27T10:10:18.658651700Z"
    }
   },
   "outputs": [
    {
     "data": {
      "text/plain": "   TotRmsAbvGrd  WoodDeckSF    YrSold  1stFlrSF  Foundation_BrkTil  \\\n0     -0.376869    2.176007 -0.623492 -0.145736                0.0   \n1      2.074059    0.467898 -0.623492  1.409750                0.0   \n2     -0.989600   -0.382185  0.137758 -1.402771                0.0   \n3      0.235863   -0.763530  0.899008 -0.643997                0.0   \n4     -1.602332    0.793630  0.137758 -0.987975                0.0   \n\n   Foundation_CBlock  Foundation_PConc  Foundation_Slab  Foundation_Stone  \\\n0                1.0               0.0              0.0               0.0   \n1                1.0               0.0              0.0               0.0   \n2                1.0               0.0              0.0               0.0   \n3                0.0               1.0              0.0               0.0   \n4                1.0               0.0              0.0               0.0   \n\n   Foundation_Wood  KitchenQual_Ex  KitchenQual_Fa  KitchenQual_Gd  \\\n0              0.0             0.0             0.0             0.0   \n1              0.0             0.0             0.0             0.0   \n2              0.0             0.0             0.0             0.0   \n3              0.0             1.0             0.0             0.0   \n4              0.0             0.0             0.0             0.0   \n\n   KitchenQual_TA  \n0             1.0  \n1             1.0  \n2             1.0  \n3             0.0  \n4             1.0  ",
      "text/html": "<div>\n<style scoped>\n    .dataframe tbody tr th:only-of-type {\n        vertical-align: middle;\n    }\n\n    .dataframe tbody tr th {\n        vertical-align: top;\n    }\n\n    .dataframe thead th {\n        text-align: right;\n    }\n</style>\n<table border=\"1\" class=\"dataframe\">\n  <thead>\n    <tr style=\"text-align: right;\">\n      <th></th>\n      <th>TotRmsAbvGrd</th>\n      <th>WoodDeckSF</th>\n      <th>YrSold</th>\n      <th>1stFlrSF</th>\n      <th>Foundation_BrkTil</th>\n      <th>Foundation_CBlock</th>\n      <th>Foundation_PConc</th>\n      <th>Foundation_Slab</th>\n      <th>Foundation_Stone</th>\n      <th>Foundation_Wood</th>\n      <th>KitchenQual_Ex</th>\n      <th>KitchenQual_Fa</th>\n      <th>KitchenQual_Gd</th>\n      <th>KitchenQual_TA</th>\n    </tr>\n  </thead>\n  <tbody>\n    <tr>\n      <th>0</th>\n      <td>-0.376869</td>\n      <td>2.176007</td>\n      <td>-0.623492</td>\n      <td>-0.145736</td>\n      <td>0.0</td>\n      <td>1.0</td>\n      <td>0.0</td>\n      <td>0.0</td>\n      <td>0.0</td>\n      <td>0.0</td>\n      <td>0.0</td>\n      <td>0.0</td>\n      <td>0.0</td>\n      <td>1.0</td>\n    </tr>\n    <tr>\n      <th>1</th>\n      <td>2.074059</td>\n      <td>0.467898</td>\n      <td>-0.623492</td>\n      <td>1.409750</td>\n      <td>0.0</td>\n      <td>1.0</td>\n      <td>0.0</td>\n      <td>0.0</td>\n      <td>0.0</td>\n      <td>0.0</td>\n      <td>0.0</td>\n      <td>0.0</td>\n      <td>0.0</td>\n      <td>1.0</td>\n    </tr>\n    <tr>\n      <th>2</th>\n      <td>-0.989600</td>\n      <td>-0.382185</td>\n      <td>0.137758</td>\n      <td>-1.402771</td>\n      <td>0.0</td>\n      <td>1.0</td>\n      <td>0.0</td>\n      <td>0.0</td>\n      <td>0.0</td>\n      <td>0.0</td>\n      <td>0.0</td>\n      <td>0.0</td>\n      <td>0.0</td>\n      <td>1.0</td>\n    </tr>\n    <tr>\n      <th>3</th>\n      <td>0.235863</td>\n      <td>-0.763530</td>\n      <td>0.899008</td>\n      <td>-0.643997</td>\n      <td>0.0</td>\n      <td>0.0</td>\n      <td>1.0</td>\n      <td>0.0</td>\n      <td>0.0</td>\n      <td>0.0</td>\n      <td>1.0</td>\n      <td>0.0</td>\n      <td>0.0</td>\n      <td>0.0</td>\n    </tr>\n    <tr>\n      <th>4</th>\n      <td>-1.602332</td>\n      <td>0.793630</td>\n      <td>0.137758</td>\n      <td>-0.987975</td>\n      <td>0.0</td>\n      <td>1.0</td>\n      <td>0.0</td>\n      <td>0.0</td>\n      <td>0.0</td>\n      <td>0.0</td>\n      <td>0.0</td>\n      <td>0.0</td>\n      <td>0.0</td>\n      <td>1.0</td>\n    </tr>\n  </tbody>\n</table>\n</div>"
     },
     "execution_count": 25,
     "metadata": {},
     "output_type": "execute_result"
    }
   ],
   "source": [
    "final_train_df = continuous_features_train_df.join(categorical_features_train_df)\n",
    "final_train_df.head()"
   ]
  },
  {
   "cell_type": "code",
   "execution_count": null,
   "id": "5e295e01",
   "metadata": {},
   "outputs": [],
   "source": []
  },
  {
   "cell_type": "markdown",
   "id": "f30ca396",
   "metadata": {},
   "source": [
    "### Linear Regression Model Training"
   ]
  },
  {
   "cell_type": "code",
   "execution_count": null,
   "outputs": [],
   "source": [
    "def build_model(data: pd.DataFrame) -> dict[str, str]:\n",
    "    df = drop_duplicates(data)\n",
    "    "
   ],
   "metadata": {
    "collapsed": false
   },
   "id": "8d1d46a5bc5bd3c7"
  },
  {
   "cell_type": "code",
   "execution_count": 26,
   "id": "5f29df7e",
   "metadata": {
    "ExecuteTime": {
     "end_time": "2023-10-27T10:10:23.020605900Z",
     "start_time": "2023-10-27T10:10:22.971607300Z"
    }
   },
   "outputs": [],
   "source": [
    "from sklearn.linear_model import LinearRegression\n",
    "\n",
    "model = LinearRegression()"
   ]
  },
  {
   "cell_type": "code",
   "execution_count": 27,
   "id": "b69b72aa",
   "metadata": {
    "ExecuteTime": {
     "end_time": "2023-10-27T10:10:24.174607500Z",
     "start_time": "2023-10-27T10:10:24.154608300Z"
    }
   },
   "outputs": [
    {
     "data": {
      "text/plain": "LinearRegression()",
      "text/html": "<style>#sk-container-id-2 {color: black;}#sk-container-id-2 pre{padding: 0;}#sk-container-id-2 div.sk-toggleable {background-color: white;}#sk-container-id-2 label.sk-toggleable__label {cursor: pointer;display: block;width: 100%;margin-bottom: 0;padding: 0.3em;box-sizing: border-box;text-align: center;}#sk-container-id-2 label.sk-toggleable__label-arrow:before {content: \"▸\";float: left;margin-right: 0.25em;color: #696969;}#sk-container-id-2 label.sk-toggleable__label-arrow:hover:before {color: black;}#sk-container-id-2 div.sk-estimator:hover label.sk-toggleable__label-arrow:before {color: black;}#sk-container-id-2 div.sk-toggleable__content {max-height: 0;max-width: 0;overflow: hidden;text-align: left;background-color: #f0f8ff;}#sk-container-id-2 div.sk-toggleable__content pre {margin: 0.2em;color: black;border-radius: 0.25em;background-color: #f0f8ff;}#sk-container-id-2 input.sk-toggleable__control:checked~div.sk-toggleable__content {max-height: 200px;max-width: 100%;overflow: auto;}#sk-container-id-2 input.sk-toggleable__control:checked~label.sk-toggleable__label-arrow:before {content: \"▾\";}#sk-container-id-2 div.sk-estimator input.sk-toggleable__control:checked~label.sk-toggleable__label {background-color: #d4ebff;}#sk-container-id-2 div.sk-label input.sk-toggleable__control:checked~label.sk-toggleable__label {background-color: #d4ebff;}#sk-container-id-2 input.sk-hidden--visually {border: 0;clip: rect(1px 1px 1px 1px);clip: rect(1px, 1px, 1px, 1px);height: 1px;margin: -1px;overflow: hidden;padding: 0;position: absolute;width: 1px;}#sk-container-id-2 div.sk-estimator {font-family: monospace;background-color: #f0f8ff;border: 1px dotted black;border-radius: 0.25em;box-sizing: border-box;margin-bottom: 0.5em;}#sk-container-id-2 div.sk-estimator:hover {background-color: #d4ebff;}#sk-container-id-2 div.sk-parallel-item::after {content: \"\";width: 100%;border-bottom: 1px solid gray;flex-grow: 1;}#sk-container-id-2 div.sk-label:hover label.sk-toggleable__label {background-color: #d4ebff;}#sk-container-id-2 div.sk-serial::before {content: \"\";position: absolute;border-left: 1px solid gray;box-sizing: border-box;top: 0;bottom: 0;left: 50%;z-index: 0;}#sk-container-id-2 div.sk-serial {display: flex;flex-direction: column;align-items: center;background-color: white;padding-right: 0.2em;padding-left: 0.2em;position: relative;}#sk-container-id-2 div.sk-item {position: relative;z-index: 1;}#sk-container-id-2 div.sk-parallel {display: flex;align-items: stretch;justify-content: center;background-color: white;position: relative;}#sk-container-id-2 div.sk-item::before, #sk-container-id-2 div.sk-parallel-item::before {content: \"\";position: absolute;border-left: 1px solid gray;box-sizing: border-box;top: 0;bottom: 0;left: 50%;z-index: -1;}#sk-container-id-2 div.sk-parallel-item {display: flex;flex-direction: column;z-index: 1;position: relative;background-color: white;}#sk-container-id-2 div.sk-parallel-item:first-child::after {align-self: flex-end;width: 50%;}#sk-container-id-2 div.sk-parallel-item:last-child::after {align-self: flex-start;width: 50%;}#sk-container-id-2 div.sk-parallel-item:only-child::after {width: 0;}#sk-container-id-2 div.sk-dashed-wrapped {border: 1px dashed gray;margin: 0 0.4em 0.5em 0.4em;box-sizing: border-box;padding-bottom: 0.4em;background-color: white;}#sk-container-id-2 div.sk-label label {font-family: monospace;font-weight: bold;display: inline-block;line-height: 1.2em;}#sk-container-id-2 div.sk-label-container {text-align: center;}#sk-container-id-2 div.sk-container {/* jupyter's `normalize.less` sets `[hidden] { display: none; }` but bootstrap.min.css set `[hidden] { display: none !important; }` so we also need the `!important` here to be able to override the default hidden behavior on the sphinx rendered scikit-learn.org. See: https://github.com/scikit-learn/scikit-learn/issues/21755 */display: inline-block !important;position: relative;}#sk-container-id-2 div.sk-text-repr-fallback {display: none;}</style><div id=\"sk-container-id-2\" class=\"sk-top-container\"><div class=\"sk-text-repr-fallback\"><pre>LinearRegression()</pre><b>In a Jupyter environment, please rerun this cell to show the HTML representation or trust the notebook. <br />On GitHub, the HTML representation is unable to render, please try loading this page with nbviewer.org.</b></div><div class=\"sk-container\" hidden><div class=\"sk-item\"><div class=\"sk-estimator sk-toggleable\"><input class=\"sk-toggleable__control sk-hidden--visually\" id=\"sk-estimator-id-2\" type=\"checkbox\" checked><label for=\"sk-estimator-id-2\" class=\"sk-toggleable__label sk-toggleable__label-arrow\">LinearRegression</label><div class=\"sk-toggleable__content\"><pre>LinearRegression()</pre></div></div></div></div></div>"
     },
     "execution_count": 27,
     "metadata": {},
     "output_type": "execute_result"
    }
   ],
   "source": [
    "model.fit(final_train_df, y_train)"
   ]
  },
  {
   "cell_type": "code",
   "execution_count": 46,
   "id": "3fb94283-ab66-4071-a5b2-470f3c33e560",
   "metadata": {
    "ExecuteTime": {
     "end_time": "2023-10-27T10:11:32.201710500Z",
     "start_time": "2023-10-27T10:11:32.181712400Z"
    }
   },
   "outputs": [],
   "source": [
    "import joblib\n",
    "#joblib.dump(model, '../models/model.joblib')"
   ]
  },
  {
   "cell_type": "code",
   "execution_count": 58,
   "id": "f104f795-e797-4370-9abc-4953dde81b5c",
   "metadata": {},
   "outputs": [
    {
     "name": "stdout",
     "output_type": "stream",
     "text": [
      "model.joblib\n"
     ]
    }
   ],
   "source": [
    "!ls ../models"
   ]
  },
  {
   "cell_type": "markdown",
   "id": "198ebdb7",
   "metadata": {},
   "source": [
    "## Model evaluation"
   ]
  },
  {
   "cell_type": "markdown",
   "id": "ab3a96e8-e1a4-414a-96a6-1a0347babc6e",
   "metadata": {},
   "source": [
    "### Scale continuous features of the Test Set"
   ]
  },
  {
   "cell_type": "code",
   "execution_count": 28,
   "id": "f474ee93-d87b-47d6-957b-305b40dbe83f",
   "metadata": {
    "ExecuteTime": {
     "end_time": "2023-10-27T10:10:35.497263600Z",
     "start_time": "2023-10-27T10:10:35.453264300Z"
    }
   },
   "outputs": [
    {
     "data": {
      "text/plain": "array([[-0.98960046, -0.76353009,  0.13775759,  0.07177926],\n       [ 0.84859522,  4.28135138,  1.66025761, -0.29243218],\n       [-0.98960046, -0.76353009, -0.62349243,  0.26906046],\n       ...,\n       [-0.98960046, -0.76353009,  1.66025761, -0.77551819],\n       [-0.98960046,  0.06271822, -0.62349243, -1.01832581],\n       [-0.98960046, -0.76353009,  0.13775759, -0.97785787]])"
     },
     "execution_count": 28,
     "metadata": {},
     "output_type": "execute_result"
    }
   ],
   "source": [
    "scaled_columns_Xtest = scaler.transform(X_test[continuous_columns])\n",
    "scaled_columns_Xtest"
   ]
  },
  {
   "cell_type": "code",
   "execution_count": 29,
   "id": "ded928e4-2983-4dc5-af6f-ead400532c35",
   "metadata": {
    "ExecuteTime": {
     "end_time": "2023-10-27T10:10:39.296703300Z",
     "start_time": "2023-10-27T10:10:39.275741500Z"
    }
   },
   "outputs": [
    {
     "data": {
      "text/plain": "   TotRmsAbvGrd  WoodDeckSF    YrSold  1stFlrSF\n0     -0.989600   -0.763530  0.137758  0.071779\n1      0.848595    4.281351  1.660258 -0.292432\n2     -0.989600   -0.763530 -0.623492  0.269060\n3     -0.376869   -0.763530 -0.623492  0.074309\n4     -0.376869   -0.763530 -0.623492 -0.654114",
      "text/html": "<div>\n<style scoped>\n    .dataframe tbody tr th:only-of-type {\n        vertical-align: middle;\n    }\n\n    .dataframe tbody tr th {\n        vertical-align: top;\n    }\n\n    .dataframe thead th {\n        text-align: right;\n    }\n</style>\n<table border=\"1\" class=\"dataframe\">\n  <thead>\n    <tr style=\"text-align: right;\">\n      <th></th>\n      <th>TotRmsAbvGrd</th>\n      <th>WoodDeckSF</th>\n      <th>YrSold</th>\n      <th>1stFlrSF</th>\n    </tr>\n  </thead>\n  <tbody>\n    <tr>\n      <th>0</th>\n      <td>-0.989600</td>\n      <td>-0.763530</td>\n      <td>0.137758</td>\n      <td>0.071779</td>\n    </tr>\n    <tr>\n      <th>1</th>\n      <td>0.848595</td>\n      <td>4.281351</td>\n      <td>1.660258</td>\n      <td>-0.292432</td>\n    </tr>\n    <tr>\n      <th>2</th>\n      <td>-0.989600</td>\n      <td>-0.763530</td>\n      <td>-0.623492</td>\n      <td>0.269060</td>\n    </tr>\n    <tr>\n      <th>3</th>\n      <td>-0.376869</td>\n      <td>-0.763530</td>\n      <td>-0.623492</td>\n      <td>0.074309</td>\n    </tr>\n    <tr>\n      <th>4</th>\n      <td>-0.376869</td>\n      <td>-0.763530</td>\n      <td>-0.623492</td>\n      <td>-0.654114</td>\n    </tr>\n  </tbody>\n</table>\n</div>"
     },
     "execution_count": 29,
     "metadata": {},
     "output_type": "execute_result"
    }
   ],
   "source": [
    "continuous_features_test_df = pd.DataFrame(data=scaled_columns_Xtest, columns=continuous_columns)\n",
    "continuous_features_test_df.head()"
   ]
  },
  {
   "cell_type": "markdown",
   "id": "a358074b-c48d-4898-9c8e-381afc9b3d0e",
   "metadata": {},
   "source": [
    "### Categorical features Encoding For Test Set"
   ]
  },
  {
   "cell_type": "code",
   "execution_count": 30,
   "id": "e829ebd9-5bce-47bf-aa7a-e401205017a6",
   "metadata": {
    "ExecuteTime": {
     "end_time": "2023-10-27T10:10:42.800544700Z",
     "start_time": "2023-10-27T10:10:42.779549100Z"
    }
   },
   "outputs": [],
   "source": [
    "encoded_test_data = encoder.transform(X_test[categorical_columns_list]).toarray()"
   ]
  },
  {
   "cell_type": "code",
   "execution_count": 31,
   "id": "54625346-39ed-4ac4-af61-8501ad6084ad",
   "metadata": {
    "ExecuteTime": {
     "end_time": "2023-10-27T10:10:44.814540Z",
     "start_time": "2023-10-27T10:10:44.782503700Z"
    }
   },
   "outputs": [
    {
     "data": {
      "text/plain": "     Foundation_BrkTil  Foundation_CBlock  Foundation_PConc  Foundation_Slab  \\\n0                  0.0                0.0               1.0              0.0   \n1                  0.0                0.0               1.0              0.0   \n2                  0.0                1.0               0.0              0.0   \n3                  0.0                0.0               1.0              0.0   \n4                  0.0                1.0               0.0              0.0   \n..                 ...                ...               ...              ...   \n467                0.0                1.0               0.0              0.0   \n468                0.0                0.0               1.0              0.0   \n469                1.0                0.0               0.0              0.0   \n470                0.0                1.0               0.0              0.0   \n471                1.0                0.0               0.0              0.0   \n\n     Foundation_Stone  Foundation_Wood  KitchenQual_Ex  KitchenQual_Fa  \\\n0                 0.0              0.0             0.0             0.0   \n1                 0.0              0.0             0.0             0.0   \n2                 0.0              0.0             0.0             0.0   \n3                 0.0              0.0             0.0             0.0   \n4                 0.0              0.0             0.0             0.0   \n..                ...              ...             ...             ...   \n467               0.0              0.0             0.0             0.0   \n468               0.0              0.0             0.0             0.0   \n469               0.0              0.0             0.0             0.0   \n470               0.0              0.0             0.0             0.0   \n471               0.0              0.0             0.0             0.0   \n\n     KitchenQual_Gd  KitchenQual_TA  \n0               1.0             0.0  \n1               1.0             0.0  \n2               0.0             1.0  \n3               1.0             0.0  \n4               0.0             1.0  \n..              ...             ...  \n467             0.0             1.0  \n468             1.0             0.0  \n469             0.0             1.0  \n470             0.0             1.0  \n471             1.0             0.0  \n\n[472 rows x 10 columns]",
      "text/html": "<div>\n<style scoped>\n    .dataframe tbody tr th:only-of-type {\n        vertical-align: middle;\n    }\n\n    .dataframe tbody tr th {\n        vertical-align: top;\n    }\n\n    .dataframe thead th {\n        text-align: right;\n    }\n</style>\n<table border=\"1\" class=\"dataframe\">\n  <thead>\n    <tr style=\"text-align: right;\">\n      <th></th>\n      <th>Foundation_BrkTil</th>\n      <th>Foundation_CBlock</th>\n      <th>Foundation_PConc</th>\n      <th>Foundation_Slab</th>\n      <th>Foundation_Stone</th>\n      <th>Foundation_Wood</th>\n      <th>KitchenQual_Ex</th>\n      <th>KitchenQual_Fa</th>\n      <th>KitchenQual_Gd</th>\n      <th>KitchenQual_TA</th>\n    </tr>\n  </thead>\n  <tbody>\n    <tr>\n      <th>0</th>\n      <td>0.0</td>\n      <td>0.0</td>\n      <td>1.0</td>\n      <td>0.0</td>\n      <td>0.0</td>\n      <td>0.0</td>\n      <td>0.0</td>\n      <td>0.0</td>\n      <td>1.0</td>\n      <td>0.0</td>\n    </tr>\n    <tr>\n      <th>1</th>\n      <td>0.0</td>\n      <td>0.0</td>\n      <td>1.0</td>\n      <td>0.0</td>\n      <td>0.0</td>\n      <td>0.0</td>\n      <td>0.0</td>\n      <td>0.0</td>\n      <td>1.0</td>\n      <td>0.0</td>\n    </tr>\n    <tr>\n      <th>2</th>\n      <td>0.0</td>\n      <td>1.0</td>\n      <td>0.0</td>\n      <td>0.0</td>\n      <td>0.0</td>\n      <td>0.0</td>\n      <td>0.0</td>\n      <td>0.0</td>\n      <td>0.0</td>\n      <td>1.0</td>\n    </tr>\n    <tr>\n      <th>3</th>\n      <td>0.0</td>\n      <td>0.0</td>\n      <td>1.0</td>\n      <td>0.0</td>\n      <td>0.0</td>\n      <td>0.0</td>\n      <td>0.0</td>\n      <td>0.0</td>\n      <td>1.0</td>\n      <td>0.0</td>\n    </tr>\n    <tr>\n      <th>4</th>\n      <td>0.0</td>\n      <td>1.0</td>\n      <td>0.0</td>\n      <td>0.0</td>\n      <td>0.0</td>\n      <td>0.0</td>\n      <td>0.0</td>\n      <td>0.0</td>\n      <td>0.0</td>\n      <td>1.0</td>\n    </tr>\n    <tr>\n      <th>...</th>\n      <td>...</td>\n      <td>...</td>\n      <td>...</td>\n      <td>...</td>\n      <td>...</td>\n      <td>...</td>\n      <td>...</td>\n      <td>...</td>\n      <td>...</td>\n      <td>...</td>\n    </tr>\n    <tr>\n      <th>467</th>\n      <td>0.0</td>\n      <td>1.0</td>\n      <td>0.0</td>\n      <td>0.0</td>\n      <td>0.0</td>\n      <td>0.0</td>\n      <td>0.0</td>\n      <td>0.0</td>\n      <td>0.0</td>\n      <td>1.0</td>\n    </tr>\n    <tr>\n      <th>468</th>\n      <td>0.0</td>\n      <td>0.0</td>\n      <td>1.0</td>\n      <td>0.0</td>\n      <td>0.0</td>\n      <td>0.0</td>\n      <td>0.0</td>\n      <td>0.0</td>\n      <td>1.0</td>\n      <td>0.0</td>\n    </tr>\n    <tr>\n      <th>469</th>\n      <td>1.0</td>\n      <td>0.0</td>\n      <td>0.0</td>\n      <td>0.0</td>\n      <td>0.0</td>\n      <td>0.0</td>\n      <td>0.0</td>\n      <td>0.0</td>\n      <td>0.0</td>\n      <td>1.0</td>\n    </tr>\n    <tr>\n      <th>470</th>\n      <td>0.0</td>\n      <td>1.0</td>\n      <td>0.0</td>\n      <td>0.0</td>\n      <td>0.0</td>\n      <td>0.0</td>\n      <td>0.0</td>\n      <td>0.0</td>\n      <td>0.0</td>\n      <td>1.0</td>\n    </tr>\n    <tr>\n      <th>471</th>\n      <td>1.0</td>\n      <td>0.0</td>\n      <td>0.0</td>\n      <td>0.0</td>\n      <td>0.0</td>\n      <td>0.0</td>\n      <td>0.0</td>\n      <td>0.0</td>\n      <td>1.0</td>\n      <td>0.0</td>\n    </tr>\n  </tbody>\n</table>\n<p>472 rows × 10 columns</p>\n</div>"
     },
     "execution_count": 31,
     "metadata": {},
     "output_type": "execute_result"
    }
   ],
   "source": [
    "categorical_features_test_df = pd.DataFrame(data = encoded_test_data, columns= labels)\n",
    "categorical_features_test_df"
   ]
  },
  {
   "cell_type": "code",
   "execution_count": 32,
   "id": "a21c9fda-a57e-4c39-ae44-dea3dcd9520e",
   "metadata": {
    "ExecuteTime": {
     "end_time": "2023-10-27T10:10:48.812027500Z",
     "start_time": "2023-10-27T10:10:48.777042300Z"
    }
   },
   "outputs": [
    {
     "data": {
      "text/plain": "   TotRmsAbvGrd  WoodDeckSF    YrSold  1stFlrSF  Foundation_BrkTil  \\\n0     -0.989600   -0.763530  0.137758  0.071779                0.0   \n1      0.848595    4.281351  1.660258 -0.292432                0.0   \n2     -0.989600   -0.763530 -0.623492  0.269060                0.0   \n3     -0.376869   -0.763530 -0.623492  0.074309                0.0   \n4     -0.376869   -0.763530 -0.623492 -0.654114                0.0   \n\n   Foundation_CBlock  Foundation_PConc  Foundation_Slab  Foundation_Stone  \\\n0                0.0               1.0              0.0               0.0   \n1                0.0               1.0              0.0               0.0   \n2                1.0               0.0              0.0               0.0   \n3                0.0               1.0              0.0               0.0   \n4                1.0               0.0              0.0               0.0   \n\n   Foundation_Wood  KitchenQual_Ex  KitchenQual_Fa  KitchenQual_Gd  \\\n0              0.0             0.0             0.0             1.0   \n1              0.0             0.0             0.0             1.0   \n2              0.0             0.0             0.0             0.0   \n3              0.0             0.0             0.0             1.0   \n4              0.0             0.0             0.0             0.0   \n\n   KitchenQual_TA  \n0             0.0  \n1             0.0  \n2             1.0  \n3             0.0  \n4             1.0  ",
      "text/html": "<div>\n<style scoped>\n    .dataframe tbody tr th:only-of-type {\n        vertical-align: middle;\n    }\n\n    .dataframe tbody tr th {\n        vertical-align: top;\n    }\n\n    .dataframe thead th {\n        text-align: right;\n    }\n</style>\n<table border=\"1\" class=\"dataframe\">\n  <thead>\n    <tr style=\"text-align: right;\">\n      <th></th>\n      <th>TotRmsAbvGrd</th>\n      <th>WoodDeckSF</th>\n      <th>YrSold</th>\n      <th>1stFlrSF</th>\n      <th>Foundation_BrkTil</th>\n      <th>Foundation_CBlock</th>\n      <th>Foundation_PConc</th>\n      <th>Foundation_Slab</th>\n      <th>Foundation_Stone</th>\n      <th>Foundation_Wood</th>\n      <th>KitchenQual_Ex</th>\n      <th>KitchenQual_Fa</th>\n      <th>KitchenQual_Gd</th>\n      <th>KitchenQual_TA</th>\n    </tr>\n  </thead>\n  <tbody>\n    <tr>\n      <th>0</th>\n      <td>-0.989600</td>\n      <td>-0.763530</td>\n      <td>0.137758</td>\n      <td>0.071779</td>\n      <td>0.0</td>\n      <td>0.0</td>\n      <td>1.0</td>\n      <td>0.0</td>\n      <td>0.0</td>\n      <td>0.0</td>\n      <td>0.0</td>\n      <td>0.0</td>\n      <td>1.0</td>\n      <td>0.0</td>\n    </tr>\n    <tr>\n      <th>1</th>\n      <td>0.848595</td>\n      <td>4.281351</td>\n      <td>1.660258</td>\n      <td>-0.292432</td>\n      <td>0.0</td>\n      <td>0.0</td>\n      <td>1.0</td>\n      <td>0.0</td>\n      <td>0.0</td>\n      <td>0.0</td>\n      <td>0.0</td>\n      <td>0.0</td>\n      <td>1.0</td>\n      <td>0.0</td>\n    </tr>\n    <tr>\n      <th>2</th>\n      <td>-0.989600</td>\n      <td>-0.763530</td>\n      <td>-0.623492</td>\n      <td>0.269060</td>\n      <td>0.0</td>\n      <td>1.0</td>\n      <td>0.0</td>\n      <td>0.0</td>\n      <td>0.0</td>\n      <td>0.0</td>\n      <td>0.0</td>\n      <td>0.0</td>\n      <td>0.0</td>\n      <td>1.0</td>\n    </tr>\n    <tr>\n      <th>3</th>\n      <td>-0.376869</td>\n      <td>-0.763530</td>\n      <td>-0.623492</td>\n      <td>0.074309</td>\n      <td>0.0</td>\n      <td>0.0</td>\n      <td>1.0</td>\n      <td>0.0</td>\n      <td>0.0</td>\n      <td>0.0</td>\n      <td>0.0</td>\n      <td>0.0</td>\n      <td>1.0</td>\n      <td>0.0</td>\n    </tr>\n    <tr>\n      <th>4</th>\n      <td>-0.376869</td>\n      <td>-0.763530</td>\n      <td>-0.623492</td>\n      <td>-0.654114</td>\n      <td>0.0</td>\n      <td>1.0</td>\n      <td>0.0</td>\n      <td>0.0</td>\n      <td>0.0</td>\n      <td>0.0</td>\n      <td>0.0</td>\n      <td>0.0</td>\n      <td>0.0</td>\n      <td>1.0</td>\n    </tr>\n  </tbody>\n</table>\n</div>"
     },
     "execution_count": 32,
     "metadata": {},
     "output_type": "execute_result"
    }
   ],
   "source": [
    "final_test_df = continuous_features_test_df.join(categorical_features_test_df)\n",
    "final_test_df.head()"
   ]
  },
  {
   "cell_type": "code",
   "execution_count": 33,
   "id": "133632e0",
   "metadata": {
    "ExecuteTime": {
     "end_time": "2023-10-27T10:10:51.924229100Z",
     "start_time": "2023-10-27T10:10:51.897221Z"
    }
   },
   "outputs": [],
   "source": [
    "y_pred = model.predict(final_test_df)"
   ]
  },
  {
   "cell_type": "code",
   "execution_count": 34,
   "id": "988febe5",
   "metadata": {
    "ExecuteTime": {
     "end_time": "2023-10-27T10:10:53.004985600Z",
     "start_time": "2023-10-27T10:10:52.973955600Z"
    }
   },
   "outputs": [],
   "source": [
    "y_pred[y_pred < 0] = 0"
   ]
  },
  {
   "cell_type": "code",
   "execution_count": 35,
   "id": "8a1cd39b",
   "metadata": {
    "ExecuteTime": {
     "end_time": "2023-10-27T10:10:54.250983100Z",
     "start_time": "2023-10-27T10:10:54.230983200Z"
    }
   },
   "outputs": [],
   "source": [
    "import numpy as np\n",
    "from sklearn.metrics import mean_squared_log_error\n",
    "\n",
    "def compute_rmsle(y_test: np.ndarray, y_pred: np.ndarray, precision: int = 2) -> float:\n",
    "    rmsle = np.sqrt(mean_squared_log_error(y_test, y_pred))\n",
    "    return round(rmsle, precision)"
   ]
  },
  {
   "cell_type": "code",
   "execution_count": 36,
   "id": "3538243f",
   "metadata": {
    "ExecuteTime": {
     "end_time": "2023-10-27T10:10:56.241438900Z",
     "start_time": "2023-10-27T10:10:56.221440400Z"
    }
   },
   "outputs": [
    {
     "data": {
      "text/plain": "0.54"
     },
     "execution_count": 36,
     "metadata": {},
     "output_type": "execute_result"
    }
   ],
   "source": [
    "compute_rmsle(y_test, y_pred)"
   ]
  },
  {
   "cell_type": "markdown",
   "id": "3cb3d8b5-650a-4909-b5db-aff3bdb20617",
   "metadata": {},
   "source": [
    "# Model Inference"
   ]
  },
  {
   "cell_type": "code",
   "execution_count": 37,
   "id": "e5f97933-49d8-4f6f-a82e-0bab52b5aa31",
   "metadata": {
    "ExecuteTime": {
     "end_time": "2023-10-27T10:11:00.862516700Z",
     "start_time": "2023-10-27T10:11:00.840979900Z"
    }
   },
   "outputs": [],
   "source": [
    "TEST_DATASET_PATH = DATA_PATH + 'test.csv'"
   ]
  },
  {
   "cell_type": "code",
   "execution_count": 38,
   "id": "e9a3af0f-6ac8-4962-96e2-02c162174b8f",
   "metadata": {
    "ExecuteTime": {
     "end_time": "2023-10-27T10:11:01.368175500Z",
     "start_time": "2023-10-27T10:11:01.304176800Z"
    }
   },
   "outputs": [
    {
     "data": {
      "text/plain": "        Id  MSSubClass MSZoning  LotFrontage  LotArea Street Alley LotShape  \\\n0     1461          20       RH         80.0    11622   Pave   NaN      Reg   \n1     1462          20       RL         81.0    14267   Pave   NaN      IR1   \n2     1463          60       RL         74.0    13830   Pave   NaN      IR1   \n3     1464          60       RL         78.0     9978   Pave   NaN      IR1   \n4     1465         120       RL         43.0     5005   Pave   NaN      IR1   \n...    ...         ...      ...          ...      ...    ...   ...      ...   \n1454  2915         160       RM         21.0     1936   Pave   NaN      Reg   \n1455  2916         160       RM         21.0     1894   Pave   NaN      Reg   \n1456  2917          20       RL        160.0    20000   Pave   NaN      Reg   \n1457  2918          85       RL         62.0    10441   Pave   NaN      Reg   \n1458  2919          60       RL         74.0     9627   Pave   NaN      Reg   \n\n     LandContour Utilities  ... ScreenPorch PoolArea PoolQC  Fence  \\\n0            Lvl    AllPub  ...         120        0    NaN  MnPrv   \n1            Lvl    AllPub  ...           0        0    NaN    NaN   \n2            Lvl    AllPub  ...           0        0    NaN  MnPrv   \n3            Lvl    AllPub  ...           0        0    NaN    NaN   \n4            HLS    AllPub  ...         144        0    NaN    NaN   \n...          ...       ...  ...         ...      ...    ...    ...   \n1454         Lvl    AllPub  ...           0        0    NaN    NaN   \n1455         Lvl    AllPub  ...           0        0    NaN    NaN   \n1456         Lvl    AllPub  ...           0        0    NaN    NaN   \n1457         Lvl    AllPub  ...           0        0    NaN  MnPrv   \n1458         Lvl    AllPub  ...           0        0    NaN    NaN   \n\n     MiscFeature MiscVal MoSold  YrSold  SaleType  SaleCondition  \n0            NaN       0      6    2010        WD         Normal  \n1           Gar2   12500      6    2010        WD         Normal  \n2            NaN       0      3    2010        WD         Normal  \n3            NaN       0      6    2010        WD         Normal  \n4            NaN       0      1    2010        WD         Normal  \n...          ...     ...    ...     ...       ...            ...  \n1454         NaN       0      6    2006        WD         Normal  \n1455         NaN       0      4    2006        WD        Abnorml  \n1456         NaN       0      9    2006        WD        Abnorml  \n1457        Shed     700      7    2006        WD         Normal  \n1458         NaN       0     11    2006        WD         Normal  \n\n[1459 rows x 80 columns]",
      "text/html": "<div>\n<style scoped>\n    .dataframe tbody tr th:only-of-type {\n        vertical-align: middle;\n    }\n\n    .dataframe tbody tr th {\n        vertical-align: top;\n    }\n\n    .dataframe thead th {\n        text-align: right;\n    }\n</style>\n<table border=\"1\" class=\"dataframe\">\n  <thead>\n    <tr style=\"text-align: right;\">\n      <th></th>\n      <th>Id</th>\n      <th>MSSubClass</th>\n      <th>MSZoning</th>\n      <th>LotFrontage</th>\n      <th>LotArea</th>\n      <th>Street</th>\n      <th>Alley</th>\n      <th>LotShape</th>\n      <th>LandContour</th>\n      <th>Utilities</th>\n      <th>...</th>\n      <th>ScreenPorch</th>\n      <th>PoolArea</th>\n      <th>PoolQC</th>\n      <th>Fence</th>\n      <th>MiscFeature</th>\n      <th>MiscVal</th>\n      <th>MoSold</th>\n      <th>YrSold</th>\n      <th>SaleType</th>\n      <th>SaleCondition</th>\n    </tr>\n  </thead>\n  <tbody>\n    <tr>\n      <th>0</th>\n      <td>1461</td>\n      <td>20</td>\n      <td>RH</td>\n      <td>80.0</td>\n      <td>11622</td>\n      <td>Pave</td>\n      <td>NaN</td>\n      <td>Reg</td>\n      <td>Lvl</td>\n      <td>AllPub</td>\n      <td>...</td>\n      <td>120</td>\n      <td>0</td>\n      <td>NaN</td>\n      <td>MnPrv</td>\n      <td>NaN</td>\n      <td>0</td>\n      <td>6</td>\n      <td>2010</td>\n      <td>WD</td>\n      <td>Normal</td>\n    </tr>\n    <tr>\n      <th>1</th>\n      <td>1462</td>\n      <td>20</td>\n      <td>RL</td>\n      <td>81.0</td>\n      <td>14267</td>\n      <td>Pave</td>\n      <td>NaN</td>\n      <td>IR1</td>\n      <td>Lvl</td>\n      <td>AllPub</td>\n      <td>...</td>\n      <td>0</td>\n      <td>0</td>\n      <td>NaN</td>\n      <td>NaN</td>\n      <td>Gar2</td>\n      <td>12500</td>\n      <td>6</td>\n      <td>2010</td>\n      <td>WD</td>\n      <td>Normal</td>\n    </tr>\n    <tr>\n      <th>2</th>\n      <td>1463</td>\n      <td>60</td>\n      <td>RL</td>\n      <td>74.0</td>\n      <td>13830</td>\n      <td>Pave</td>\n      <td>NaN</td>\n      <td>IR1</td>\n      <td>Lvl</td>\n      <td>AllPub</td>\n      <td>...</td>\n      <td>0</td>\n      <td>0</td>\n      <td>NaN</td>\n      <td>MnPrv</td>\n      <td>NaN</td>\n      <td>0</td>\n      <td>3</td>\n      <td>2010</td>\n      <td>WD</td>\n      <td>Normal</td>\n    </tr>\n    <tr>\n      <th>3</th>\n      <td>1464</td>\n      <td>60</td>\n      <td>RL</td>\n      <td>78.0</td>\n      <td>9978</td>\n      <td>Pave</td>\n      <td>NaN</td>\n      <td>IR1</td>\n      <td>Lvl</td>\n      <td>AllPub</td>\n      <td>...</td>\n      <td>0</td>\n      <td>0</td>\n      <td>NaN</td>\n      <td>NaN</td>\n      <td>NaN</td>\n      <td>0</td>\n      <td>6</td>\n      <td>2010</td>\n      <td>WD</td>\n      <td>Normal</td>\n    </tr>\n    <tr>\n      <th>4</th>\n      <td>1465</td>\n      <td>120</td>\n      <td>RL</td>\n      <td>43.0</td>\n      <td>5005</td>\n      <td>Pave</td>\n      <td>NaN</td>\n      <td>IR1</td>\n      <td>HLS</td>\n      <td>AllPub</td>\n      <td>...</td>\n      <td>144</td>\n      <td>0</td>\n      <td>NaN</td>\n      <td>NaN</td>\n      <td>NaN</td>\n      <td>0</td>\n      <td>1</td>\n      <td>2010</td>\n      <td>WD</td>\n      <td>Normal</td>\n    </tr>\n    <tr>\n      <th>...</th>\n      <td>...</td>\n      <td>...</td>\n      <td>...</td>\n      <td>...</td>\n      <td>...</td>\n      <td>...</td>\n      <td>...</td>\n      <td>...</td>\n      <td>...</td>\n      <td>...</td>\n      <td>...</td>\n      <td>...</td>\n      <td>...</td>\n      <td>...</td>\n      <td>...</td>\n      <td>...</td>\n      <td>...</td>\n      <td>...</td>\n      <td>...</td>\n      <td>...</td>\n      <td>...</td>\n    </tr>\n    <tr>\n      <th>1454</th>\n      <td>2915</td>\n      <td>160</td>\n      <td>RM</td>\n      <td>21.0</td>\n      <td>1936</td>\n      <td>Pave</td>\n      <td>NaN</td>\n      <td>Reg</td>\n      <td>Lvl</td>\n      <td>AllPub</td>\n      <td>...</td>\n      <td>0</td>\n      <td>0</td>\n      <td>NaN</td>\n      <td>NaN</td>\n      <td>NaN</td>\n      <td>0</td>\n      <td>6</td>\n      <td>2006</td>\n      <td>WD</td>\n      <td>Normal</td>\n    </tr>\n    <tr>\n      <th>1455</th>\n      <td>2916</td>\n      <td>160</td>\n      <td>RM</td>\n      <td>21.0</td>\n      <td>1894</td>\n      <td>Pave</td>\n      <td>NaN</td>\n      <td>Reg</td>\n      <td>Lvl</td>\n      <td>AllPub</td>\n      <td>...</td>\n      <td>0</td>\n      <td>0</td>\n      <td>NaN</td>\n      <td>NaN</td>\n      <td>NaN</td>\n      <td>0</td>\n      <td>4</td>\n      <td>2006</td>\n      <td>WD</td>\n      <td>Abnorml</td>\n    </tr>\n    <tr>\n      <th>1456</th>\n      <td>2917</td>\n      <td>20</td>\n      <td>RL</td>\n      <td>160.0</td>\n      <td>20000</td>\n      <td>Pave</td>\n      <td>NaN</td>\n      <td>Reg</td>\n      <td>Lvl</td>\n      <td>AllPub</td>\n      <td>...</td>\n      <td>0</td>\n      <td>0</td>\n      <td>NaN</td>\n      <td>NaN</td>\n      <td>NaN</td>\n      <td>0</td>\n      <td>9</td>\n      <td>2006</td>\n      <td>WD</td>\n      <td>Abnorml</td>\n    </tr>\n    <tr>\n      <th>1457</th>\n      <td>2918</td>\n      <td>85</td>\n      <td>RL</td>\n      <td>62.0</td>\n      <td>10441</td>\n      <td>Pave</td>\n      <td>NaN</td>\n      <td>Reg</td>\n      <td>Lvl</td>\n      <td>AllPub</td>\n      <td>...</td>\n      <td>0</td>\n      <td>0</td>\n      <td>NaN</td>\n      <td>MnPrv</td>\n      <td>Shed</td>\n      <td>700</td>\n      <td>7</td>\n      <td>2006</td>\n      <td>WD</td>\n      <td>Normal</td>\n    </tr>\n    <tr>\n      <th>1458</th>\n      <td>2919</td>\n      <td>60</td>\n      <td>RL</td>\n      <td>74.0</td>\n      <td>9627</td>\n      <td>Pave</td>\n      <td>NaN</td>\n      <td>Reg</td>\n      <td>Lvl</td>\n      <td>AllPub</td>\n      <td>...</td>\n      <td>0</td>\n      <td>0</td>\n      <td>NaN</td>\n      <td>NaN</td>\n      <td>NaN</td>\n      <td>0</td>\n      <td>11</td>\n      <td>2006</td>\n      <td>WD</td>\n      <td>Normal</td>\n    </tr>\n  </tbody>\n</table>\n<p>1459 rows × 80 columns</p>\n</div>"
     },
     "execution_count": 38,
     "metadata": {},
     "output_type": "execute_result"
    }
   ],
   "source": [
    "df_test_loaded = pd.read_csv(TEST_DATASET_PATH)\n",
    "df_test_loaded"
   ]
  },
  {
   "cell_type": "code",
   "execution_count": 39,
   "id": "bc8eb499-75d9-40cb-85b3-d69dd294277f",
   "metadata": {
    "ExecuteTime": {
     "end_time": "2023-10-27T10:11:03.057384700Z",
     "start_time": "2023-10-27T10:11:02.991391300Z"
    }
   },
   "outputs": [
    {
     "data": {
      "text/plain": "     Foundation KitchenQual  TotRmsAbvGrd  WoodDeckSF  YrSold  1stFlrSF\n0        CBlock          TA             5         140    2010       896\n1        CBlock          Gd             6         393    2010      1329\n2         PConc          TA             6         212    2010       928\n3         PConc          Gd             7         360    2010       926\n4         PConc          Gd             5           0    2010      1280\n...         ...         ...           ...         ...     ...       ...\n1454     CBlock          TA             5           0    2006       546\n1455     CBlock          TA             6           0    2006       546\n1456     CBlock          TA             7         474    2006      1224\n1457      PConc          TA             6          80    2006       970\n1458      PConc          TA             9         190    2006       996\n\n[1459 rows x 6 columns]",
      "text/html": "<div>\n<style scoped>\n    .dataframe tbody tr th:only-of-type {\n        vertical-align: middle;\n    }\n\n    .dataframe tbody tr th {\n        vertical-align: top;\n    }\n\n    .dataframe thead th {\n        text-align: right;\n    }\n</style>\n<table border=\"1\" class=\"dataframe\">\n  <thead>\n    <tr style=\"text-align: right;\">\n      <th></th>\n      <th>Foundation</th>\n      <th>KitchenQual</th>\n      <th>TotRmsAbvGrd</th>\n      <th>WoodDeckSF</th>\n      <th>YrSold</th>\n      <th>1stFlrSF</th>\n    </tr>\n  </thead>\n  <tbody>\n    <tr>\n      <th>0</th>\n      <td>CBlock</td>\n      <td>TA</td>\n      <td>5</td>\n      <td>140</td>\n      <td>2010</td>\n      <td>896</td>\n    </tr>\n    <tr>\n      <th>1</th>\n      <td>CBlock</td>\n      <td>Gd</td>\n      <td>6</td>\n      <td>393</td>\n      <td>2010</td>\n      <td>1329</td>\n    </tr>\n    <tr>\n      <th>2</th>\n      <td>PConc</td>\n      <td>TA</td>\n      <td>6</td>\n      <td>212</td>\n      <td>2010</td>\n      <td>928</td>\n    </tr>\n    <tr>\n      <th>3</th>\n      <td>PConc</td>\n      <td>Gd</td>\n      <td>7</td>\n      <td>360</td>\n      <td>2010</td>\n      <td>926</td>\n    </tr>\n    <tr>\n      <th>4</th>\n      <td>PConc</td>\n      <td>Gd</td>\n      <td>5</td>\n      <td>0</td>\n      <td>2010</td>\n      <td>1280</td>\n    </tr>\n    <tr>\n      <th>...</th>\n      <td>...</td>\n      <td>...</td>\n      <td>...</td>\n      <td>...</td>\n      <td>...</td>\n      <td>...</td>\n    </tr>\n    <tr>\n      <th>1454</th>\n      <td>CBlock</td>\n      <td>TA</td>\n      <td>5</td>\n      <td>0</td>\n      <td>2006</td>\n      <td>546</td>\n    </tr>\n    <tr>\n      <th>1455</th>\n      <td>CBlock</td>\n      <td>TA</td>\n      <td>6</td>\n      <td>0</td>\n      <td>2006</td>\n      <td>546</td>\n    </tr>\n    <tr>\n      <th>1456</th>\n      <td>CBlock</td>\n      <td>TA</td>\n      <td>7</td>\n      <td>474</td>\n      <td>2006</td>\n      <td>1224</td>\n    </tr>\n    <tr>\n      <th>1457</th>\n      <td>PConc</td>\n      <td>TA</td>\n      <td>6</td>\n      <td>80</td>\n      <td>2006</td>\n      <td>970</td>\n    </tr>\n    <tr>\n      <th>1458</th>\n      <td>PConc</td>\n      <td>TA</td>\n      <td>9</td>\n      <td>190</td>\n      <td>2006</td>\n      <td>996</td>\n    </tr>\n  </tbody>\n</table>\n<p>1459 rows × 6 columns</p>\n</div>"
     },
     "execution_count": 39,
     "metadata": {},
     "output_type": "execute_result"
    }
   ],
   "source": [
    "df_test = df_test_loaded[useful_features]\n",
    "df_test"
   ]
  },
  {
   "cell_type": "code",
   "execution_count": 40,
   "id": "6e1c20a8-862d-4f7b-8650-fdb447c8f2d2",
   "metadata": {
    "ExecuteTime": {
     "end_time": "2023-10-27T10:11:06.632604300Z",
     "start_time": "2023-10-27T10:11:06.611961100Z"
    }
   },
   "outputs": [
    {
     "name": "stdout",
     "output_type": "stream",
     "text": [
      "<class 'pandas.core.frame.DataFrame'>\n",
      "RangeIndex: 1459 entries, 0 to 1458\n",
      "Data columns (total 6 columns):\n",
      " #   Column        Non-Null Count  Dtype \n",
      "---  ------        --------------  ----- \n",
      " 0   Foundation    1459 non-null   object\n",
      " 1   KitchenQual   1458 non-null   object\n",
      " 2   TotRmsAbvGrd  1459 non-null   int64 \n",
      " 3   WoodDeckSF    1459 non-null   int64 \n",
      " 4   YrSold        1459 non-null   int64 \n",
      " 5   1stFlrSF      1459 non-null   int64 \n",
      "dtypes: int64(4), object(2)\n",
      "memory usage: 68.5+ KB\n"
     ]
    }
   ],
   "source": [
    "df_test.info()"
   ]
  },
  {
   "cell_type": "code",
   "execution_count": 41,
   "id": "64dac338-3cd9-4c20-b3d6-4d81de8b8b6c",
   "metadata": {
    "ExecuteTime": {
     "end_time": "2023-10-27T10:11:08.539068500Z",
     "start_time": "2023-10-27T10:11:08.520070Z"
    }
   },
   "outputs": [
    {
     "data": {
      "text/plain": "28"
     },
     "execution_count": 41,
     "metadata": {},
     "output_type": "execute_result"
    }
   ],
   "source": [
    "df_test[useful_features].duplicated(keep='first').sum()"
   ]
  },
  {
   "cell_type": "code",
   "execution_count": 42,
   "id": "ef0d403e-1331-4f05-aa34-b2bbbf32f32e",
   "metadata": {
    "ExecuteTime": {
     "end_time": "2023-10-27T10:11:11.007941200Z",
     "start_time": "2023-10-27T10:11:10.974888100Z"
    }
   },
   "outputs": [
    {
     "data": {
      "text/plain": "        Id  MSSubClass MSZoning  LotFrontage  LotArea Street Alley LotShape  \\\n1423  1456          60       RL         62.0     7917   Pave   NaN      Reg   \n1424  1457          20       RL         85.0    13175   Pave   NaN      Reg   \n1425  1458          70       RL         66.0     9042   Pave   NaN      Reg   \n1426  1459          20       RL         68.0     9717   Pave   NaN      Reg   \n1427  1460          20       RL         75.0     9937   Pave   NaN      Reg   \n\n     LandContour Utilities  ... PoolArea PoolQC  Fence MiscFeature MiscVal  \\\n1423         Lvl    AllPub  ...        0    NaN    NaN         NaN       0   \n1424         Lvl    AllPub  ...        0    NaN  MnPrv         NaN       0   \n1425         Lvl    AllPub  ...        0    NaN  GdPrv        Shed    2500   \n1426         Lvl    AllPub  ...        0    NaN    NaN         NaN       0   \n1427         Lvl    AllPub  ...        0    NaN    NaN         NaN       0   \n\n     MoSold YrSold  SaleType  SaleCondition  SalePrice  \n1423      8   2007        WD         Normal     175000  \n1424      2   2010        WD         Normal     210000  \n1425      5   2010        WD         Normal     266500  \n1426      4   2010        WD         Normal     142125  \n1427      6   2008        WD         Normal     147500  \n\n[5 rows x 81 columns]",
      "text/html": "<div>\n<style scoped>\n    .dataframe tbody tr th:only-of-type {\n        vertical-align: middle;\n    }\n\n    .dataframe tbody tr th {\n        vertical-align: top;\n    }\n\n    .dataframe thead th {\n        text-align: right;\n    }\n</style>\n<table border=\"1\" class=\"dataframe\">\n  <thead>\n    <tr style=\"text-align: right;\">\n      <th></th>\n      <th>Id</th>\n      <th>MSSubClass</th>\n      <th>MSZoning</th>\n      <th>LotFrontage</th>\n      <th>LotArea</th>\n      <th>Street</th>\n      <th>Alley</th>\n      <th>LotShape</th>\n      <th>LandContour</th>\n      <th>Utilities</th>\n      <th>...</th>\n      <th>PoolArea</th>\n      <th>PoolQC</th>\n      <th>Fence</th>\n      <th>MiscFeature</th>\n      <th>MiscVal</th>\n      <th>MoSold</th>\n      <th>YrSold</th>\n      <th>SaleType</th>\n      <th>SaleCondition</th>\n      <th>SalePrice</th>\n    </tr>\n  </thead>\n  <tbody>\n    <tr>\n      <th>1423</th>\n      <td>1456</td>\n      <td>60</td>\n      <td>RL</td>\n      <td>62.0</td>\n      <td>7917</td>\n      <td>Pave</td>\n      <td>NaN</td>\n      <td>Reg</td>\n      <td>Lvl</td>\n      <td>AllPub</td>\n      <td>...</td>\n      <td>0</td>\n      <td>NaN</td>\n      <td>NaN</td>\n      <td>NaN</td>\n      <td>0</td>\n      <td>8</td>\n      <td>2007</td>\n      <td>WD</td>\n      <td>Normal</td>\n      <td>175000</td>\n    </tr>\n    <tr>\n      <th>1424</th>\n      <td>1457</td>\n      <td>20</td>\n      <td>RL</td>\n      <td>85.0</td>\n      <td>13175</td>\n      <td>Pave</td>\n      <td>NaN</td>\n      <td>Reg</td>\n      <td>Lvl</td>\n      <td>AllPub</td>\n      <td>...</td>\n      <td>0</td>\n      <td>NaN</td>\n      <td>MnPrv</td>\n      <td>NaN</td>\n      <td>0</td>\n      <td>2</td>\n      <td>2010</td>\n      <td>WD</td>\n      <td>Normal</td>\n      <td>210000</td>\n    </tr>\n    <tr>\n      <th>1425</th>\n      <td>1458</td>\n      <td>70</td>\n      <td>RL</td>\n      <td>66.0</td>\n      <td>9042</td>\n      <td>Pave</td>\n      <td>NaN</td>\n      <td>Reg</td>\n      <td>Lvl</td>\n      <td>AllPub</td>\n      <td>...</td>\n      <td>0</td>\n      <td>NaN</td>\n      <td>GdPrv</td>\n      <td>Shed</td>\n      <td>2500</td>\n      <td>5</td>\n      <td>2010</td>\n      <td>WD</td>\n      <td>Normal</td>\n      <td>266500</td>\n    </tr>\n    <tr>\n      <th>1426</th>\n      <td>1459</td>\n      <td>20</td>\n      <td>RL</td>\n      <td>68.0</td>\n      <td>9717</td>\n      <td>Pave</td>\n      <td>NaN</td>\n      <td>Reg</td>\n      <td>Lvl</td>\n      <td>AllPub</td>\n      <td>...</td>\n      <td>0</td>\n      <td>NaN</td>\n      <td>NaN</td>\n      <td>NaN</td>\n      <td>0</td>\n      <td>4</td>\n      <td>2010</td>\n      <td>WD</td>\n      <td>Normal</td>\n      <td>142125</td>\n    </tr>\n    <tr>\n      <th>1427</th>\n      <td>1460</td>\n      <td>20</td>\n      <td>RL</td>\n      <td>75.0</td>\n      <td>9937</td>\n      <td>Pave</td>\n      <td>NaN</td>\n      <td>Reg</td>\n      <td>Lvl</td>\n      <td>AllPub</td>\n      <td>...</td>\n      <td>0</td>\n      <td>NaN</td>\n      <td>NaN</td>\n      <td>NaN</td>\n      <td>0</td>\n      <td>6</td>\n      <td>2008</td>\n      <td>WD</td>\n      <td>Normal</td>\n      <td>147500</td>\n    </tr>\n  </tbody>\n</table>\n<p>5 rows × 81 columns</p>\n</div>"
     },
     "execution_count": 42,
     "metadata": {},
     "output_type": "execute_result"
    }
   ],
   "source": [
    "df_test = df_test[~df_test[useful_features].duplicated(keep='first')]\n",
    "df.tail()"
   ]
  },
  {
   "cell_type": "code",
   "execution_count": 43,
   "id": "1706971c-a7bb-41c8-94ed-8fd83bdf068c",
   "metadata": {
    "ExecuteTime": {
     "end_time": "2023-10-27T10:11:13.473635900Z",
     "start_time": "2023-10-27T10:11:13.443721400Z"
    }
   },
   "outputs": [],
   "source": [
    "df_test = df_test.dropna()"
   ]
  },
  {
   "cell_type": "code",
   "execution_count": 44,
   "id": "8d058f83-eea9-4831-81a5-cfd6bc01c0b7",
   "metadata": {
    "ExecuteTime": {
     "end_time": "2023-10-27T10:11:15.363985400Z",
     "start_time": "2023-10-27T10:11:15.314957900Z"
    }
   },
   "outputs": [
    {
     "name": "stdout",
     "output_type": "stream",
     "text": [
      "<class 'pandas.core.frame.DataFrame'>\n",
      "Index: 1430 entries, 0 to 1458\n",
      "Data columns (total 6 columns):\n",
      " #   Column        Non-Null Count  Dtype \n",
      "---  ------        --------------  ----- \n",
      " 0   Foundation    1430 non-null   object\n",
      " 1   KitchenQual   1430 non-null   object\n",
      " 2   TotRmsAbvGrd  1430 non-null   int64 \n",
      " 3   WoodDeckSF    1430 non-null   int64 \n",
      " 4   YrSold        1430 non-null   int64 \n",
      " 5   1stFlrSF      1430 non-null   int64 \n",
      "dtypes: int64(4), object(2)\n",
      "memory usage: 78.2+ KB\n"
     ]
    }
   ],
   "source": [
    "df_test.info()"
   ]
  },
  {
   "cell_type": "code",
   "execution_count": 58,
   "id": "9722e51b-80af-4ce1-8220-2a4c905b8b76",
   "metadata": {
    "ExecuteTime": {
     "end_time": "2023-10-27T10:32:17.255642600Z",
     "start_time": "2023-10-27T10:32:17.221644400Z"
    }
   },
   "outputs": [],
   "source": [
    "loaded_scaler = joblib.load('../models/scaler.joblib')\n",
    "loaded_encoder = joblib.load('../models/encoder.joblib')"
   ]
  },
  {
   "cell_type": "code",
   "execution_count": 48,
   "id": "98807eb0-c0a7-4e21-b623-a44959cd0f97",
   "metadata": {
    "ExecuteTime": {
     "end_time": "2023-10-27T10:11:45.506231900Z",
     "start_time": "2023-10-27T10:11:45.483405900Z"
    }
   },
   "outputs": [
    {
     "data": {
      "text/plain": "array([[-0.98960046,  0.34872724,  1.66025761, -0.69458231],\n       [-0.37686857,  2.35873514,  1.66025761,  0.40058126],\n       [-0.37686857,  0.9207453 ,  1.66025761, -0.61364643],\n       ...,\n       [ 0.23586332,  3.00225545, -1.38474244,  0.13501042],\n       [-0.37686857, -0.12795447, -1.38474244, -0.5074181 ],\n       [ 1.46132711,  0.74596201, -1.38474244, -0.4416577 ]])"
     },
     "execution_count": 48,
     "metadata": {},
     "output_type": "execute_result"
    }
   ],
   "source": [
    "scaled_columns_df_test = loaded_scaler.transform(df_test[continuous_columns])\n",
    "scaled_columns_df_test"
   ]
  },
  {
   "cell_type": "code",
   "execution_count": 49,
   "id": "a0bd6d33-3952-4311-8efb-cef4ab15a814",
   "metadata": {
    "ExecuteTime": {
     "end_time": "2023-10-27T10:11:49.058474200Z",
     "start_time": "2023-10-27T10:11:49.038475300Z"
    }
   },
   "outputs": [
    {
     "data": {
      "text/plain": "   TotRmsAbvGrd  WoodDeckSF    YrSold  1stFlrSF\n0     -0.989600    0.348727  1.660258 -0.694582\n1     -0.376869    2.358735  1.660258  0.400581\n2     -0.376869    0.920745  1.660258 -0.613646\n3      0.235863    2.096560  1.660258 -0.618705\n4     -0.989600   -0.763530  1.660258  0.276648",
      "text/html": "<div>\n<style scoped>\n    .dataframe tbody tr th:only-of-type {\n        vertical-align: middle;\n    }\n\n    .dataframe tbody tr th {\n        vertical-align: top;\n    }\n\n    .dataframe thead th {\n        text-align: right;\n    }\n</style>\n<table border=\"1\" class=\"dataframe\">\n  <thead>\n    <tr style=\"text-align: right;\">\n      <th></th>\n      <th>TotRmsAbvGrd</th>\n      <th>WoodDeckSF</th>\n      <th>YrSold</th>\n      <th>1stFlrSF</th>\n    </tr>\n  </thead>\n  <tbody>\n    <tr>\n      <th>0</th>\n      <td>-0.989600</td>\n      <td>0.348727</td>\n      <td>1.660258</td>\n      <td>-0.694582</td>\n    </tr>\n    <tr>\n      <th>1</th>\n      <td>-0.376869</td>\n      <td>2.358735</td>\n      <td>1.660258</td>\n      <td>0.400581</td>\n    </tr>\n    <tr>\n      <th>2</th>\n      <td>-0.376869</td>\n      <td>0.920745</td>\n      <td>1.660258</td>\n      <td>-0.613646</td>\n    </tr>\n    <tr>\n      <th>3</th>\n      <td>0.235863</td>\n      <td>2.096560</td>\n      <td>1.660258</td>\n      <td>-0.618705</td>\n    </tr>\n    <tr>\n      <th>4</th>\n      <td>-0.989600</td>\n      <td>-0.763530</td>\n      <td>1.660258</td>\n      <td>0.276648</td>\n    </tr>\n  </tbody>\n</table>\n</div>"
     },
     "execution_count": 49,
     "metadata": {},
     "output_type": "execute_result"
    }
   ],
   "source": [
    "df_test_continous_fts = pd.DataFrame(data=scaled_columns_df_test, columns=continuous_columns)\n",
    "df_test_continous_fts.head()"
   ]
  },
  {
   "cell_type": "code",
   "execution_count": 50,
   "id": "e4dbfe2d-9088-492c-b55c-748370599f1e",
   "metadata": {
    "ExecuteTime": {
     "end_time": "2023-10-27T10:11:50.980575100Z",
     "start_time": "2023-10-27T10:11:50.960578200Z"
    }
   },
   "outputs": [],
   "source": [
    "test_df_categorical_fts = loaded_encoder.transform(df_test[categorical_columns_list]).toarray()"
   ]
  },
  {
   "cell_type": "code",
   "execution_count": 51,
   "id": "21a7fa21-bf28-4021-ae78-90e99f07c0cd",
   "metadata": {
    "ExecuteTime": {
     "end_time": "2023-10-27T10:11:51.542135300Z",
     "start_time": "2023-10-27T10:11:51.485993200Z"
    }
   },
   "outputs": [
    {
     "data": {
      "text/plain": "      Foundation_BrkTil  Foundation_CBlock  Foundation_PConc  Foundation_Slab  \\\n0                   0.0                1.0               0.0              0.0   \n1                   0.0                1.0               0.0              0.0   \n2                   0.0                0.0               1.0              0.0   \n3                   0.0                0.0               1.0              0.0   \n4                   0.0                0.0               1.0              0.0   \n...                 ...                ...               ...              ...   \n1425                0.0                0.0               1.0              0.0   \n1426                0.0                1.0               0.0              0.0   \n1427                0.0                1.0               0.0              0.0   \n1428                0.0                0.0               1.0              0.0   \n1429                0.0                0.0               1.0              0.0   \n\n      Foundation_Stone  Foundation_Wood  KitchenQual_Ex  KitchenQual_Fa  \\\n0                  0.0              0.0             0.0             0.0   \n1                  0.0              0.0             0.0             0.0   \n2                  0.0              0.0             0.0             0.0   \n3                  0.0              0.0             0.0             0.0   \n4                  0.0              0.0             0.0             0.0   \n...                ...              ...             ...             ...   \n1425               0.0              0.0             0.0             0.0   \n1426               0.0              0.0             0.0             0.0   \n1427               0.0              0.0             0.0             0.0   \n1428               0.0              0.0             0.0             0.0   \n1429               0.0              0.0             0.0             0.0   \n\n      KitchenQual_Gd  KitchenQual_TA  \n0                0.0             1.0  \n1                1.0             0.0  \n2                0.0             1.0  \n3                1.0             0.0  \n4                1.0             0.0  \n...              ...             ...  \n1425             0.0             1.0  \n1426             0.0             1.0  \n1427             0.0             1.0  \n1428             0.0             1.0  \n1429             0.0             1.0  \n\n[1430 rows x 10 columns]",
      "text/html": "<div>\n<style scoped>\n    .dataframe tbody tr th:only-of-type {\n        vertical-align: middle;\n    }\n\n    .dataframe tbody tr th {\n        vertical-align: top;\n    }\n\n    .dataframe thead th {\n        text-align: right;\n    }\n</style>\n<table border=\"1\" class=\"dataframe\">\n  <thead>\n    <tr style=\"text-align: right;\">\n      <th></th>\n      <th>Foundation_BrkTil</th>\n      <th>Foundation_CBlock</th>\n      <th>Foundation_PConc</th>\n      <th>Foundation_Slab</th>\n      <th>Foundation_Stone</th>\n      <th>Foundation_Wood</th>\n      <th>KitchenQual_Ex</th>\n      <th>KitchenQual_Fa</th>\n      <th>KitchenQual_Gd</th>\n      <th>KitchenQual_TA</th>\n    </tr>\n  </thead>\n  <tbody>\n    <tr>\n      <th>0</th>\n      <td>0.0</td>\n      <td>1.0</td>\n      <td>0.0</td>\n      <td>0.0</td>\n      <td>0.0</td>\n      <td>0.0</td>\n      <td>0.0</td>\n      <td>0.0</td>\n      <td>0.0</td>\n      <td>1.0</td>\n    </tr>\n    <tr>\n      <th>1</th>\n      <td>0.0</td>\n      <td>1.0</td>\n      <td>0.0</td>\n      <td>0.0</td>\n      <td>0.0</td>\n      <td>0.0</td>\n      <td>0.0</td>\n      <td>0.0</td>\n      <td>1.0</td>\n      <td>0.0</td>\n    </tr>\n    <tr>\n      <th>2</th>\n      <td>0.0</td>\n      <td>0.0</td>\n      <td>1.0</td>\n      <td>0.0</td>\n      <td>0.0</td>\n      <td>0.0</td>\n      <td>0.0</td>\n      <td>0.0</td>\n      <td>0.0</td>\n      <td>1.0</td>\n    </tr>\n    <tr>\n      <th>3</th>\n      <td>0.0</td>\n      <td>0.0</td>\n      <td>1.0</td>\n      <td>0.0</td>\n      <td>0.0</td>\n      <td>0.0</td>\n      <td>0.0</td>\n      <td>0.0</td>\n      <td>1.0</td>\n      <td>0.0</td>\n    </tr>\n    <tr>\n      <th>4</th>\n      <td>0.0</td>\n      <td>0.0</td>\n      <td>1.0</td>\n      <td>0.0</td>\n      <td>0.0</td>\n      <td>0.0</td>\n      <td>0.0</td>\n      <td>0.0</td>\n      <td>1.0</td>\n      <td>0.0</td>\n    </tr>\n    <tr>\n      <th>...</th>\n      <td>...</td>\n      <td>...</td>\n      <td>...</td>\n      <td>...</td>\n      <td>...</td>\n      <td>...</td>\n      <td>...</td>\n      <td>...</td>\n      <td>...</td>\n      <td>...</td>\n    </tr>\n    <tr>\n      <th>1425</th>\n      <td>0.0</td>\n      <td>0.0</td>\n      <td>1.0</td>\n      <td>0.0</td>\n      <td>0.0</td>\n      <td>0.0</td>\n      <td>0.0</td>\n      <td>0.0</td>\n      <td>0.0</td>\n      <td>1.0</td>\n    </tr>\n    <tr>\n      <th>1426</th>\n      <td>0.0</td>\n      <td>1.0</td>\n      <td>0.0</td>\n      <td>0.0</td>\n      <td>0.0</td>\n      <td>0.0</td>\n      <td>0.0</td>\n      <td>0.0</td>\n      <td>0.0</td>\n      <td>1.0</td>\n    </tr>\n    <tr>\n      <th>1427</th>\n      <td>0.0</td>\n      <td>1.0</td>\n      <td>0.0</td>\n      <td>0.0</td>\n      <td>0.0</td>\n      <td>0.0</td>\n      <td>0.0</td>\n      <td>0.0</td>\n      <td>0.0</td>\n      <td>1.0</td>\n    </tr>\n    <tr>\n      <th>1428</th>\n      <td>0.0</td>\n      <td>0.0</td>\n      <td>1.0</td>\n      <td>0.0</td>\n      <td>0.0</td>\n      <td>0.0</td>\n      <td>0.0</td>\n      <td>0.0</td>\n      <td>0.0</td>\n      <td>1.0</td>\n    </tr>\n    <tr>\n      <th>1429</th>\n      <td>0.0</td>\n      <td>0.0</td>\n      <td>1.0</td>\n      <td>0.0</td>\n      <td>0.0</td>\n      <td>0.0</td>\n      <td>0.0</td>\n      <td>0.0</td>\n      <td>0.0</td>\n      <td>1.0</td>\n    </tr>\n  </tbody>\n</table>\n<p>1430 rows × 10 columns</p>\n</div>"
     },
     "execution_count": 51,
     "metadata": {},
     "output_type": "execute_result"
    }
   ],
   "source": [
    "df_test_categorical = pd.DataFrame(data = test_df_categorical_fts, columns= labels)\n",
    "df_test_categorical"
   ]
  },
  {
   "cell_type": "code",
   "execution_count": 52,
   "id": "1b505940-f0c3-410e-99fc-687683de2e78",
   "metadata": {
    "ExecuteTime": {
     "end_time": "2023-10-27T10:11:53.349504700Z",
     "start_time": "2023-10-27T10:11:53.303495100Z"
    }
   },
   "outputs": [
    {
     "data": {
      "text/plain": "   TotRmsAbvGrd  WoodDeckSF    YrSold  1stFlrSF  Foundation_BrkTil  \\\n0     -0.989600    0.348727  1.660258 -0.694582                0.0   \n1     -0.376869    2.358735  1.660258  0.400581                0.0   \n2     -0.376869    0.920745  1.660258 -0.613646                0.0   \n3      0.235863    2.096560  1.660258 -0.618705                0.0   \n4     -0.989600   -0.763530  1.660258  0.276648                0.0   \n\n   Foundation_CBlock  Foundation_PConc  Foundation_Slab  Foundation_Stone  \\\n0                1.0               0.0              0.0               0.0   \n1                1.0               0.0              0.0               0.0   \n2                0.0               1.0              0.0               0.0   \n3                0.0               1.0              0.0               0.0   \n4                0.0               1.0              0.0               0.0   \n\n   Foundation_Wood  KitchenQual_Ex  KitchenQual_Fa  KitchenQual_Gd  \\\n0              0.0             0.0             0.0             0.0   \n1              0.0             0.0             0.0             1.0   \n2              0.0             0.0             0.0             0.0   \n3              0.0             0.0             0.0             1.0   \n4              0.0             0.0             0.0             1.0   \n\n   KitchenQual_TA  \n0             1.0  \n1             0.0  \n2             1.0  \n3             0.0  \n4             0.0  ",
      "text/html": "<div>\n<style scoped>\n    .dataframe tbody tr th:only-of-type {\n        vertical-align: middle;\n    }\n\n    .dataframe tbody tr th {\n        vertical-align: top;\n    }\n\n    .dataframe thead th {\n        text-align: right;\n    }\n</style>\n<table border=\"1\" class=\"dataframe\">\n  <thead>\n    <tr style=\"text-align: right;\">\n      <th></th>\n      <th>TotRmsAbvGrd</th>\n      <th>WoodDeckSF</th>\n      <th>YrSold</th>\n      <th>1stFlrSF</th>\n      <th>Foundation_BrkTil</th>\n      <th>Foundation_CBlock</th>\n      <th>Foundation_PConc</th>\n      <th>Foundation_Slab</th>\n      <th>Foundation_Stone</th>\n      <th>Foundation_Wood</th>\n      <th>KitchenQual_Ex</th>\n      <th>KitchenQual_Fa</th>\n      <th>KitchenQual_Gd</th>\n      <th>KitchenQual_TA</th>\n    </tr>\n  </thead>\n  <tbody>\n    <tr>\n      <th>0</th>\n      <td>-0.989600</td>\n      <td>0.348727</td>\n      <td>1.660258</td>\n      <td>-0.694582</td>\n      <td>0.0</td>\n      <td>1.0</td>\n      <td>0.0</td>\n      <td>0.0</td>\n      <td>0.0</td>\n      <td>0.0</td>\n      <td>0.0</td>\n      <td>0.0</td>\n      <td>0.0</td>\n      <td>1.0</td>\n    </tr>\n    <tr>\n      <th>1</th>\n      <td>-0.376869</td>\n      <td>2.358735</td>\n      <td>1.660258</td>\n      <td>0.400581</td>\n      <td>0.0</td>\n      <td>1.0</td>\n      <td>0.0</td>\n      <td>0.0</td>\n      <td>0.0</td>\n      <td>0.0</td>\n      <td>0.0</td>\n      <td>0.0</td>\n      <td>1.0</td>\n      <td>0.0</td>\n    </tr>\n    <tr>\n      <th>2</th>\n      <td>-0.376869</td>\n      <td>0.920745</td>\n      <td>1.660258</td>\n      <td>-0.613646</td>\n      <td>0.0</td>\n      <td>0.0</td>\n      <td>1.0</td>\n      <td>0.0</td>\n      <td>0.0</td>\n      <td>0.0</td>\n      <td>0.0</td>\n      <td>0.0</td>\n      <td>0.0</td>\n      <td>1.0</td>\n    </tr>\n    <tr>\n      <th>3</th>\n      <td>0.235863</td>\n      <td>2.096560</td>\n      <td>1.660258</td>\n      <td>-0.618705</td>\n      <td>0.0</td>\n      <td>0.0</td>\n      <td>1.0</td>\n      <td>0.0</td>\n      <td>0.0</td>\n      <td>0.0</td>\n      <td>0.0</td>\n      <td>0.0</td>\n      <td>1.0</td>\n      <td>0.0</td>\n    </tr>\n    <tr>\n      <th>4</th>\n      <td>-0.989600</td>\n      <td>-0.763530</td>\n      <td>1.660258</td>\n      <td>0.276648</td>\n      <td>0.0</td>\n      <td>0.0</td>\n      <td>1.0</td>\n      <td>0.0</td>\n      <td>0.0</td>\n      <td>0.0</td>\n      <td>0.0</td>\n      <td>0.0</td>\n      <td>1.0</td>\n      <td>0.0</td>\n    </tr>\n  </tbody>\n</table>\n</div>"
     },
     "execution_count": 52,
     "metadata": {},
     "output_type": "execute_result"
    }
   ],
   "source": [
    "dataframe_test = df_test_continous_fts.join(df_test_categorical)\n",
    "dataframe_test.head()"
   ]
  },
  {
   "cell_type": "markdown",
   "id": "ae69a98c-4bc4-41fe-922a-cd4a18d3fda6",
   "metadata": {},
   "source": [
    "#### Loaded model from joblib"
   ]
  },
  {
   "cell_type": "code",
   "execution_count": 53,
   "id": "f3470a0c-2f88-4d5b-94cb-2201ffbd718f",
   "metadata": {
    "ExecuteTime": {
     "end_time": "2023-10-27T10:11:58.547674500Z",
     "start_time": "2023-10-27T10:11:58.526675900Z"
    }
   },
   "outputs": [],
   "source": [
    "loaded_model = joblib.load('../models/model.joblib')"
   ]
  },
  {
   "cell_type": "code",
   "execution_count": 54,
   "id": "faf8fd48-165b-4922-bea9-5f26a59ddee8",
   "metadata": {
    "ExecuteTime": {
     "end_time": "2023-10-27T10:11:59.627659Z",
     "start_time": "2023-10-27T10:11:59.594227500Z"
    }
   },
   "outputs": [],
   "source": [
    "y_pred_inference = loaded_model.predict(dataframe_test)"
   ]
  },
  {
   "cell_type": "code",
   "execution_count": 55,
   "id": "5a5a18ee-852a-43b7-9039-d92aeb2c7f8c",
   "metadata": {
    "ExecuteTime": {
     "end_time": "2023-10-27T10:12:00.581327900Z",
     "start_time": "2023-10-27T10:12:00.562330100Z"
    }
   },
   "outputs": [
    {
     "data": {
      "text/plain": "array([116745.48155931, 210038.65668825, 164615.56463793, ...,\n       192045.575932  , 159962.4757219 , 209724.41166686])"
     },
     "execution_count": 55,
     "metadata": {},
     "output_type": "execute_result"
    }
   ],
   "source": [
    "y_pred_inference"
   ]
  },
  {
   "cell_type": "code",
   "execution_count": 56,
   "id": "5392da66-765c-487d-8b66-8f95dab420db",
   "metadata": {
    "ExecuteTime": {
     "end_time": "2023-10-27T10:12:02.977155Z",
     "start_time": "2023-10-27T10:12:02.935158100Z"
    }
   },
   "outputs": [
    {
     "data": {
      "text/plain": "(1430,)"
     },
     "execution_count": 56,
     "metadata": {},
     "output_type": "execute_result"
    }
   ],
   "source": [
    "y_pred_inference.shape"
   ]
  },
  {
   "cell_type": "markdown",
   "id": "fc0a2a24",
   "metadata": {},
   "source": [
    "## Testing dataframe equality"
   ]
  },
  {
   "cell_type": "code",
   "execution_count": 74,
   "id": "75170408",
   "metadata": {},
   "outputs": [
    {
     "name": "stdout",
     "output_type": "stream",
     "text": [
      "processed_test_df.parquet\n",
      "processed_train_df.parquet\n",
      "test.csv\n",
      "train.csv\n"
     ]
    }
   ],
   "source": [
    "!ls ../data/house-prices/"
   ]
  },
  {
   "cell_type": "code",
   "execution_count": 73,
   "id": "16df2616-d2eb-411d-809c-5607782d10ff",
   "metadata": {},
   "outputs": [],
   "source": [
    "#dataframe_test.to_parquet(DATA_PATH + 'processed_test_df.parquet', index=False)"
   ]
  },
  {
   "cell_type": "code",
   "execution_count": 101,
   "id": "96fbf5f0",
   "metadata": {},
   "outputs": [
    {
     "data": {
      "text/html": [
       "<div>\n",
       "<style scoped>\n",
       "    .dataframe tbody tr th:only-of-type {\n",
       "        vertical-align: middle;\n",
       "    }\n",
       "\n",
       "    .dataframe tbody tr th {\n",
       "        vertical-align: top;\n",
       "    }\n",
       "\n",
       "    .dataframe thead th {\n",
       "        text-align: right;\n",
       "    }\n",
       "</style>\n",
       "<table border=\"1\" class=\"dataframe\">\n",
       "  <thead>\n",
       "    <tr style=\"text-align: right;\">\n",
       "      <th></th>\n",
       "      <th>TotRmsAbvGrd</th>\n",
       "      <th>WoodDeckSF</th>\n",
       "      <th>YrSold</th>\n",
       "      <th>1stFlrSF</th>\n",
       "      <th>Foundation_BrkTil</th>\n",
       "      <th>Foundation_CBlock</th>\n",
       "      <th>Foundation_PConc</th>\n",
       "      <th>Foundation_Slab</th>\n",
       "      <th>Foundation_Stone</th>\n",
       "      <th>Foundation_Wood</th>\n",
       "      <th>KitchenQual_Ex</th>\n",
       "      <th>KitchenQual_Fa</th>\n",
       "      <th>KitchenQual_Gd</th>\n",
       "      <th>KitchenQual_TA</th>\n",
       "    </tr>\n",
       "  </thead>\n",
       "  <tbody>\n",
       "    <tr>\n",
       "      <th>0</th>\n",
       "      <td>-0.989600</td>\n",
       "      <td>0.348727</td>\n",
       "      <td>1.660258</td>\n",
       "      <td>-0.694582</td>\n",
       "      <td>0.0</td>\n",
       "      <td>1.0</td>\n",
       "      <td>0.0</td>\n",
       "      <td>0.0</td>\n",
       "      <td>0.0</td>\n",
       "      <td>0.0</td>\n",
       "      <td>0.0</td>\n",
       "      <td>0.0</td>\n",
       "      <td>0.0</td>\n",
       "      <td>1.0</td>\n",
       "    </tr>\n",
       "    <tr>\n",
       "      <th>1</th>\n",
       "      <td>-0.376869</td>\n",
       "      <td>2.358735</td>\n",
       "      <td>1.660258</td>\n",
       "      <td>0.400581</td>\n",
       "      <td>0.0</td>\n",
       "      <td>1.0</td>\n",
       "      <td>0.0</td>\n",
       "      <td>0.0</td>\n",
       "      <td>0.0</td>\n",
       "      <td>0.0</td>\n",
       "      <td>0.0</td>\n",
       "      <td>0.0</td>\n",
       "      <td>1.0</td>\n",
       "      <td>0.0</td>\n",
       "    </tr>\n",
       "    <tr>\n",
       "      <th>2</th>\n",
       "      <td>-0.376869</td>\n",
       "      <td>0.920745</td>\n",
       "      <td>1.660258</td>\n",
       "      <td>-0.613646</td>\n",
       "      <td>0.0</td>\n",
       "      <td>0.0</td>\n",
       "      <td>1.0</td>\n",
       "      <td>0.0</td>\n",
       "      <td>0.0</td>\n",
       "      <td>0.0</td>\n",
       "      <td>0.0</td>\n",
       "      <td>0.0</td>\n",
       "      <td>0.0</td>\n",
       "      <td>1.0</td>\n",
       "    </tr>\n",
       "    <tr>\n",
       "      <th>3</th>\n",
       "      <td>0.235863</td>\n",
       "      <td>2.096560</td>\n",
       "      <td>1.660258</td>\n",
       "      <td>-0.618705</td>\n",
       "      <td>0.0</td>\n",
       "      <td>0.0</td>\n",
       "      <td>1.0</td>\n",
       "      <td>0.0</td>\n",
       "      <td>0.0</td>\n",
       "      <td>0.0</td>\n",
       "      <td>0.0</td>\n",
       "      <td>0.0</td>\n",
       "      <td>1.0</td>\n",
       "      <td>0.0</td>\n",
       "    </tr>\n",
       "    <tr>\n",
       "      <th>4</th>\n",
       "      <td>-0.989600</td>\n",
       "      <td>-0.763530</td>\n",
       "      <td>1.660258</td>\n",
       "      <td>0.276648</td>\n",
       "      <td>0.0</td>\n",
       "      <td>0.0</td>\n",
       "      <td>1.0</td>\n",
       "      <td>0.0</td>\n",
       "      <td>0.0</td>\n",
       "      <td>0.0</td>\n",
       "      <td>0.0</td>\n",
       "      <td>0.0</td>\n",
       "      <td>1.0</td>\n",
       "      <td>0.0</td>\n",
       "    </tr>\n",
       "  </tbody>\n",
       "</table>\n",
       "</div>"
      ],
      "text/plain": [
       "   TotRmsAbvGrd  WoodDeckSF    YrSold  1stFlrSF  Foundation_BrkTil  \\\n",
       "0     -0.989600    0.348727  1.660258 -0.694582                0.0   \n",
       "1     -0.376869    2.358735  1.660258  0.400581                0.0   \n",
       "2     -0.376869    0.920745  1.660258 -0.613646                0.0   \n",
       "3      0.235863    2.096560  1.660258 -0.618705                0.0   \n",
       "4     -0.989600   -0.763530  1.660258  0.276648                0.0   \n",
       "\n",
       "   Foundation_CBlock  Foundation_PConc  Foundation_Slab  Foundation_Stone  \\\n",
       "0                1.0               0.0              0.0               0.0   \n",
       "1                1.0               0.0              0.0               0.0   \n",
       "2                0.0               1.0              0.0               0.0   \n",
       "3                0.0               1.0              0.0               0.0   \n",
       "4                0.0               1.0              0.0               0.0   \n",
       "\n",
       "   Foundation_Wood  KitchenQual_Ex  KitchenQual_Fa  KitchenQual_Gd  \\\n",
       "0              0.0             0.0             0.0             0.0   \n",
       "1              0.0             0.0             0.0             1.0   \n",
       "2              0.0             0.0             0.0             0.0   \n",
       "3              0.0             0.0             0.0             1.0   \n",
       "4              0.0             0.0             0.0             1.0   \n",
       "\n",
       "   KitchenQual_TA  \n",
       "0             1.0  \n",
       "1             0.0  \n",
       "2             1.0  \n",
       "3             0.0  \n",
       "4             0.0  "
      ]
     },
     "execution_count": 101,
     "metadata": {},
     "output_type": "execute_result"
    }
   ],
   "source": [
    "processed_test_df = pd.read_parquet(DATA_PATH + 'processed_test_df.parquet')\n",
    "processed_test_df.head()"
   ]
  },
  {
   "cell_type": "code",
   "execution_count": 102,
   "id": "6edcf27a",
   "metadata": {},
   "outputs": [],
   "source": [
    "pd.testing.assert_frame_equal(processed_test_df, dataframe_test)"
   ]
  }
 ],
 "metadata": {
  "kernelspec": {
   "display_name": "Python 3 (ipykernel)",
   "language": "python",
   "name": "python3"
  },
  "language_info": {
   "codemirror_mode": {
    "name": "ipython",
    "version": 3
   },
   "file_extension": ".py",
   "mimetype": "text/x-python",
   "name": "python",
   "nbconvert_exporter": "python",
   "pygments_lexer": "ipython3",
   "version": "3.9.18"
  }
 },
 "nbformat": 4,
 "nbformat_minor": 5
}
